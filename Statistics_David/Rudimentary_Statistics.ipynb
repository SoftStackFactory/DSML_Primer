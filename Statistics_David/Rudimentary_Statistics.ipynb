{
 "cells": [
  {
   "cell_type": "markdown",
   "metadata": {},
   "source": [
    "# Statistics"
   ]
  },
  {
   "cell_type": "code",
   "execution_count": 77,
   "metadata": {
    "collapsed": true
   },
   "outputs": [],
   "source": [
    "import numpy as np"
   ]
  },
  {
   "cell_type": "markdown",
   "metadata": {},
   "source": [
    "### Statistics is a field of study concerned with collecting and analyzing data. \n",
    "### A well trained statistician is able to use the conclusions borne out from these analyses, to help a business make better decisions."
   ]
  },
  {
   "cell_type": "markdown",
   "metadata": {},
   "source": [
    "# Two main types of *activities* in Statistics: "
   ]
  },
  {
   "cell_type": "markdown",
   "metadata": {},
   "source": [
    "### Descriptive statistics: \n",
    "> Encompasses the many tools used to *DESCRIBE* data "
   ]
  },
  {
   "cell_type": "markdown",
   "metadata": {},
   "source": [
    "### Inferential statistics: \n",
    "> Encompasses the many tools used to *INFER* from data.   \n",
    "#### *Infer = Learn*"
   ]
  },
  {
   "cell_type": "markdown",
   "metadata": {},
   "source": [
    "# Central Tendency: Mean vs. Median."
   ]
  },
  {
   "cell_type": "markdown",
   "metadata": {},
   "source": [
    "> The Central Tendency of a set refers to the general behavior of the set at its *\"middle\"*\n",
    "##### Mean and Median are just 2 different definitions for this \"middle\" of the set."
   ]
  },
  {
   "cell_type": "markdown",
   "metadata": {},
   "source": [
    "# Mean\n",
    "### The *AVERAGE* value of a set\n",
    "<br>"
   ]
  },
  {
   "cell_type": "markdown",
   "metadata": {},
   "source": [
    "### Given a set X with n items: \n",
    "> X = (X1, X2, X3, ... Xn)"
   ]
  },
  {
   "cell_type": "markdown",
   "metadata": {},
   "source": [
    "### The MEAN can be generalized as: \n",
    "> MEAN = (1/n) * (X1 + X2 + X3 + ... + Xn)\n",
    "<br>"
   ]
  },
  {
   "cell_type": "markdown",
   "metadata": {},
   "source": [
    "### For Ex:\n",
    "##### Find MEAN for X = [1,10,3,4,7].\n",
    "> This is a set with n = 5 items; \n",
    "##### Therefore MEAN = (1/5) * (1 + 3 + 4 + 7 + 10)      = (1/5) * (25) = 25/5 = 5\n",
    "#### <font color = \"red\">MEAN = 5 </font>"
   ]
  },
  {
   "cell_type": "code",
   "execution_count": 78,
   "metadata": {},
   "outputs": [
    {
     "name": "stdout",
     "output_type": "stream",
     "text": [
      "mean: 5.0\n"
     ]
    }
   ],
   "source": [
    "# Verify using Numpy:\n",
    "a_set = 1,10,3,4,7\n",
    "mean = np.mean(a_set)\n",
    "\n",
    "print(\"mean:\", mean)"
   ]
  },
  {
   "cell_type": "markdown",
   "metadata": {},
   "source": [
    "#### The mean can be too sensitive to outliers, which is one reason why the median is sometimes used instead of the mean.\n",
    "<br><br>"
   ]
  },
  {
   "cell_type": "markdown",
   "metadata": {},
   "source": [
    "# Median\n",
    "### The MIDDLE value of an ORDERED set.\n",
    "<br>"
   ]
  },
  {
   "cell_type": "markdown",
   "metadata": {},
   "source": [
    "### Given an ordered set X with n items: \n",
    "> X = (X1, X2, X3, ... Xn)"
   ]
  },
  {
   "cell_type": "markdown",
   "metadata": {},
   "source": [
    "### The MEDIAN can be generalized as:"
   ]
  },
  {
   "cell_type": "markdown",
   "metadata": {},
   "source": [
    "#### If n = ODD\n",
    "> MEDIAN = X((n/2) + 1) \n",
    "#### In other words: Middle index of ordered set."
   ]
  },
  {
   "cell_type": "markdown",
   "metadata": {},
   "source": [
    "#### If n = EVEN\n",
    "> MEDIAN = 1/2 * [X(n/2) + X((n/2) + 1)] \n",
    "#### In other words: Average of both middle indices of an ordered set.\n",
    "<br><br>"
   ]
  },
  {
   "cell_type": "markdown",
   "metadata": {},
   "source": [
    "### For Ex: \n",
    "##### Find MEDIAN for X = [1,10,3,4,7].\n",
    "> First order the set: x = [1, 3, 4, 7, 10]\n",
    "##### Therefore MEDIAN = X(5/2 + 1) =  X(2 + 1) = X(3) = 4\n",
    "#### <font color = \"red\">MEDIAN = 4 </font>"
   ]
  },
  {
   "cell_type": "code",
   "execution_count": 79,
   "metadata": {},
   "outputs": [
    {
     "name": "stdout",
     "output_type": "stream",
     "text": [
      "median: 4.0\n"
     ]
    }
   ],
   "source": [
    "# Verify using Numpy:\n",
    "a_set = 1,10,3,4,7\n",
    "median = np.median(a_set)\n",
    "\n",
    "print(\"median:\", median)"
   ]
  },
  {
   "cell_type": "markdown",
   "metadata": {},
   "source": [
    "##### In this case we had the very same set but we calculated a different value for our Central Tendecy. \n",
    "#### <font color = \"red\">MEAN = 5 || MEDIAN = 4</font>"
   ]
  },
  {
   "cell_type": "markdown",
   "metadata": {},
   "source": [
    "# Data Spread: Variance Vs. Standard Deviation."
   ]
  },
  {
   "cell_type": "markdown",
   "metadata": {},
   "source": [
    "> Variance and Std. Deviation are values that refer to the \"spread\" of a dataset\n",
    "aka distance between the individual points of a given set."
   ]
  },
  {
   "cell_type": "markdown",
   "metadata": {},
   "source": [
    "# Variance"
   ]
  },
  {
   "cell_type": "markdown",
   "metadata": {},
   "source": [
    "### The VARIANCE uses the MEAN to calculate spread."
   ]
  },
  {
   "cell_type": "markdown",
   "metadata": {},
   "source": [
    "### Given an ordered set X with n items and MEAN M: \n",
    "> X = (X1, X2, X3, ... Xn) || mean = M"
   ]
  },
  {
   "cell_type": "markdown",
   "metadata": {},
   "source": [
    "### The VARIANCE can be generalized as:\n",
    "> VARIANCE = [Sum[(X - MEAN)^2]] / n \n",
    "#### where X stands for each element in set."
   ]
  },
  {
   "cell_type": "markdown",
   "metadata": {},
   "source": [
    "> Formula: $$\\sigma^2 = \\frac{\\displaystyle\\sum_{i=1}^{n}(x_i - M)^2} {n}$$"
   ]
  },
  {
   "cell_type": "markdown",
   "metadata": {},
   "source": [
    "### For Ex:\n",
    "##### Find VARIANCE for X = [1,10,3,4,7].\n",
    "> Take each difference (Xi - MEAN). Square it. Then average the result:\n",
    "#### σ2\t=\t [ (1-5)^2 + (10-5)^2 + (3-5)^2 + (4-5)^2 + (7-5)^2 ] / 5\n",
    "#### σ2\t=\t [ (-4)^2 + (5)^2 + (-2)^2 + (-1)^2 + (2)^2 ] / 5\n",
    "#### σ2\t=\t [ 16 + 25 + 4 + 1 + 4 ] / 5\n",
    "#### σ2\t=\t [ 50 ] / 5\n",
    "#### σ2 =    10.0"
   ]
  },
  {
   "cell_type": "code",
   "execution_count": 80,
   "metadata": {},
   "outputs": [
    {
     "name": "stdout",
     "output_type": "stream",
     "text": [
      "variance: 10.0\n"
     ]
    }
   ],
   "source": [
    "# Verify using Numpy:\n",
    "a_set = 1,10,3,4,7\n",
    "variance = np.var(a_set)\n",
    "\n",
    "print(\"variance:\", variance)"
   ]
  },
  {
   "cell_type": "markdown",
   "metadata": {},
   "source": [
    "# Standard Deviation"
   ]
  },
  {
   "cell_type": "markdown",
   "metadata": {},
   "source": [
    "### The STD Deviation is a measure of VARIANCE."
   ]
  },
  {
   "cell_type": "markdown",
   "metadata": {},
   "source": [
    "### Given an ordered set X with n items and MEAN M: \n",
    "> X = (X1, X2, X3, ... Xn) || mean = M"
   ]
  },
  {
   "cell_type": "markdown",
   "metadata": {},
   "source": [
    "### The STD DEVIATION can be generalized as:"
   ]
  },
  {
   "cell_type": "markdown",
   "metadata": {},
   "source": [
    "> Formula: Notice it is simply the square root of the variance equation.\n",
    "#### $$SD = \\sqrt{\\frac{\\displaystyle\\sum_{i=1}^{n}(x_i - M)^2} {n}}$$"
   ]
  },
  {
   "cell_type": "markdown",
   "metadata": {},
   "source": [
    "### For Ex:\n",
    "##### Find STANDARD DEVIATION for X = [1,10,3,4,7].\n",
    "> Find The Variance: SEE ABOVE.\n",
    "#### SD = Square Root(Variance)\n",
    "#### SD = Square Root(10.0)\n",
    "#### SD = 3.162277..."
   ]
  },
  {
   "cell_type": "code",
   "execution_count": 81,
   "metadata": {},
   "outputs": [
    {
     "name": "stdout",
     "output_type": "stream",
     "text": [
      "Standard Dev: 3.16227766017\n"
     ]
    }
   ],
   "source": [
    "# Verify using Numpy:\n",
    "a_set = 1,10,3,4,7\n",
    "std_dev = np.std(a_set)\n",
    "\n",
    "print(\"Standard Dev:\", std_dev)"
   ]
  },
  {
   "cell_type": "markdown",
   "metadata": {},
   "source": [
    "# Pulling It All Together!"
   ]
  },
  {
   "cell_type": "code",
   "execution_count": 82,
   "metadata": {},
   "outputs": [
    {
     "name": "stdout",
     "output_type": "stream",
     "text": [
      "[11.11, 19.55, 22.12, 27.31, 37.89, 39.33, 44.64, 53.18, 53.79]\n"
     ]
    }
   ],
   "source": [
    "# X is a Python List\n",
    "X = [37.89, 53.18, 27.31, 39.33, 44.64, 53.79, 11.11, 22.12, 19.55]\n",
    "\n",
    "# Sorting the data and printing it.\n",
    "X.sort()\n",
    "print(X)\n",
    "# [13.75, 21.52, 32.32, 43.34, 43.47, 44.32, 55.63, 56.98]"
   ]
  },
  {
   "cell_type": "code",
   "execution_count": 83,
   "metadata": {
    "collapsed": true
   },
   "outputs": [],
   "source": [
    "# Using NumPy's built-in functions to Find Mean, Median, Variance and Standard Deviation\n",
    "mean = np.mean(X)\n",
    "median = np.median(X)\n",
    "variance = np.var(X)\n",
    "sd = np.std(X)"
   ]
  },
  {
   "cell_type": "code",
   "execution_count": 84,
   "metadata": {},
   "outputs": [
    {
     "name": "stdout",
     "output_type": "stream",
     "text": [
      "Mean: 34.3244444444\n",
      "Median: 37.89\n",
      "Variance: 203.773869136\n",
      "Standard Deviation: 14.2749384985\n"
     ]
    }
   ],
   "source": [
    "# Printing the values\n",
    "print(\"Mean:\", mean)\n",
    "print(\"Median:\", median)\n",
    "print(\"Variance:\", variance)\n",
    "print(\"Standard Deviation:\", sd) "
   ]
  }
 ],
 "metadata": {
  "kernelspec": {
   "display_name": "Python 3",
   "language": "python",
   "name": "python3"
  },
  "language_info": {
   "codemirror_mode": {
    "name": "ipython",
    "version": 3
   },
   "file_extension": ".py",
   "mimetype": "text/x-python",
   "name": "python",
   "nbconvert_exporter": "python",
   "pygments_lexer": "ipython3",
   "version": "3.6.3"
  }
 },
 "nbformat": 4,
 "nbformat_minor": 2
}
