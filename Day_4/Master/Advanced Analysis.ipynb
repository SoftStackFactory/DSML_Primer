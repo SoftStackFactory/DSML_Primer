{
 "cells": [
  {
   "cell_type": "code",
   "execution_count": 1,
   "metadata": {},
   "outputs": [],
   "source": [
    "import pandas as pd\n",
    "import numpy as np"
   ]
  },
  {
   "cell_type": "code",
   "execution_count": 2,
   "metadata": {},
   "outputs": [
    {
     "name": "stdout",
     "output_type": "stream",
     "text": [
      "(100798, 10)\n"
     ]
    },
    {
     "data": {
      "text/html": [
       "<div>\n",
       "<style scoped>\n",
       "    .dataframe tbody tr th:only-of-type {\n",
       "        vertical-align: middle;\n",
       "    }\n",
       "\n",
       "    .dataframe tbody tr th {\n",
       "        vertical-align: top;\n",
       "    }\n",
       "\n",
       "    .dataframe thead th {\n",
       "        text-align: right;\n",
       "    }\n",
       "</style>\n",
       "<table border=\"1\" class=\"dataframe\">\n",
       "  <thead>\n",
       "    <tr style=\"text-align: right;\">\n",
       "      <th></th>\n",
       "      <th>year</th>\n",
       "      <th>month</th>\n",
       "      <th>intent</th>\n",
       "      <th>police</th>\n",
       "      <th>sex</th>\n",
       "      <th>age</th>\n",
       "      <th>race</th>\n",
       "      <th>hispanic</th>\n",
       "      <th>place</th>\n",
       "      <th>education</th>\n",
       "    </tr>\n",
       "  </thead>\n",
       "  <tbody>\n",
       "    <tr>\n",
       "      <th>0</th>\n",
       "      <td>2012</td>\n",
       "      <td>1</td>\n",
       "      <td>Suicide</td>\n",
       "      <td>0</td>\n",
       "      <td>M</td>\n",
       "      <td>34.0</td>\n",
       "      <td>Asian/Pacific Islander</td>\n",
       "      <td>100</td>\n",
       "      <td>Home</td>\n",
       "      <td>4.0</td>\n",
       "    </tr>\n",
       "    <tr>\n",
       "      <th>1</th>\n",
       "      <td>2012</td>\n",
       "      <td>1</td>\n",
       "      <td>Suicide</td>\n",
       "      <td>0</td>\n",
       "      <td>F</td>\n",
       "      <td>21.0</td>\n",
       "      <td>White</td>\n",
       "      <td>100</td>\n",
       "      <td>Street</td>\n",
       "      <td>3.0</td>\n",
       "    </tr>\n",
       "    <tr>\n",
       "      <th>2</th>\n",
       "      <td>2012</td>\n",
       "      <td>1</td>\n",
       "      <td>Suicide</td>\n",
       "      <td>0</td>\n",
       "      <td>M</td>\n",
       "      <td>60.0</td>\n",
       "      <td>White</td>\n",
       "      <td>100</td>\n",
       "      <td>Other specified</td>\n",
       "      <td>4.0</td>\n",
       "    </tr>\n",
       "    <tr>\n",
       "      <th>3</th>\n",
       "      <td>2012</td>\n",
       "      <td>2</td>\n",
       "      <td>Suicide</td>\n",
       "      <td>0</td>\n",
       "      <td>M</td>\n",
       "      <td>64.0</td>\n",
       "      <td>White</td>\n",
       "      <td>100</td>\n",
       "      <td>Home</td>\n",
       "      <td>4.0</td>\n",
       "    </tr>\n",
       "    <tr>\n",
       "      <th>4</th>\n",
       "      <td>2012</td>\n",
       "      <td>2</td>\n",
       "      <td>Suicide</td>\n",
       "      <td>0</td>\n",
       "      <td>M</td>\n",
       "      <td>31.0</td>\n",
       "      <td>White</td>\n",
       "      <td>100</td>\n",
       "      <td>Other specified</td>\n",
       "      <td>2.0</td>\n",
       "    </tr>\n",
       "  </tbody>\n",
       "</table>\n",
       "</div>"
      ],
      "text/plain": [
       "   year  month   intent  police sex   age                    race  hispanic  \\\n",
       "0  2012      1  Suicide       0   M  34.0  Asian/Pacific Islander       100   \n",
       "1  2012      1  Suicide       0   F  21.0                   White       100   \n",
       "2  2012      1  Suicide       0   M  60.0                   White       100   \n",
       "3  2012      2  Suicide       0   M  64.0                   White       100   \n",
       "4  2012      2  Suicide       0   M  31.0                   White       100   \n",
       "\n",
       "             place  education  \n",
       "0             Home        4.0  \n",
       "1           Street        3.0  \n",
       "2  Other specified        4.0  \n",
       "3             Home        4.0  \n",
       "4  Other specified        2.0  "
      ]
     },
     "execution_count": 2,
     "metadata": {},
     "output_type": "execute_result"
    }
   ],
   "source": [
    "guns = pd.read_csv('project_files/guns.csv')\n",
    "print(guns.shape)\n",
    "guns.head()"
   ]
  },
  {
   "cell_type": "code",
   "execution_count": 3,
   "metadata": {},
   "outputs": [
    {
     "data": {
      "text/html": [
       "<div>\n",
       "<style scoped>\n",
       "    .dataframe tbody tr th:only-of-type {\n",
       "        vertical-align: middle;\n",
       "    }\n",
       "\n",
       "    .dataframe tbody tr th {\n",
       "        vertical-align: top;\n",
       "    }\n",
       "\n",
       "    .dataframe thead th {\n",
       "        text-align: right;\n",
       "    }\n",
       "</style>\n",
       "<table border=\"1\" class=\"dataframe\">\n",
       "  <thead>\n",
       "    <tr style=\"text-align: right;\">\n",
       "      <th></th>\n",
       "      <th>year</th>\n",
       "      <th>month</th>\n",
       "      <th>intent</th>\n",
       "      <th>police</th>\n",
       "      <th>sex</th>\n",
       "      <th>age</th>\n",
       "      <th>race</th>\n",
       "      <th>hispanic</th>\n",
       "      <th>place</th>\n",
       "      <th>education</th>\n",
       "    </tr>\n",
       "    <tr>\n",
       "      <th>Index</th>\n",
       "      <th></th>\n",
       "      <th></th>\n",
       "      <th></th>\n",
       "      <th></th>\n",
       "      <th></th>\n",
       "      <th></th>\n",
       "      <th></th>\n",
       "      <th></th>\n",
       "      <th></th>\n",
       "      <th></th>\n",
       "    </tr>\n",
       "  </thead>\n",
       "  <tbody>\n",
       "    <tr>\n",
       "      <th>0</th>\n",
       "      <td>2012</td>\n",
       "      <td>1</td>\n",
       "      <td>Suicide</td>\n",
       "      <td>0</td>\n",
       "      <td>M</td>\n",
       "      <td>34.0</td>\n",
       "      <td>Asian/Pacific Islander</td>\n",
       "      <td>100</td>\n",
       "      <td>Home</td>\n",
       "      <td>4.0</td>\n",
       "    </tr>\n",
       "    <tr>\n",
       "      <th>1</th>\n",
       "      <td>2012</td>\n",
       "      <td>1</td>\n",
       "      <td>Suicide</td>\n",
       "      <td>0</td>\n",
       "      <td>F</td>\n",
       "      <td>21.0</td>\n",
       "      <td>White</td>\n",
       "      <td>100</td>\n",
       "      <td>Street</td>\n",
       "      <td>3.0</td>\n",
       "    </tr>\n",
       "    <tr>\n",
       "      <th>2</th>\n",
       "      <td>2012</td>\n",
       "      <td>1</td>\n",
       "      <td>Suicide</td>\n",
       "      <td>0</td>\n",
       "      <td>M</td>\n",
       "      <td>60.0</td>\n",
       "      <td>White</td>\n",
       "      <td>100</td>\n",
       "      <td>Other specified</td>\n",
       "      <td>4.0</td>\n",
       "    </tr>\n",
       "    <tr>\n",
       "      <th>3</th>\n",
       "      <td>2012</td>\n",
       "      <td>2</td>\n",
       "      <td>Suicide</td>\n",
       "      <td>0</td>\n",
       "      <td>M</td>\n",
       "      <td>64.0</td>\n",
       "      <td>White</td>\n",
       "      <td>100</td>\n",
       "      <td>Home</td>\n",
       "      <td>4.0</td>\n",
       "    </tr>\n",
       "    <tr>\n",
       "      <th>4</th>\n",
       "      <td>2012</td>\n",
       "      <td>2</td>\n",
       "      <td>Suicide</td>\n",
       "      <td>0</td>\n",
       "      <td>M</td>\n",
       "      <td>31.0</td>\n",
       "      <td>White</td>\n",
       "      <td>100</td>\n",
       "      <td>Other specified</td>\n",
       "      <td>2.0</td>\n",
       "    </tr>\n",
       "  </tbody>\n",
       "</table>\n",
       "</div>"
      ],
      "text/plain": [
       "       year  month   intent  police sex   age                    race  \\\n",
       "Index                                                                   \n",
       "0      2012      1  Suicide       0   M  34.0  Asian/Pacific Islander   \n",
       "1      2012      1  Suicide       0   F  21.0                   White   \n",
       "2      2012      1  Suicide       0   M  60.0                   White   \n",
       "3      2012      2  Suicide       0   M  64.0                   White   \n",
       "4      2012      2  Suicide       0   M  31.0                   White   \n",
       "\n",
       "       hispanic            place  education  \n",
       "Index                                        \n",
       "0           100             Home        4.0  \n",
       "1           100           Street        3.0  \n",
       "2           100  Other specified        4.0  \n",
       "3           100             Home        4.0  \n",
       "4           100  Other specified        2.0  "
      ]
     },
     "execution_count": 3,
     "metadata": {},
     "output_type": "execute_result"
    }
   ],
   "source": [
    "guns.index.name = 'Index'\n",
    "guns.head()"
   ]
  },
  {
   "cell_type": "code",
   "execution_count": 4,
   "metadata": {},
   "outputs": [
    {
     "data": {
      "text/plain": [
       "Index(['Year', 'Month', 'Intent', 'Police', 'Sex', 'Age', 'Race', 'Hispanic',\n",
       "       'Place', 'Education'],\n",
       "      dtype='object')"
      ]
     },
     "execution_count": 4,
     "metadata": {},
     "output_type": "execute_result"
    }
   ],
   "source": [
    "# for readability and concistency - capitalizing column names\n",
    "guns.columns = map(str.capitalize, guns.columns)\n",
    "guns.columns\n"
   ]
  },
  {
   "cell_type": "code",
   "execution_count": 5,
   "metadata": {},
   "outputs": [
    {
     "data": {
      "text/plain": [
       "Year           int64\n",
       "Month          int64\n",
       "Intent        object\n",
       "Police         int64\n",
       "Sex           object\n",
       "Age          float64\n",
       "Race          object\n",
       "Hispanic       int64\n",
       "Place         object\n",
       "Education    float64\n",
       "dtype: object"
      ]
     },
     "execution_count": 5,
     "metadata": {},
     "output_type": "execute_result"
    }
   ],
   "source": [
    "guns.dtypes"
   ]
  },
  {
   "cell_type": "code",
   "execution_count": 6,
   "metadata": {},
   "outputs": [
    {
     "data": {
      "text/plain": [
       "Year         100798\n",
       "Month        100798\n",
       "Intent       100797\n",
       "Police       100798\n",
       "Sex          100798\n",
       "Age          100780\n",
       "Race         100798\n",
       "Hispanic     100798\n",
       "Place         99414\n",
       "Education    100745\n",
       "dtype: int64"
      ]
     },
     "execution_count": 6,
     "metadata": {},
     "output_type": "execute_result"
    }
   ],
   "source": [
    "guns.notnull().sum()"
   ]
  },
  {
   "cell_type": "code",
   "execution_count": 7,
   "metadata": {},
   "outputs": [
    {
     "data": {
      "text/plain": [
       "Year         100.000000\n",
       "Month        100.000000\n",
       "Intent        99.999008\n",
       "Police       100.000000\n",
       "Sex          100.000000\n",
       "Age           99.982143\n",
       "Race         100.000000\n",
       "Hispanic     100.000000\n",
       "Place         98.626957\n",
       "Education     99.947420\n",
       "dtype: float64"
      ]
     },
     "execution_count": 7,
     "metadata": {},
     "output_type": "execute_result"
    }
   ],
   "source": [
    "# In order to see the percentage of valid data:\n",
    "guns.notnull().sum() * 100.0/guns.shape[0]"
   ]
  },
  {
   "cell_type": "code",
   "execution_count": 8,
   "metadata": {},
   "outputs": [
    {
     "data": {
      "text/html": [
       "<div>\n",
       "<style scoped>\n",
       "    .dataframe tbody tr th:only-of-type {\n",
       "        vertical-align: middle;\n",
       "    }\n",
       "\n",
       "    .dataframe tbody tr th {\n",
       "        vertical-align: top;\n",
       "    }\n",
       "\n",
       "    .dataframe thead th {\n",
       "        text-align: right;\n",
       "    }\n",
       "</style>\n",
       "<table border=\"1\" class=\"dataframe\">\n",
       "  <thead>\n",
       "    <tr style=\"text-align: right;\">\n",
       "      <th></th>\n",
       "      <th>Year</th>\n",
       "      <th>Month</th>\n",
       "      <th>Intent</th>\n",
       "      <th>Police</th>\n",
       "      <th>Sex</th>\n",
       "      <th>Age</th>\n",
       "      <th>Race</th>\n",
       "      <th>Hispanic</th>\n",
       "      <th>Place</th>\n",
       "      <th>Education</th>\n",
       "    </tr>\n",
       "    <tr>\n",
       "      <th>Index</th>\n",
       "      <th></th>\n",
       "      <th></th>\n",
       "      <th></th>\n",
       "      <th></th>\n",
       "      <th></th>\n",
       "      <th></th>\n",
       "      <th></th>\n",
       "      <th></th>\n",
       "      <th></th>\n",
       "      <th></th>\n",
       "    </tr>\n",
       "  </thead>\n",
       "  <tbody>\n",
       "    <tr>\n",
       "      <th>0</th>\n",
       "      <td>2012</td>\n",
       "      <td>1</td>\n",
       "      <td>Suicide</td>\n",
       "      <td>0</td>\n",
       "      <td>M</td>\n",
       "      <td>34.0</td>\n",
       "      <td>Asian/Pacific Islander</td>\n",
       "      <td>100</td>\n",
       "      <td>Home</td>\n",
       "      <td>4.0</td>\n",
       "    </tr>\n",
       "    <tr>\n",
       "      <th>1</th>\n",
       "      <td>2012</td>\n",
       "      <td>1</td>\n",
       "      <td>Suicide</td>\n",
       "      <td>0</td>\n",
       "      <td>F</td>\n",
       "      <td>21.0</td>\n",
       "      <td>White</td>\n",
       "      <td>100</td>\n",
       "      <td>Street</td>\n",
       "      <td>3.0</td>\n",
       "    </tr>\n",
       "    <tr>\n",
       "      <th>2</th>\n",
       "      <td>2012</td>\n",
       "      <td>1</td>\n",
       "      <td>Suicide</td>\n",
       "      <td>0</td>\n",
       "      <td>M</td>\n",
       "      <td>60.0</td>\n",
       "      <td>White</td>\n",
       "      <td>100</td>\n",
       "      <td>Other specified</td>\n",
       "      <td>4.0</td>\n",
       "    </tr>\n",
       "    <tr>\n",
       "      <th>11</th>\n",
       "      <td>2012</td>\n",
       "      <td>1</td>\n",
       "      <td>Suicide</td>\n",
       "      <td>0</td>\n",
       "      <td>M</td>\n",
       "      <td>21.0</td>\n",
       "      <td>Native American/Native Alaskan</td>\n",
       "      <td>100</td>\n",
       "      <td>Home</td>\n",
       "      <td>2.0</td>\n",
       "    </tr>\n",
       "    <tr>\n",
       "      <th>134</th>\n",
       "      <td>2012</td>\n",
       "      <td>1</td>\n",
       "      <td>suicide</td>\n",
       "      <td>0</td>\n",
       "      <td>F</td>\n",
       "      <td>59.0</td>\n",
       "      <td>White</td>\n",
       "      <td>100</td>\n",
       "      <td>Home</td>\n",
       "      <td>2.0</td>\n",
       "    </tr>\n",
       "    <tr>\n",
       "      <th>135</th>\n",
       "      <td>2012</td>\n",
       "      <td>1</td>\n",
       "      <td>suicide</td>\n",
       "      <td>0</td>\n",
       "      <td>F</td>\n",
       "      <td>30.0</td>\n",
       "      <td>White</td>\n",
       "      <td>100</td>\n",
       "      <td>Other unspecified</td>\n",
       "      <td>4.0</td>\n",
       "    </tr>\n",
       "    <tr>\n",
       "      <th>136</th>\n",
       "      <td>2012</td>\n",
       "      <td>1</td>\n",
       "      <td>Homicide</td>\n",
       "      <td>0</td>\n",
       "      <td>M</td>\n",
       "      <td>58.0</td>\n",
       "      <td>Black</td>\n",
       "      <td>100</td>\n",
       "      <td>Home</td>\n",
       "      <td>1.0</td>\n",
       "    </tr>\n",
       "    <tr>\n",
       "      <th>137</th>\n",
       "      <td>2012</td>\n",
       "      <td>1</td>\n",
       "      <td>suicide</td>\n",
       "      <td>0</td>\n",
       "      <td>M</td>\n",
       "      <td>78.0</td>\n",
       "      <td>White</td>\n",
       "      <td>100</td>\n",
       "      <td>Home</td>\n",
       "      <td>4.0</td>\n",
       "    </tr>\n",
       "    <tr>\n",
       "      <th>138</th>\n",
       "      <td>2012</td>\n",
       "      <td>1</td>\n",
       "      <td>suicide</td>\n",
       "      <td>0</td>\n",
       "      <td>M</td>\n",
       "      <td>60.0</td>\n",
       "      <td>White</td>\n",
       "      <td>100</td>\n",
       "      <td>Other unspecified</td>\n",
       "      <td>1.0</td>\n",
       "    </tr>\n",
       "    <tr>\n",
       "      <th>139</th>\n",
       "      <td>2012</td>\n",
       "      <td>1</td>\n",
       "      <td>accident</td>\n",
       "      <td>0</td>\n",
       "      <td>M</td>\n",
       "      <td>61.0</td>\n",
       "      <td>White</td>\n",
       "      <td>100</td>\n",
       "      <td>Home</td>\n",
       "      <td>2.0</td>\n",
       "    </tr>\n",
       "  </tbody>\n",
       "</table>\n",
       "</div>"
      ],
      "text/plain": [
       "       Year  Month    Intent  Police Sex   Age  \\\n",
       "Index                                            \n",
       "0      2012      1   Suicide       0   M  34.0   \n",
       "1      2012      1   Suicide       0   F  21.0   \n",
       "2      2012      1   Suicide       0   M  60.0   \n",
       "11     2012      1   Suicide       0   M  21.0   \n",
       "134    2012      1   suicide       0   F  59.0   \n",
       "135    2012      1   suicide       0   F  30.0   \n",
       "136    2012      1  Homicide       0   M  58.0   \n",
       "137    2012      1   suicide       0   M  78.0   \n",
       "138    2012      1   suicide       0   M  60.0   \n",
       "139    2012      1  accident       0   M  61.0   \n",
       "\n",
       "                                 Race  Hispanic              Place  Education  \n",
       "Index                                                                          \n",
       "0              Asian/Pacific Islander       100               Home        4.0  \n",
       "1                               White       100             Street        3.0  \n",
       "2                               White       100    Other specified        4.0  \n",
       "11     Native American/Native Alaskan       100               Home        2.0  \n",
       "134                             White       100               Home        2.0  \n",
       "135                             White       100  Other unspecified        4.0  \n",
       "136                             Black       100               Home        1.0  \n",
       "137                             White       100               Home        4.0  \n",
       "138                             White       100  Other unspecified        1.0  \n",
       "139                             White       100               Home        2.0  "
      ]
     },
     "execution_count": 8,
     "metadata": {},
     "output_type": "execute_result"
    }
   ],
   "source": [
    "# Organizing the data by a column value: first by the year, then by month:\n",
    "guns.sort_values(['Year', 'Month'], inplace=True)\n",
    "guns.head(10)"
   ]
  },
  {
   "cell_type": "markdown",
   "metadata": {},
   "source": [
    "# Exploring and analyzing the data"
   ]
  },
  {
   "cell_type": "code",
   "execution_count": 9,
   "metadata": {},
   "outputs": [
    {
     "data": {
      "text/plain": [
       "Suicide         62138\n",
       "Homicide        34192\n",
       "Accidental       1121\n",
       "suicide          1037\n",
       "Murder            984\n",
       "Undetermined      807\n",
       "accident          518\n",
       "Name: Intent, dtype: int64"
      ]
     },
     "execution_count": 9,
     "metadata": {},
     "output_type": "execute_result"
    }
   ],
   "source": [
    "guns.Intent.value_counts(ascending=False)"
   ]
  },
  {
   "cell_type": "code",
   "execution_count": 10,
   "metadata": {},
   "outputs": [
    {
     "data": {
      "text/plain": [
       "Suicide         0.616461\n",
       "Homicide        0.339213\n",
       "Accidental      0.011121\n",
       "suicide         0.010288\n",
       "Murder          0.009762\n",
       "Undetermined    0.008006\n",
       "accident        0.005139\n",
       "NaN             0.000010\n",
       "Name: Intent, dtype: float64"
      ]
     },
     "execution_count": 10,
     "metadata": {},
     "output_type": "execute_result"
    }
   ],
   "source": [
    "# Looking at the normalized values makes the picture clearer.\n",
    "# Note: 'normalize=False' excludes the 'NaN's where here it includes them\n",
    "guns.Intent.value_counts(ascending=False, dropna=False, normalize=True)"
   ]
  },
  {
   "cell_type": "code",
   "execution_count": 11,
   "metadata": {},
   "outputs": [
    {
     "name": "stdout",
     "output_type": "stream",
     "text": [
      "Education:\n",
      "count    100745.000000\n",
      "mean          2.296352\n",
      "std           0.990105\n",
      "min           1.000000\n",
      "25%           2.000000\n",
      "50%           2.000000\n",
      "75%           3.000000\n",
      "max           5.000000\n",
      "Name: Education, dtype: float64\n",
      "--------------------\n",
      "\n",
      "Age:\n",
      "count    100780.000000\n",
      "mean         43.857601\n",
      "std          19.496181\n",
      "min           0.000000\n",
      "25%          27.000000\n",
      "50%          42.000000\n",
      "75%          58.000000\n",
      "max         107.000000\n",
      "Name: Age, dtype: float64\n",
      "--------------------\n",
      "\n"
     ]
    }
   ],
   "source": [
    "cols = ['Education', 'Age']\n",
    "for col in cols:\n",
    "    print(col + ':')\n",
    "    print(guns[col].describe())\n",
    "    print('-' * 20 + '\\n')"
   ]
  },
  {
   "cell_type": "code",
   "execution_count": 12,
   "metadata": {},
   "outputs": [
    {
     "name": "stdout",
     "output_type": "stream",
     "text": [
      "Education:\n",
      "count    100745.000000\n",
      "mean          2.296352\n",
      "std           0.990105\n",
      "min           1.000000\n",
      "10%           1.000000\n",
      "20%           1.000000\n",
      "30.0%         2.000000\n",
      "40%           2.000000\n",
      "50%           2.000000\n",
      "60%           2.000000\n",
      "70%           3.000000\n",
      "80%           3.000000\n",
      "90%           4.000000\n",
      "100%          5.000000\n",
      "max           5.000000\n",
      "Name: Education, dtype: float64\n",
      "--------------------\n",
      "\n",
      "Age:\n",
      "count    100780.000000\n",
      "mean         43.857601\n",
      "std          19.496181\n",
      "min           0.000000\n",
      "10%          21.000000\n",
      "20%          25.000000\n",
      "30.0%        29.000000\n",
      "40%          35.000000\n",
      "50%          42.000000\n",
      "60%          49.000000\n",
      "70%          55.000000\n",
      "80%          61.000000\n",
      "90%          72.000000\n",
      "100%        107.000000\n",
      "max         107.000000\n",
      "Name: Age, dtype: float64\n",
      "--------------------\n",
      "\n"
     ]
    }
   ],
   "source": [
    "percentiles = np.arange(0.1,1.1,0.1)\n",
    "for col in cols:\n",
    "    print(col + ':')\n",
    "    print(guns[col][guns[col].notnull()].describe(percentiles=percentiles))\n",
    "    print('-' * 20 + '\\n')"
   ]
  },
  {
   "cell_type": "markdown",
   "metadata": {},
   "source": [
    "Cleaning 'Age' column: Notice that the minimum age is 0. Let's check how many of the gun incidents resulted in the deaths of children under the age of 16:"
   ]
  },
  {
   "cell_type": "code",
   "execution_count": 13,
   "metadata": {},
   "outputs": [
    {
     "data": {
      "text/plain": [
       "(1841, 10)"
      ]
     },
     "execution_count": 13,
     "metadata": {},
     "output_type": "execute_result"
    }
   ],
   "source": [
    "guns[guns['Age'] < 16].shape"
   ]
  },
  {
   "cell_type": "code",
   "execution_count": 14,
   "metadata": {},
   "outputs": [
    {
     "data": {
      "text/html": [
       "<div>\n",
       "<style scoped>\n",
       "    .dataframe tbody tr th:only-of-type {\n",
       "        vertical-align: middle;\n",
       "    }\n",
       "\n",
       "    .dataframe tbody tr th {\n",
       "        vertical-align: top;\n",
       "    }\n",
       "\n",
       "    .dataframe thead th {\n",
       "        text-align: right;\n",
       "    }\n",
       "</style>\n",
       "<table border=\"1\" class=\"dataframe\">\n",
       "  <thead>\n",
       "    <tr style=\"text-align: right;\">\n",
       "      <th></th>\n",
       "      <th>Year</th>\n",
       "      <th>Month</th>\n",
       "      <th>Intent</th>\n",
       "      <th>Police</th>\n",
       "      <th>Sex</th>\n",
       "      <th>Age</th>\n",
       "      <th>Race</th>\n",
       "      <th>Hispanic</th>\n",
       "      <th>Place</th>\n",
       "      <th>Education</th>\n",
       "    </tr>\n",
       "    <tr>\n",
       "      <th>Index</th>\n",
       "      <th></th>\n",
       "      <th></th>\n",
       "      <th></th>\n",
       "      <th></th>\n",
       "      <th></th>\n",
       "      <th></th>\n",
       "      <th></th>\n",
       "      <th></th>\n",
       "      <th></th>\n",
       "      <th></th>\n",
       "    </tr>\n",
       "  </thead>\n",
       "  <tbody>\n",
       "    <tr>\n",
       "      <th>1011</th>\n",
       "      <td>2012</td>\n",
       "      <td>1</td>\n",
       "      <td>Suicide</td>\n",
       "      <td>0</td>\n",
       "      <td>M</td>\n",
       "      <td>15.0</td>\n",
       "      <td>White</td>\n",
       "      <td>100</td>\n",
       "      <td>Home</td>\n",
       "      <td>1.0</td>\n",
       "    </tr>\n",
       "    <tr>\n",
       "      <th>2422</th>\n",
       "      <td>2012</td>\n",
       "      <td>1</td>\n",
       "      <td>Homicide</td>\n",
       "      <td>0</td>\n",
       "      <td>M</td>\n",
       "      <td>14.0</td>\n",
       "      <td>Black</td>\n",
       "      <td>100</td>\n",
       "      <td>Home</td>\n",
       "      <td>1.0</td>\n",
       "    </tr>\n",
       "    <tr>\n",
       "      <th>2491</th>\n",
       "      <td>2012</td>\n",
       "      <td>1</td>\n",
       "      <td>Homicide</td>\n",
       "      <td>0</td>\n",
       "      <td>F</td>\n",
       "      <td>1.0</td>\n",
       "      <td>Hispanic</td>\n",
       "      <td>210</td>\n",
       "      <td>Home</td>\n",
       "      <td>1.0</td>\n",
       "    </tr>\n",
       "    <tr>\n",
       "      <th>2492</th>\n",
       "      <td>2012</td>\n",
       "      <td>1</td>\n",
       "      <td>Homicide</td>\n",
       "      <td>0</td>\n",
       "      <td>M</td>\n",
       "      <td>3.0</td>\n",
       "      <td>Hispanic</td>\n",
       "      <td>210</td>\n",
       "      <td>Home</td>\n",
       "      <td>1.0</td>\n",
       "    </tr>\n",
       "    <tr>\n",
       "      <th>2588</th>\n",
       "      <td>2012</td>\n",
       "      <td>1</td>\n",
       "      <td>Homicide</td>\n",
       "      <td>0</td>\n",
       "      <td>M</td>\n",
       "      <td>2.0</td>\n",
       "      <td>Hispanic</td>\n",
       "      <td>210</td>\n",
       "      <td>Home</td>\n",
       "      <td>1.0</td>\n",
       "    </tr>\n",
       "  </tbody>\n",
       "</table>\n",
       "</div>"
      ],
      "text/plain": [
       "       Year  Month    Intent  Police Sex   Age      Race  Hispanic Place  \\\n",
       "Index                                                                      \n",
       "1011   2012      1   Suicide       0   M  15.0     White       100  Home   \n",
       "2422   2012      1  Homicide       0   M  14.0     Black       100  Home   \n",
       "2491   2012      1  Homicide       0   F   1.0  Hispanic       210  Home   \n",
       "2492   2012      1  Homicide       0   M   3.0  Hispanic       210  Home   \n",
       "2588   2012      1  Homicide       0   M   2.0  Hispanic       210  Home   \n",
       "\n",
       "       Education  \n",
       "Index             \n",
       "1011         1.0  \n",
       "2422         1.0  \n",
       "2491         1.0  \n",
       "2492         1.0  \n",
       "2588         1.0  "
      ]
     },
     "execution_count": 14,
     "metadata": {},
     "output_type": "execute_result"
    }
   ],
   "source": [
    "# We can see more info if we filter only those cases:\n",
    "guns[guns['Age'] < 16].head()"
   ]
  },
  {
   "cell_type": "code",
   "execution_count": 15,
   "metadata": {},
   "outputs": [
    {
     "data": {
      "text/html": [
       "<div>\n",
       "<style scoped>\n",
       "    .dataframe tbody tr th:only-of-type {\n",
       "        vertical-align: middle;\n",
       "    }\n",
       "\n",
       "    .dataframe tbody tr th {\n",
       "        vertical-align: top;\n",
       "    }\n",
       "\n",
       "    .dataframe thead th {\n",
       "        text-align: right;\n",
       "    }\n",
       "</style>\n",
       "<table border=\"1\" class=\"dataframe\">\n",
       "  <thead>\n",
       "    <tr style=\"text-align: right;\">\n",
       "      <th></th>\n",
       "      <th>Year</th>\n",
       "      <th>Month</th>\n",
       "      <th>Intent</th>\n",
       "      <th>Police</th>\n",
       "      <th>Sex</th>\n",
       "      <th>Age</th>\n",
       "      <th>Race</th>\n",
       "      <th>Hispanic</th>\n",
       "      <th>Place</th>\n",
       "      <th>Education</th>\n",
       "    </tr>\n",
       "    <tr>\n",
       "      <th>Index</th>\n",
       "      <th></th>\n",
       "      <th></th>\n",
       "      <th></th>\n",
       "      <th></th>\n",
       "      <th></th>\n",
       "      <th></th>\n",
       "      <th></th>\n",
       "      <th></th>\n",
       "      <th></th>\n",
       "      <th></th>\n",
       "    </tr>\n",
       "  </thead>\n",
       "  <tbody>\n",
       "    <tr>\n",
       "      <th>13750</th>\n",
       "      <td>2012</td>\n",
       "      <td>2</td>\n",
       "      <td>accident</td>\n",
       "      <td>0</td>\n",
       "      <td>M</td>\n",
       "      <td>4.0</td>\n",
       "      <td>Black</td>\n",
       "      <td>100</td>\n",
       "      <td>Home</td>\n",
       "      <td>NaN</td>\n",
       "    </tr>\n",
       "    <tr>\n",
       "      <th>22145</th>\n",
       "      <td>2012</td>\n",
       "      <td>2</td>\n",
       "      <td>Homicide</td>\n",
       "      <td>0</td>\n",
       "      <td>F</td>\n",
       "      <td>1.0</td>\n",
       "      <td>Black</td>\n",
       "      <td>100</td>\n",
       "      <td>Trade/service area</td>\n",
       "      <td>5.0</td>\n",
       "    </tr>\n",
       "    <tr>\n",
       "      <th>1625</th>\n",
       "      <td>2012</td>\n",
       "      <td>3</td>\n",
       "      <td>Homicide</td>\n",
       "      <td>0</td>\n",
       "      <td>M</td>\n",
       "      <td>0.0</td>\n",
       "      <td>Hispanic</td>\n",
       "      <td>210</td>\n",
       "      <td>Home</td>\n",
       "      <td>5.0</td>\n",
       "    </tr>\n",
       "    <tr>\n",
       "      <th>1626</th>\n",
       "      <td>2012</td>\n",
       "      <td>3</td>\n",
       "      <td>Homicide</td>\n",
       "      <td>0</td>\n",
       "      <td>M</td>\n",
       "      <td>3.0</td>\n",
       "      <td>Hispanic</td>\n",
       "      <td>210</td>\n",
       "      <td>Home</td>\n",
       "      <td>5.0</td>\n",
       "    </tr>\n",
       "    <tr>\n",
       "      <th>13967</th>\n",
       "      <td>2012</td>\n",
       "      <td>3</td>\n",
       "      <td>Homicide</td>\n",
       "      <td>0</td>\n",
       "      <td>M</td>\n",
       "      <td>2.0</td>\n",
       "      <td>Black</td>\n",
       "      <td>100</td>\n",
       "      <td>Other unspecified</td>\n",
       "      <td>NaN</td>\n",
       "    </tr>\n",
       "  </tbody>\n",
       "</table>\n",
       "</div>"
      ],
      "text/plain": [
       "       Year  Month    Intent  Police Sex  Age      Race  Hispanic  \\\n",
       "Index                                                               \n",
       "13750  2012      2  accident       0   M  4.0     Black       100   \n",
       "22145  2012      2  Homicide       0   F  1.0     Black       100   \n",
       "1625   2012      3  Homicide       0   M  0.0  Hispanic       210   \n",
       "1626   2012      3  Homicide       0   M  3.0  Hispanic       210   \n",
       "13967  2012      3  Homicide       0   M  2.0     Black       100   \n",
       "\n",
       "                    Place  Education  \n",
       "Index                                 \n",
       "13750                Home        NaN  \n",
       "22145  Trade/service area        5.0  \n",
       "1625                 Home        5.0  \n",
       "1626                 Home        5.0  \n",
       "13967   Other unspecified        NaN  "
      ]
     },
     "execution_count": 15,
     "metadata": {},
     "output_type": "execute_result"
    }
   ],
   "source": [
    "guns[(guns['Age'] < 16) & ((guns['Education'].isnull()) | (guns['Education'] == 5.0))].head()"
   ]
  },
  {
   "cell_type": "code",
   "execution_count": 16,
   "metadata": {},
   "outputs": [
    {
     "data": {
      "text/plain": [
       "(11, 10)"
      ]
     },
     "execution_count": 16,
     "metadata": {},
     "output_type": "execute_result"
    }
   ],
   "source": [
    "index_temp = guns[(guns['Age'] < 16) & \n",
    "                  ((guns['Education'].isnull()) | (guns['Education'] == 5.0))].index\n",
    "guns.loc[index_temp, 'Education'] = 1.0\n",
    "guns[guns.Education.isnull()].shape"
   ]
  },
  {
   "cell_type": "markdown",
   "metadata": {},
   "source": [
    "In fact, having a 2 year old catagorized under the same education level as a 16 year old (1.0= Under high schools) does not make sence. Let's catagorize children under 5 as 0.0 (= Less than elementary school)."
   ]
  },
  {
   "cell_type": "code",
   "execution_count": 17,
   "metadata": {},
   "outputs": [
    {
     "data": {
      "text/plain": [
       "count    100787.000000\n",
       "mean          2.292032\n",
       "std           0.993588\n",
       "min           0.000000\n",
       "25%           2.000000\n",
       "50%           2.000000\n",
       "75%           3.000000\n",
       "max           5.000000\n",
       "Name: Education, dtype: float64"
      ]
     },
     "execution_count": 17,
     "metadata": {},
     "output_type": "execute_result"
    }
   ],
   "source": [
    "index_temp = guns[(guns['Age'] < 5)].index\n",
    "guns.loc[index_temp, 'Education'] = 0.0\n",
    "guns.Education.describe()"
   ]
  },
  {
   "cell_type": "code",
   "execution_count": 18,
   "metadata": {},
   "outputs": [],
   "source": [
    "# Let's get rid of rows that has '5.0' (Not available) and NaN in the 'education' column:\n",
    "# subset = can include a list of column names\n",
    "guns.dropna(inplace=True)\n",
    "guns = guns[guns.Education != 5.0]"
   ]
  },
  {
   "cell_type": "code",
   "execution_count": 19,
   "metadata": {},
   "outputs": [
    {
     "data": {
      "text/plain": [
       "2.0    42258\n",
       "3.0    21430\n",
       "1.0    21284\n",
       "4.0    12879\n",
       "0.0      241\n",
       "Name: Education, dtype: int64"
      ]
     },
     "execution_count": 19,
     "metadata": {},
     "output_type": "execute_result"
    }
   ],
   "source": [
    "guns.Education.value_counts()"
   ]
  },
  {
   "cell_type": "markdown",
   "metadata": {},
   "source": [
    "Another way to get insights about the DataFrame is to look at the unique() values in the columns. I chose to leave out the columns 'age' and index:"
   ]
  },
  {
   "cell_type": "code",
   "execution_count": 20,
   "metadata": {},
   "outputs": [
    {
     "name": "stdout",
     "output_type": "stream",
     "text": [
      "Year :  [2012 2013 2014]\n",
      "Month :  [ 1  2  3  4  5  6  7  8  9 10 11 12]\n",
      "Intent :  ['Suicide' 'suicide' 'Homicide' 'accident' 'Undetermined' 'Accidental'\n",
      " 'Murder']\n",
      "Police :  [0 1]\n",
      "Sex :  ['M' 'F']\n",
      "Race :  ['Asian/Pacific Islander' 'White' 'Native American/Native Alaskan' 'Black'\n",
      " 'Hispanic' 'Caucasian']\n",
      "Hispanic :  [100 211 261 210 282 222 260 200 223 270 226 281 220 275 998 271 231 250\n",
      " 239 280 225 235 234 237 299 227 233 224 221 286 242 212 291 252 232 217\n",
      " 209 218 238]\n",
      "Place :  ['Home' 'Street' 'Other specified' 'Other unspecified'\n",
      " 'Trade/service area' 'Farm' 'Residential institution'\n",
      " 'Industrial/construction' 'Sports' 'School/instiution']\n",
      "Education :  [4. 3. 2. 1. 0.]\n"
     ]
    }
   ],
   "source": [
    "for col in guns.columns:\n",
    "    if col not in ['Age', '']:\n",
    "        print(col, ': ', guns[col].unique())"
   ]
  },
  {
   "cell_type": "markdown",
   "metadata": {},
   "source": [
    "#### Gender numeric comparison\n",
    "This will be easier to see in the visualizations, but here's a first look at the gender distribution of our data."
   ]
  },
  {
   "cell_type": "code",
   "execution_count": 21,
   "metadata": {},
   "outputs": [
    {
     "data": {
      "text/plain": [
       "M    83883\n",
       "F    14209\n",
       "Name: Sex, dtype: int64"
      ]
     },
     "execution_count": 21,
     "metadata": {},
     "output_type": "execute_result"
    }
   ],
   "source": [
    "guns.Sex.value_counts()"
   ]
  },
  {
   "cell_type": "markdown",
   "metadata": {},
   "source": [
    "We can use this column to split the percentage of Male/Female death cases:"
   ]
  },
  {
   "cell_type": "code",
   "execution_count": 22,
   "metadata": {},
   "outputs": [
    {
     "data": {
      "text/plain": [
       "M    0.855146\n",
       "F    0.144854\n",
       "Name: Sex, dtype: float64"
      ]
     },
     "execution_count": 22,
     "metadata": {},
     "output_type": "execute_result"
    }
   ],
   "source": [
    "guns.Sex.value_counts(normalize=True)"
   ]
  },
  {
   "cell_type": "markdown",
   "metadata": {},
   "source": [
    "The normalized values and the count values seem similar since there are close to 100,000 rows in the data set.\n",
    "\n",
    "Here are a few questions to practice basic pandas and numpy methods:\n",
    "Question: Compare yearly number of deaths: rising or decending?"
   ]
  },
  {
   "cell_type": "code",
   "execution_count": 23,
   "metadata": {},
   "outputs": [
    {
     "data": {
      "text/plain": [
       "2012    32646\n",
       "2013    32758\n",
       "2014    32688\n",
       "Name: Year, dtype: int64"
      ]
     },
     "execution_count": 23,
     "metadata": {},
     "output_type": "execute_result"
    }
   ],
   "source": [
    "guns.Year.value_counts(sort=False)"
   ]
  },
  {
   "cell_type": "code",
   "execution_count": 24,
   "metadata": {},
   "outputs": [
    {
     "data": {
      "text/plain": [
       "2012    0.000000\n",
       "2013    0.343074\n",
       "2014    0.128653\n",
       "Name: Year, dtype: float64"
      ]
     },
     "execution_count": 24,
     "metadata": {},
     "output_type": "execute_result"
    }
   ],
   "source": [
    "# evaluating the percentage change between years\n",
    "n2012 = guns[2012 == guns['Year']].shape[0]\n",
    "(guns.Year.value_counts(sort=False) - n2012) * 100./ n2012"
   ]
  },
  {
   "cell_type": "markdown",
   "metadata": {},
   "source": [
    "Answer: Seems like it stays about the same. The change does not look significant (<0.3%) by looking at the values.\n",
    "\n",
    "Question: Are there certain months with significally more/less gun deaths than others?"
   ]
  },
  {
   "cell_type": "code",
   "execution_count": 25,
   "metadata": {},
   "outputs": [
    {
     "data": {
      "text/plain": [
       "7     8747\n",
       "8     8520\n",
       "5     8429\n",
       "6     8424\n",
       "9     8305\n",
       "4     8211\n",
       "12    8186\n",
       "10    8185\n",
       "3     8085\n",
       "1     8061\n",
       "11    8033\n",
       "2     6906\n",
       "Name: Month, dtype: int64"
      ]
     },
     "execution_count": 25,
     "metadata": {},
     "output_type": "execute_result"
    }
   ],
   "source": [
    "guns.Month.value_counts(sort=True)"
   ]
  },
  {
   "cell_type": "code",
   "execution_count": 26,
   "metadata": {},
   "outputs": [
    {
     "data": {
      "text/plain": [
       "7      7.005668\n",
       "8      4.228683\n",
       "5      3.115443\n",
       "6      3.054276\n",
       "9      1.598499\n",
       "4      0.448558\n",
       "12     0.142723\n",
       "10     0.130490\n",
       "3     -1.092852\n",
       "1     -1.386454\n",
       "11    -1.728989\n",
       "2    -15.516046\n",
       "Name: Month, dtype: float64"
      ]
     },
     "execution_count": 26,
     "metadata": {},
     "output_type": "execute_result"
    }
   ],
   "source": [
    "nexpected_month = guns.shape[0]/12.\n",
    "(guns.Month.value_counts(sort=True) - nexpected_month) * 100./nexpected_month"
   ]
  },
  {
   "cell_type": "markdown",
   "metadata": {},
   "source": [
    "Answer: It seems February has around 15% less gun deaths than the expected (Is it its length, the weather, a different reason or a combination of all? If we want to further investigate this - we can to look at the 'location' column to see if most gun deaths in certain months occured outside/inside).\n",
    "\n",
    "Also, we see July has 7% more than expected year-wide, way above anything month. This is not accurate since we're not taking in account the number of days in each month. We could devide it by number of days in each month, but 2012 was a leap year which changes the number for february.\n",
    "\n",
    "The best practice is to convert the month values to datetime objects.\n",
    "\n",
    "Season/Month analysis: Since we're dealing with dates, let's arrange the data by year and month:"
   ]
  },
  {
   "cell_type": "code",
   "execution_count": 27,
   "metadata": {},
   "outputs": [
    {
     "data": {
      "text/html": [
       "<div>\n",
       "<style scoped>\n",
       "    .dataframe tbody tr th:only-of-type {\n",
       "        vertical-align: middle;\n",
       "    }\n",
       "\n",
       "    .dataframe tbody tr th {\n",
       "        vertical-align: top;\n",
       "    }\n",
       "\n",
       "    .dataframe thead th {\n",
       "        text-align: right;\n",
       "    }\n",
       "</style>\n",
       "<table border=\"1\" class=\"dataframe\">\n",
       "  <thead>\n",
       "    <tr style=\"text-align: right;\">\n",
       "      <th></th>\n",
       "      <th>Year</th>\n",
       "      <th>Month</th>\n",
       "      <th>Intent</th>\n",
       "      <th>Police</th>\n",
       "      <th>Sex</th>\n",
       "      <th>Age</th>\n",
       "      <th>Race</th>\n",
       "      <th>Hispanic</th>\n",
       "      <th>Place</th>\n",
       "      <th>Education</th>\n",
       "    </tr>\n",
       "    <tr>\n",
       "      <th>Index</th>\n",
       "      <th></th>\n",
       "      <th></th>\n",
       "      <th></th>\n",
       "      <th></th>\n",
       "      <th></th>\n",
       "      <th></th>\n",
       "      <th></th>\n",
       "      <th></th>\n",
       "      <th></th>\n",
       "      <th></th>\n",
       "    </tr>\n",
       "  </thead>\n",
       "  <tbody>\n",
       "    <tr>\n",
       "      <th>0</th>\n",
       "      <td>2012</td>\n",
       "      <td>1</td>\n",
       "      <td>Suicide</td>\n",
       "      <td>0</td>\n",
       "      <td>M</td>\n",
       "      <td>34.0</td>\n",
       "      <td>Asian/Pacific Islander</td>\n",
       "      <td>100</td>\n",
       "      <td>Home</td>\n",
       "      <td>4.0</td>\n",
       "    </tr>\n",
       "    <tr>\n",
       "      <th>1</th>\n",
       "      <td>2012</td>\n",
       "      <td>1</td>\n",
       "      <td>Suicide</td>\n",
       "      <td>0</td>\n",
       "      <td>F</td>\n",
       "      <td>21.0</td>\n",
       "      <td>White</td>\n",
       "      <td>100</td>\n",
       "      <td>Street</td>\n",
       "      <td>3.0</td>\n",
       "    </tr>\n",
       "    <tr>\n",
       "      <th>2</th>\n",
       "      <td>2012</td>\n",
       "      <td>1</td>\n",
       "      <td>Suicide</td>\n",
       "      <td>0</td>\n",
       "      <td>M</td>\n",
       "      <td>60.0</td>\n",
       "      <td>White</td>\n",
       "      <td>100</td>\n",
       "      <td>Other specified</td>\n",
       "      <td>4.0</td>\n",
       "    </tr>\n",
       "    <tr>\n",
       "      <th>11</th>\n",
       "      <td>2012</td>\n",
       "      <td>1</td>\n",
       "      <td>Suicide</td>\n",
       "      <td>0</td>\n",
       "      <td>M</td>\n",
       "      <td>21.0</td>\n",
       "      <td>Native American/Native Alaskan</td>\n",
       "      <td>100</td>\n",
       "      <td>Home</td>\n",
       "      <td>2.0</td>\n",
       "    </tr>\n",
       "    <tr>\n",
       "      <th>134</th>\n",
       "      <td>2012</td>\n",
       "      <td>1</td>\n",
       "      <td>suicide</td>\n",
       "      <td>0</td>\n",
       "      <td>F</td>\n",
       "      <td>59.0</td>\n",
       "      <td>White</td>\n",
       "      <td>100</td>\n",
       "      <td>Home</td>\n",
       "      <td>2.0</td>\n",
       "    </tr>\n",
       "  </tbody>\n",
       "</table>\n",
       "</div>"
      ],
      "text/plain": [
       "       Year  Month   Intent  Police Sex   Age                            Race  \\\n",
       "Index                                                                           \n",
       "0      2012      1  Suicide       0   M  34.0          Asian/Pacific Islander   \n",
       "1      2012      1  Suicide       0   F  21.0                           White   \n",
       "2      2012      1  Suicide       0   M  60.0                           White   \n",
       "11     2012      1  Suicide       0   M  21.0  Native American/Native Alaskan   \n",
       "134    2012      1  suicide       0   F  59.0                           White   \n",
       "\n",
       "       Hispanic            Place  Education  \n",
       "Index                                        \n",
       "0           100             Home        4.0  \n",
       "1           100           Street        3.0  \n",
       "2           100  Other specified        4.0  \n",
       "11          100             Home        2.0  \n",
       "134         100             Home        2.0  "
      ]
     },
     "execution_count": 27,
     "metadata": {},
     "output_type": "execute_result"
    }
   ],
   "source": [
    "guns.sort_values(['Year', 'Month'], inplace=True)\n",
    "guns.head()"
   ]
  },
  {
   "cell_type": "markdown",
   "metadata": {},
   "source": [
    "A date object implies year, month and day. We cannot create a datetime object without a day, but for the sake of practice - let's combine the 2 date values (of type int64) into one datetime object, and assign '1' in the day value."
   ]
  },
  {
   "cell_type": "code",
   "execution_count": 28,
   "metadata": {},
   "outputs": [
    {
     "data": {
      "text/plain": [
       "Date    datetime64[ns]\n",
       "dtype: object"
      ]
     },
     "execution_count": 28,
     "metadata": {},
     "output_type": "execute_result"
    }
   ],
   "source": [
    "import datetime\n",
    "# The purpose of *10000 and the *100 are to convert 2012, 01, 01 into 20120101 for readability\n",
    "guns['Date'] = pd.to_datetime((guns.Year * 10000 + guns.Month * 100 + 1).apply(str),format='%Y%m%d')\n",
    "guns.dtypes.tail(1)"
   ]
  },
  {
   "cell_type": "code",
   "execution_count": 29,
   "metadata": {},
   "outputs": [
    {
     "data": {
      "text/html": [
       "<div>\n",
       "<style scoped>\n",
       "    .dataframe tbody tr th:only-of-type {\n",
       "        vertical-align: middle;\n",
       "    }\n",
       "\n",
       "    .dataframe tbody tr th {\n",
       "        vertical-align: top;\n",
       "    }\n",
       "\n",
       "    .dataframe thead th {\n",
       "        text-align: right;\n",
       "    }\n",
       "</style>\n",
       "<table border=\"1\" class=\"dataframe\">\n",
       "  <thead>\n",
       "    <tr style=\"text-align: right;\">\n",
       "      <th></th>\n",
       "      <th>Intent</th>\n",
       "      <th>Police</th>\n",
       "      <th>Sex</th>\n",
       "      <th>Age</th>\n",
       "      <th>Race</th>\n",
       "      <th>Hispanic</th>\n",
       "      <th>Place</th>\n",
       "      <th>Education</th>\n",
       "      <th>Date</th>\n",
       "    </tr>\n",
       "    <tr>\n",
       "      <th>Index</th>\n",
       "      <th></th>\n",
       "      <th></th>\n",
       "      <th></th>\n",
       "      <th></th>\n",
       "      <th></th>\n",
       "      <th></th>\n",
       "      <th></th>\n",
       "      <th></th>\n",
       "      <th></th>\n",
       "    </tr>\n",
       "  </thead>\n",
       "  <tbody>\n",
       "    <tr>\n",
       "      <th>0</th>\n",
       "      <td>Suicide</td>\n",
       "      <td>0</td>\n",
       "      <td>M</td>\n",
       "      <td>34.0</td>\n",
       "      <td>Asian/Pacific Islander</td>\n",
       "      <td>100</td>\n",
       "      <td>Home</td>\n",
       "      <td>4.0</td>\n",
       "      <td>2012-01-01</td>\n",
       "    </tr>\n",
       "    <tr>\n",
       "      <th>1</th>\n",
       "      <td>Suicide</td>\n",
       "      <td>0</td>\n",
       "      <td>F</td>\n",
       "      <td>21.0</td>\n",
       "      <td>White</td>\n",
       "      <td>100</td>\n",
       "      <td>Street</td>\n",
       "      <td>3.0</td>\n",
       "      <td>2012-01-01</td>\n",
       "    </tr>\n",
       "    <tr>\n",
       "      <th>2</th>\n",
       "      <td>Suicide</td>\n",
       "      <td>0</td>\n",
       "      <td>M</td>\n",
       "      <td>60.0</td>\n",
       "      <td>White</td>\n",
       "      <td>100</td>\n",
       "      <td>Other specified</td>\n",
       "      <td>4.0</td>\n",
       "      <td>2012-01-01</td>\n",
       "    </tr>\n",
       "    <tr>\n",
       "      <th>11</th>\n",
       "      <td>Suicide</td>\n",
       "      <td>0</td>\n",
       "      <td>M</td>\n",
       "      <td>21.0</td>\n",
       "      <td>Native American/Native Alaskan</td>\n",
       "      <td>100</td>\n",
       "      <td>Home</td>\n",
       "      <td>2.0</td>\n",
       "      <td>2012-01-01</td>\n",
       "    </tr>\n",
       "    <tr>\n",
       "      <th>134</th>\n",
       "      <td>suicide</td>\n",
       "      <td>0</td>\n",
       "      <td>F</td>\n",
       "      <td>59.0</td>\n",
       "      <td>White</td>\n",
       "      <td>100</td>\n",
       "      <td>Home</td>\n",
       "      <td>2.0</td>\n",
       "      <td>2012-01-01</td>\n",
       "    </tr>\n",
       "  </tbody>\n",
       "</table>\n",
       "</div>"
      ],
      "text/plain": [
       "        Intent  Police Sex   Age                            Race  Hispanic  \\\n",
       "Index                                                                        \n",
       "0      Suicide       0   M  34.0          Asian/Pacific Islander       100   \n",
       "1      Suicide       0   F  21.0                           White       100   \n",
       "2      Suicide       0   M  60.0                           White       100   \n",
       "11     Suicide       0   M  21.0  Native American/Native Alaskan       100   \n",
       "134    suicide       0   F  59.0                           White       100   \n",
       "\n",
       "                 Place  Education       Date  \n",
       "Index                                         \n",
       "0                 Home        4.0 2012-01-01  \n",
       "1               Street        3.0 2012-01-01  \n",
       "2      Other specified        4.0 2012-01-01  \n",
       "11                Home        2.0 2012-01-01  \n",
       "134               Home        2.0 2012-01-01  "
      ]
     },
     "execution_count": 29,
     "metadata": {},
     "output_type": "execute_result"
    }
   ],
   "source": [
    "# now that we're done with these columns:\n",
    "del guns['Year']\n",
    "del guns['Month']\n",
    "guns.head()"
   ]
  },
  {
   "cell_type": "code",
   "execution_count": 30,
   "metadata": {},
   "outputs": [
    {
     "name": "stdout",
     "output_type": "stream",
     "text": [
      "datetime64[ns]\n",
      "(36, 1)\n"
     ]
    },
    {
     "data": {
      "text/html": [
       "<div>\n",
       "<style scoped>\n",
       "    .dataframe tbody tr th:only-of-type {\n",
       "        vertical-align: middle;\n",
       "    }\n",
       "\n",
       "    .dataframe tbody tr th {\n",
       "        vertical-align: top;\n",
       "    }\n",
       "\n",
       "    .dataframe thead th {\n",
       "        text-align: right;\n",
       "    }\n",
       "</style>\n",
       "<table border=\"1\" class=\"dataframe\">\n",
       "  <thead>\n",
       "    <tr style=\"text-align: right;\">\n",
       "      <th></th>\n",
       "      <th>Count</th>\n",
       "    </tr>\n",
       "    <tr>\n",
       "      <th>Date</th>\n",
       "      <th></th>\n",
       "    </tr>\n",
       "  </thead>\n",
       "  <tbody>\n",
       "    <tr>\n",
       "      <th>2012-01-01</th>\n",
       "      <td>2695</td>\n",
       "    </tr>\n",
       "    <tr>\n",
       "      <th>2012-02-01</th>\n",
       "      <td>2283</td>\n",
       "    </tr>\n",
       "    <tr>\n",
       "      <th>2012-03-01</th>\n",
       "      <td>2678</td>\n",
       "    </tr>\n",
       "    <tr>\n",
       "      <th>2012-04-01</th>\n",
       "      <td>2721</td>\n",
       "    </tr>\n",
       "    <tr>\n",
       "      <th>2012-05-01</th>\n",
       "      <td>2928</td>\n",
       "    </tr>\n",
       "  </tbody>\n",
       "</table>\n",
       "</div>"
      ],
      "text/plain": [
       "            Count\n",
       "Date             \n",
       "2012-01-01   2695\n",
       "2012-02-01   2283\n",
       "2012-03-01   2678\n",
       "2012-04-01   2721\n",
       "2012-05-01   2928"
      ]
     },
     "execution_count": 30,
     "metadata": {},
     "output_type": "execute_result"
    }
   ],
   "source": [
    "import calendar\n",
    "monthly_rates = pd.DataFrame(guns.groupby('Date').size(), columns=['Count'])\n",
    "monthly_rates.index.to_datetime\n",
    "print(monthly_rates.index.dtype)\n",
    "print(monthly_rates.shape)\n",
    "monthly_rates.head()"
   ]
  },
  {
   "cell_type": "code",
   "execution_count": 31,
   "metadata": {},
   "outputs": [
    {
     "data": {
      "text/html": [
       "<div>\n",
       "<style scoped>\n",
       "    .dataframe tbody tr th:only-of-type {\n",
       "        vertical-align: middle;\n",
       "    }\n",
       "\n",
       "    .dataframe tbody tr th {\n",
       "        vertical-align: top;\n",
       "    }\n",
       "\n",
       "    .dataframe thead th {\n",
       "        text-align: right;\n",
       "    }\n",
       "</style>\n",
       "<table border=\"1\" class=\"dataframe\">\n",
       "  <thead>\n",
       "    <tr style=\"text-align: right;\">\n",
       "      <th></th>\n",
       "      <th>Count</th>\n",
       "      <th>Days_per_month</th>\n",
       "    </tr>\n",
       "    <tr>\n",
       "      <th>Date</th>\n",
       "      <th></th>\n",
       "      <th></th>\n",
       "    </tr>\n",
       "  </thead>\n",
       "  <tbody>\n",
       "    <tr>\n",
       "      <th>2012-01-01</th>\n",
       "      <td>2695</td>\n",
       "      <td>31</td>\n",
       "    </tr>\n",
       "    <tr>\n",
       "      <th>2012-02-01</th>\n",
       "      <td>2283</td>\n",
       "      <td>29</td>\n",
       "    </tr>\n",
       "    <tr>\n",
       "      <th>2012-03-01</th>\n",
       "      <td>2678</td>\n",
       "      <td>31</td>\n",
       "    </tr>\n",
       "    <tr>\n",
       "      <th>2012-04-01</th>\n",
       "      <td>2721</td>\n",
       "      <td>30</td>\n",
       "    </tr>\n",
       "    <tr>\n",
       "      <th>2012-05-01</th>\n",
       "      <td>2928</td>\n",
       "      <td>31</td>\n",
       "    </tr>\n",
       "  </tbody>\n",
       "</table>\n",
       "</div>"
      ],
      "text/plain": [
       "            Count  Days_per_month\n",
       "Date                             \n",
       "2012-01-01   2695              31\n",
       "2012-02-01   2283              29\n",
       "2012-03-01   2678              31\n",
       "2012-04-01   2721              30\n",
       "2012-05-01   2928              31"
      ]
     },
     "execution_count": 31,
     "metadata": {},
     "output_type": "execute_result"
    }
   ],
   "source": [
    "days_per_month = []\n",
    "for val in monthly_rates.index:\n",
    "    days_per_month.append(calendar.monthrange(val.year, val.month)[1])\n",
    "monthly_rates['Days_per_month'] = days_per_month\n",
    "monthly_rates.head()"
   ]
  },
  {
   "cell_type": "markdown",
   "metadata": {},
   "source": [
    "Note: another way to do this is to set the 'day' in each date as the last day of each month [instead of the first day]. This way we have the length of the month in the day field and don't need 'monthrange'. However, having a '01' in each of the datetime objects make it look more consistent and less random, in my view. As long as we remember that the values refer to the whole month."
   ]
  },
  {
   "cell_type": "code",
   "execution_count": 32,
   "metadata": {},
   "outputs": [
    {
     "name": "stdout",
     "output_type": "stream",
     "text": [
      "(36, 3)\n"
     ]
    },
    {
     "data": {
      "text/html": [
       "<div>\n",
       "<style scoped>\n",
       "    .dataframe tbody tr th:only-of-type {\n",
       "        vertical-align: middle;\n",
       "    }\n",
       "\n",
       "    .dataframe tbody tr th {\n",
       "        vertical-align: top;\n",
       "    }\n",
       "\n",
       "    .dataframe thead th {\n",
       "        text-align: right;\n",
       "    }\n",
       "</style>\n",
       "<table border=\"1\" class=\"dataframe\">\n",
       "  <thead>\n",
       "    <tr style=\"text-align: right;\">\n",
       "      <th></th>\n",
       "      <th>Count</th>\n",
       "      <th>Days_per_month</th>\n",
       "      <th>Average_per_day</th>\n",
       "    </tr>\n",
       "    <tr>\n",
       "      <th>Date</th>\n",
       "      <th></th>\n",
       "      <th></th>\n",
       "      <th></th>\n",
       "    </tr>\n",
       "  </thead>\n",
       "  <tbody>\n",
       "    <tr>\n",
       "      <th>2014-08-01</th>\n",
       "      <td>2882</td>\n",
       "      <td>31</td>\n",
       "      <td>92.967742</td>\n",
       "    </tr>\n",
       "    <tr>\n",
       "      <th>2014-09-01</th>\n",
       "      <td>2851</td>\n",
       "      <td>30</td>\n",
       "      <td>95.033333</td>\n",
       "    </tr>\n",
       "    <tr>\n",
       "      <th>2014-10-01</th>\n",
       "      <td>2792</td>\n",
       "      <td>31</td>\n",
       "      <td>90.064516</td>\n",
       "    </tr>\n",
       "    <tr>\n",
       "      <th>2014-11-01</th>\n",
       "      <td>2688</td>\n",
       "      <td>30</td>\n",
       "      <td>89.600000</td>\n",
       "    </tr>\n",
       "    <tr>\n",
       "      <th>2014-12-01</th>\n",
       "      <td>2771</td>\n",
       "      <td>31</td>\n",
       "      <td>89.387097</td>\n",
       "    </tr>\n",
       "  </tbody>\n",
       "</table>\n",
       "</div>"
      ],
      "text/plain": [
       "            Count  Days_per_month  Average_per_day\n",
       "Date                                              \n",
       "2014-08-01   2882              31        92.967742\n",
       "2014-09-01   2851              30        95.033333\n",
       "2014-10-01   2792              31        90.064516\n",
       "2014-11-01   2688              30        89.600000\n",
       "2014-12-01   2771              31        89.387097"
      ]
     },
     "execution_count": 32,
     "metadata": {},
     "output_type": "execute_result"
    }
   ],
   "source": [
    "monthly_rates['Average_per_day'] = monthly_rates['Count']*1./monthly_rates['Days_per_month']\n",
    "print(monthly_rates.shape)\n",
    "monthly_rates.tail()"
   ]
  },
  {
   "cell_type": "code",
   "execution_count": 33,
   "metadata": {},
   "outputs": [
    {
     "data": {
      "text/html": [
       "<div>\n",
       "<style scoped>\n",
       "    .dataframe tbody tr th:only-of-type {\n",
       "        vertical-align: middle;\n",
       "    }\n",
       "\n",
       "    .dataframe tbody tr th {\n",
       "        vertical-align: top;\n",
       "    }\n",
       "\n",
       "    .dataframe thead th {\n",
       "        text-align: right;\n",
       "    }\n",
       "</style>\n",
       "<table border=\"1\" class=\"dataframe\">\n",
       "  <thead>\n",
       "    <tr style=\"text-align: right;\">\n",
       "      <th></th>\n",
       "      <th>Month</th>\n",
       "      <th>Value</th>\n",
       "    </tr>\n",
       "  </thead>\n",
       "  <tbody>\n",
       "    <tr>\n",
       "      <th>0</th>\n",
       "      <td>1</td>\n",
       "      <td>86.677419</td>\n",
       "    </tr>\n",
       "    <tr>\n",
       "      <th>1</th>\n",
       "      <td>2</td>\n",
       "      <td>81.277094</td>\n",
       "    </tr>\n",
       "    <tr>\n",
       "      <th>2</th>\n",
       "      <td>3</td>\n",
       "      <td>86.935484</td>\n",
       "    </tr>\n",
       "    <tr>\n",
       "      <th>3</th>\n",
       "      <td>4</td>\n",
       "      <td>91.233333</td>\n",
       "    </tr>\n",
       "    <tr>\n",
       "      <th>4</th>\n",
       "      <td>5</td>\n",
       "      <td>90.634409</td>\n",
       "    </tr>\n",
       "    <tr>\n",
       "      <th>5</th>\n",
       "      <td>6</td>\n",
       "      <td>93.600000</td>\n",
       "    </tr>\n",
       "    <tr>\n",
       "      <th>6</th>\n",
       "      <td>7</td>\n",
       "      <td>94.053763</td>\n",
       "    </tr>\n",
       "    <tr>\n",
       "      <th>7</th>\n",
       "      <td>8</td>\n",
       "      <td>91.612903</td>\n",
       "    </tr>\n",
       "    <tr>\n",
       "      <th>8</th>\n",
       "      <td>9</td>\n",
       "      <td>92.277778</td>\n",
       "    </tr>\n",
       "    <tr>\n",
       "      <th>9</th>\n",
       "      <td>10</td>\n",
       "      <td>88.010753</td>\n",
       "    </tr>\n",
       "    <tr>\n",
       "      <th>10</th>\n",
       "      <td>11</td>\n",
       "      <td>89.255556</td>\n",
       "    </tr>\n",
       "    <tr>\n",
       "      <th>11</th>\n",
       "      <td>12</td>\n",
       "      <td>88.021505</td>\n",
       "    </tr>\n",
       "  </tbody>\n",
       "</table>\n",
       "</div>"
      ],
      "text/plain": [
       "    Month      Value\n",
       "0       1  86.677419\n",
       "1       2  81.277094\n",
       "2       3  86.935484\n",
       "3       4  91.233333\n",
       "4       5  90.634409\n",
       "5       6  93.600000\n",
       "6       7  94.053763\n",
       "7       8  91.612903\n",
       "8       9  92.277778\n",
       "9      10  88.010753\n",
       "10     11  89.255556\n",
       "11     12  88.021505"
      ]
     },
     "execution_count": 33,
     "metadata": {},
     "output_type": "execute_result"
    }
   ],
   "source": [
    "month_rate_dict = {}\n",
    "for i in range(1,13):\n",
    "    bool_temp = monthly_rates.index.month == i\n",
    "    month_average = (sum(monthly_rates.loc[bool_temp, 'Average_per_day']))/3.\n",
    "    month_rate_dict[i] = month_average\n",
    "# avg_month_rate = pd.DataFrame.from_dict(month_rate_dict)\n",
    "# python 2: \n",
    "# avg_month_rate = pd.DataFrame(month_rate_dict.items(), columns=['Month', 'Value'])\n",
    "avg_month_rate = pd.DataFrame.from_dict(list(month_rate_dict.items()))\n",
    "avg_month_rate.columns = ['Month', 'Value']\n",
    "avg_month_rate"
   ]
  },
  {
   "cell_type": "code",
   "execution_count": 34,
   "metadata": {},
   "outputs": [
    {
     "data": {
      "text/plain": [
       "89.5"
      ]
     },
     "execution_count": 34,
     "metadata": {},
     "output_type": "execute_result"
    }
   ],
   "source": [
    "# calculating the expected cases for each day [+1. becuase 2012 was a leap year]\n",
    "nexpected_day = guns.shape[0]/(365*3 + 1.)\n",
    "nexpected_day"
   ]
  },
  {
   "cell_type": "code",
   "execution_count": 35,
   "metadata": {},
   "outputs": [
    {
     "name": "stdout",
     "output_type": "stream",
     "text": [
      "    Month      Value  Percent_change\n",
      "1       2  81.277094       -9.187605\n",
      "0       1  86.677419       -3.153721\n",
      "2       3  86.935484       -2.865381\n",
      "9      10  88.010753       -1.663963\n",
      "11     12  88.021505       -1.651949\n",
      "10     11  89.255556       -0.273122\n",
      "4       5  90.634409        1.267496\n",
      "3       4  91.233333        1.936685\n",
      "7       8  91.612903        2.360786\n",
      "8       9  92.277778        3.103662\n",
      "5       6  93.600000        4.581006\n",
      "6       7  94.053763        5.088004\n"
     ]
    }
   ],
   "source": [
    "avg_month_rate['Percent_change'] = (avg_month_rate.Value - nexpected_day) * 100./ nexpected_day\n",
    "print(avg_month_rate.sort_values('Percent_change'))"
   ]
  },
  {
   "cell_type": "markdown",
   "metadata": {},
   "source": [
    "Now that we have the daily average, we can say with more certainty that July (~(+5.3%)) and June (~(+4.6%)) have higher gun death rate than the rest of the months, while February (~(-9%)) has significantly lower amount of guns deaths (but not 15% lower as the 'rough analysis' from before showed).\n",
    "\n",
    "Question: What percentage of cases were police officers involved in?"
   ]
  },
  {
   "cell_type": "code",
   "execution_count": 36,
   "metadata": {},
   "outputs": [
    {
     "data": {
      "text/plain": [
       "0    99.98063\n",
       "1     0.01937\n",
       "Name: Police, dtype: float64"
      ]
     },
     "execution_count": 36,
     "metadata": {},
     "output_type": "execute_result"
    }
   ],
   "source": [
    "100 * guns.Police.value_counts(normalize=True)"
   ]
  },
  {
   "cell_type": "markdown",
   "metadata": {},
   "source": [
    "Seeing this kind of distribution means this column does not give us any additional information about the cases and we can remove it all together."
   ]
  },
  {
   "cell_type": "code",
   "execution_count": 37,
   "metadata": {},
   "outputs": [
    {
     "name": "stdout",
     "output_type": "stream",
     "text": [
      "(98092, 8)\n"
     ]
    },
    {
     "data": {
      "text/html": [
       "<div>\n",
       "<style scoped>\n",
       "    .dataframe tbody tr th:only-of-type {\n",
       "        vertical-align: middle;\n",
       "    }\n",
       "\n",
       "    .dataframe tbody tr th {\n",
       "        vertical-align: top;\n",
       "    }\n",
       "\n",
       "    .dataframe thead th {\n",
       "        text-align: right;\n",
       "    }\n",
       "</style>\n",
       "<table border=\"1\" class=\"dataframe\">\n",
       "  <thead>\n",
       "    <tr style=\"text-align: right;\">\n",
       "      <th></th>\n",
       "      <th>Intent</th>\n",
       "      <th>Sex</th>\n",
       "      <th>Age</th>\n",
       "      <th>Race</th>\n",
       "      <th>Hispanic</th>\n",
       "      <th>Place</th>\n",
       "      <th>Education</th>\n",
       "      <th>Date</th>\n",
       "    </tr>\n",
       "    <tr>\n",
       "      <th>Index</th>\n",
       "      <th></th>\n",
       "      <th></th>\n",
       "      <th></th>\n",
       "      <th></th>\n",
       "      <th></th>\n",
       "      <th></th>\n",
       "      <th></th>\n",
       "      <th></th>\n",
       "    </tr>\n",
       "  </thead>\n",
       "  <tbody>\n",
       "    <tr>\n",
       "      <th>0</th>\n",
       "      <td>Suicide</td>\n",
       "      <td>M</td>\n",
       "      <td>34.0</td>\n",
       "      <td>Asian/Pacific Islander</td>\n",
       "      <td>100</td>\n",
       "      <td>Home</td>\n",
       "      <td>4.0</td>\n",
       "      <td>2012-01-01</td>\n",
       "    </tr>\n",
       "    <tr>\n",
       "      <th>1</th>\n",
       "      <td>Suicide</td>\n",
       "      <td>F</td>\n",
       "      <td>21.0</td>\n",
       "      <td>White</td>\n",
       "      <td>100</td>\n",
       "      <td>Street</td>\n",
       "      <td>3.0</td>\n",
       "      <td>2012-01-01</td>\n",
       "    </tr>\n",
       "    <tr>\n",
       "      <th>2</th>\n",
       "      <td>Suicide</td>\n",
       "      <td>M</td>\n",
       "      <td>60.0</td>\n",
       "      <td>White</td>\n",
       "      <td>100</td>\n",
       "      <td>Other specified</td>\n",
       "      <td>4.0</td>\n",
       "      <td>2012-01-01</td>\n",
       "    </tr>\n",
       "    <tr>\n",
       "      <th>11</th>\n",
       "      <td>Suicide</td>\n",
       "      <td>M</td>\n",
       "      <td>21.0</td>\n",
       "      <td>Native American/Native Alaskan</td>\n",
       "      <td>100</td>\n",
       "      <td>Home</td>\n",
       "      <td>2.0</td>\n",
       "      <td>2012-01-01</td>\n",
       "    </tr>\n",
       "    <tr>\n",
       "      <th>134</th>\n",
       "      <td>suicide</td>\n",
       "      <td>F</td>\n",
       "      <td>59.0</td>\n",
       "      <td>White</td>\n",
       "      <td>100</td>\n",
       "      <td>Home</td>\n",
       "      <td>2.0</td>\n",
       "      <td>2012-01-01</td>\n",
       "    </tr>\n",
       "  </tbody>\n",
       "</table>\n",
       "</div>"
      ],
      "text/plain": [
       "        Intent Sex   Age                            Race  Hispanic  \\\n",
       "Index                                                                \n",
       "0      Suicide   M  34.0          Asian/Pacific Islander       100   \n",
       "1      Suicide   F  21.0                           White       100   \n",
       "2      Suicide   M  60.0                           White       100   \n",
       "11     Suicide   M  21.0  Native American/Native Alaskan       100   \n",
       "134    suicide   F  59.0                           White       100   \n",
       "\n",
       "                 Place  Education       Date  \n",
       "Index                                         \n",
       "0                 Home        4.0 2012-01-01  \n",
       "1               Street        3.0 2012-01-01  \n",
       "2      Other specified        4.0 2012-01-01  \n",
       "11                Home        2.0 2012-01-01  \n",
       "134               Home        2.0 2012-01-01  "
      ]
     },
     "execution_count": 37,
     "metadata": {},
     "output_type": "execute_result"
    }
   ],
   "source": [
    "del guns['Police']\n",
    "print(guns.shape)\n",
    "guns.head()"
   ]
  },
  {
   "cell_type": "markdown",
   "metadata": {},
   "source": [
    "Question: Which race appears the most in the df and which appears the least?"
   ]
  },
  {
   "cell_type": "code",
   "execution_count": 38,
   "metadata": {},
   "outputs": [
    {
     "data": {
      "text/plain": [
       "White                             0.652439\n",
       "Black                             0.231497\n",
       "Hispanic                          0.087816\n",
       "Asian/Pacific Islander            0.012876\n",
       "Native American/Native Alaskan    0.008971\n",
       "Caucasian                         0.006402\n",
       "Name: Race, dtype: float64"
      ]
     },
     "execution_count": 38,
     "metadata": {},
     "output_type": "execute_result"
    }
   ],
   "source": [
    "guns.Race.value_counts(sort=True, normalize=True)"
   ]
  },
  {
   "cell_type": "code",
   "execution_count": 39,
   "metadata": {},
   "outputs": [
    {
     "data": {
      "text/html": [
       "<div>\n",
       "<style scoped>\n",
       "    .dataframe tbody tr th:only-of-type {\n",
       "        vertical-align: middle;\n",
       "    }\n",
       "\n",
       "    .dataframe tbody tr th {\n",
       "        vertical-align: top;\n",
       "    }\n",
       "\n",
       "    .dataframe thead th {\n",
       "        text-align: right;\n",
       "    }\n",
       "</style>\n",
       "<table border=\"1\" class=\"dataframe\">\n",
       "  <thead>\n",
       "    <tr style=\"text-align: right;\">\n",
       "      <th></th>\n",
       "      <th>Intent</th>\n",
       "      <th>Sex</th>\n",
       "      <th>Age</th>\n",
       "      <th>Race</th>\n",
       "      <th>Hispanic</th>\n",
       "      <th>Place</th>\n",
       "      <th>Education</th>\n",
       "      <th>Date</th>\n",
       "    </tr>\n",
       "    <tr>\n",
       "      <th>Index</th>\n",
       "      <th></th>\n",
       "      <th></th>\n",
       "      <th></th>\n",
       "      <th></th>\n",
       "      <th></th>\n",
       "      <th></th>\n",
       "      <th></th>\n",
       "      <th></th>\n",
       "    </tr>\n",
       "  </thead>\n",
       "  <tbody>\n",
       "    <tr>\n",
       "      <th>2251</th>\n",
       "      <td>Suicide</td>\n",
       "      <td>M</td>\n",
       "      <td>75.0</td>\n",
       "      <td>White</td>\n",
       "      <td>100</td>\n",
       "      <td>Sports</td>\n",
       "      <td>4.0</td>\n",
       "      <td>2012-11-01</td>\n",
       "    </tr>\n",
       "    <tr>\n",
       "      <th>55784</th>\n",
       "      <td>Homicide</td>\n",
       "      <td>M</td>\n",
       "      <td>32.0</td>\n",
       "      <td>Black</td>\n",
       "      <td>100</td>\n",
       "      <td>Street</td>\n",
       "      <td>2.0</td>\n",
       "      <td>2013-03-01</td>\n",
       "    </tr>\n",
       "    <tr>\n",
       "      <th>84072</th>\n",
       "      <td>Suicide</td>\n",
       "      <td>M</td>\n",
       "      <td>63.0</td>\n",
       "      <td>White</td>\n",
       "      <td>100</td>\n",
       "      <td>Home</td>\n",
       "      <td>2.0</td>\n",
       "      <td>2014-01-01</td>\n",
       "    </tr>\n",
       "    <tr>\n",
       "      <th>3869</th>\n",
       "      <td>Homicide</td>\n",
       "      <td>M</td>\n",
       "      <td>22.0</td>\n",
       "      <td>Black</td>\n",
       "      <td>100</td>\n",
       "      <td>Other unspecified</td>\n",
       "      <td>2.0</td>\n",
       "      <td>2012-06-01</td>\n",
       "    </tr>\n",
       "    <tr>\n",
       "      <th>86658</th>\n",
       "      <td>Homicide</td>\n",
       "      <td>M</td>\n",
       "      <td>25.0</td>\n",
       "      <td>Black</td>\n",
       "      <td>100</td>\n",
       "      <td>Street</td>\n",
       "      <td>1.0</td>\n",
       "      <td>2014-09-01</td>\n",
       "    </tr>\n",
       "  </tbody>\n",
       "</table>\n",
       "</div>"
      ],
      "text/plain": [
       "         Intent Sex   Age   Race  Hispanic              Place  Education  \\\n",
       "Index                                                                      \n",
       "2251    Suicide   M  75.0  White       100             Sports        4.0   \n",
       "55784  Homicide   M  32.0  Black       100             Street        2.0   \n",
       "84072   Suicide   M  63.0  White       100               Home        2.0   \n",
       "3869   Homicide   M  22.0  Black       100  Other unspecified        2.0   \n",
       "86658  Homicide   M  25.0  Black       100             Street        1.0   \n",
       "\n",
       "            Date  \n",
       "Index             \n",
       "2251  2012-11-01  \n",
       "55784 2013-03-01  \n",
       "84072 2014-01-01  \n",
       "3869  2012-06-01  \n",
       "86658 2014-09-01  "
      ]
     },
     "execution_count": 39,
     "metadata": {},
     "output_type": "execute_result"
    }
   ],
   "source": [
    "# a sample of about 10% of the data may look like this:\n",
    "sample_guns = guns.sample(n=10000)\n",
    "sample_guns.head()"
   ]
  },
  {
   "cell_type": "code",
   "execution_count": 40,
   "metadata": {},
   "outputs": [
    {
     "data": {
      "text/plain": [
       "M    0.8525\n",
       "F    0.1475\n",
       "Name: Sex, dtype: float64"
      ]
     },
     "execution_count": 40,
     "metadata": {},
     "output_type": "execute_result"
    }
   ],
   "source": [
    "# we can look at the M/F distribution, in order to make sure it's similar to the original data\n",
    "sample_guns.Sex.value_counts(normalize=True)"
   ]
  },
  {
   "cell_type": "markdown",
   "metadata": {},
   "source": [
    "Question: How do you define a categorical columns/pd.Series? E.g please order guns['intent'] by this order: 'Homicide','Suicide','Accidental','Undetermined'"
   ]
  },
  {
   "cell_type": "code",
   "execution_count": 41,
   "metadata": {},
   "outputs": [
    {
     "data": {
      "text/html": [
       "<div>\n",
       "<style scoped>\n",
       "    .dataframe tbody tr th:only-of-type {\n",
       "        vertical-align: middle;\n",
       "    }\n",
       "\n",
       "    .dataframe tbody tr th {\n",
       "        vertical-align: top;\n",
       "    }\n",
       "\n",
       "    .dataframe thead th {\n",
       "        text-align: right;\n",
       "    }\n",
       "</style>\n",
       "<table border=\"1\" class=\"dataframe\">\n",
       "  <thead>\n",
       "    <tr style=\"text-align: right;\">\n",
       "      <th></th>\n",
       "      <th>Intent</th>\n",
       "      <th>Sex</th>\n",
       "      <th>Age</th>\n",
       "      <th>Race</th>\n",
       "      <th>Hispanic</th>\n",
       "      <th>Place</th>\n",
       "      <th>Education</th>\n",
       "      <th>Date</th>\n",
       "    </tr>\n",
       "    <tr>\n",
       "      <th>Index</th>\n",
       "      <th></th>\n",
       "      <th></th>\n",
       "      <th></th>\n",
       "      <th></th>\n",
       "      <th></th>\n",
       "      <th></th>\n",
       "      <th></th>\n",
       "      <th></th>\n",
       "    </tr>\n",
       "  </thead>\n",
       "  <tbody>\n",
       "    <tr>\n",
       "      <th>31535</th>\n",
       "      <td>NaN</td>\n",
       "      <td>F</td>\n",
       "      <td>25.0</td>\n",
       "      <td>White</td>\n",
       "      <td>100</td>\n",
       "      <td>Home</td>\n",
       "      <td>2.0</td>\n",
       "      <td>2012-11-01</td>\n",
       "    </tr>\n",
       "    <tr>\n",
       "      <th>32292</th>\n",
       "      <td>NaN</td>\n",
       "      <td>F</td>\n",
       "      <td>27.0</td>\n",
       "      <td>White</td>\n",
       "      <td>100</td>\n",
       "      <td>Home</td>\n",
       "      <td>3.0</td>\n",
       "      <td>2012-10-01</td>\n",
       "    </tr>\n",
       "    <tr>\n",
       "      <th>32294</th>\n",
       "      <td>NaN</td>\n",
       "      <td>M</td>\n",
       "      <td>65.0</td>\n",
       "      <td>White</td>\n",
       "      <td>100</td>\n",
       "      <td>Home</td>\n",
       "      <td>3.0</td>\n",
       "      <td>2012-10-01</td>\n",
       "    </tr>\n",
       "    <tr>\n",
       "      <th>32295</th>\n",
       "      <td>NaN</td>\n",
       "      <td>M</td>\n",
       "      <td>26.0</td>\n",
       "      <td>Hispanic</td>\n",
       "      <td>210</td>\n",
       "      <td>Street</td>\n",
       "      <td>2.0</td>\n",
       "      <td>2012-10-01</td>\n",
       "    </tr>\n",
       "    <tr>\n",
       "      <th>32316</th>\n",
       "      <td>NaN</td>\n",
       "      <td>F</td>\n",
       "      <td>42.0</td>\n",
       "      <td>Hispanic</td>\n",
       "      <td>210</td>\n",
       "      <td>Other specified</td>\n",
       "      <td>1.0</td>\n",
       "      <td>2012-10-01</td>\n",
       "    </tr>\n",
       "  </tbody>\n",
       "</table>\n",
       "</div>"
      ],
      "text/plain": [
       "      Intent Sex   Age      Race  Hispanic            Place  Education  \\\n",
       "Index                                                                    \n",
       "31535    NaN   F  25.0     White       100             Home        2.0   \n",
       "32292    NaN   F  27.0     White       100             Home        3.0   \n",
       "32294    NaN   M  65.0     White       100             Home        3.0   \n",
       "32295    NaN   M  26.0  Hispanic       210           Street        2.0   \n",
       "32316    NaN   F  42.0  Hispanic       210  Other specified        1.0   \n",
       "\n",
       "            Date  \n",
       "Index             \n",
       "31535 2012-11-01  \n",
       "32292 2012-10-01  \n",
       "32294 2012-10-01  \n",
       "32295 2012-10-01  \n",
       "32316 2012-10-01  "
      ]
     },
     "execution_count": 41,
     "metadata": {},
     "output_type": "execute_result"
    }
   ],
   "source": [
    "list_ordered = ['Homicide','Suicide','Accidental','Undetermined']\n",
    "guns['Intent'] = guns['Intent'].astype('category')\n",
    "guns.Intent.cat.set_categories(list_ordered, inplace=True)\n",
    "guns.sort_values(['Intent']).head()"
   ]
  },
  {
   "cell_type": "markdown",
   "metadata": {},
   "source": [
    "We can treat 'Undetermined' values in the 'intent' column as NaN and drop those rows, since these values do not give us any additional info and they are less than 1% of the rows (798/ about 100,000)."
   ]
  },
  {
   "cell_type": "code",
   "execution_count": 42,
   "metadata": {},
   "outputs": [
    {
     "data": {
      "text/plain": [
       "Suicide         61267\n",
       "Homicide        32445\n",
       "Accidental       1109\n",
       "Undetermined      798\n",
       "Name: Intent, dtype: int64"
      ]
     },
     "execution_count": 42,
     "metadata": {},
     "output_type": "execute_result"
    }
   ],
   "source": [
    "guns.Intent.value_counts()"
   ]
  },
  {
   "cell_type": "markdown",
   "metadata": {},
   "source": [
    "Let's take those lines also out of our df. Note: my assumption in dropping these values is that my prediction model would try to predict the 'intent' column, and 'Undetermined' cases have no value for that process. If you're predicting a different column - you may want to leave these values in the df."
   ]
  },
  {
   "cell_type": "code",
   "execution_count": 43,
   "metadata": {},
   "outputs": [
    {
     "data": {
      "text/plain": [
       "Suicide         61267\n",
       "Homicide        32445\n",
       "Accidental       1109\n",
       "Undetermined        0\n",
       "Name: Intent, dtype: int64"
      ]
     },
     "execution_count": 43,
     "metadata": {},
     "output_type": "execute_result"
    }
   ],
   "source": [
    "guns = guns[guns.Intent != 'Undetermined']\n",
    "guns.Intent.value_counts()"
   ]
  },
  {
   "cell_type": "code",
   "execution_count": 44,
   "metadata": {},
   "outputs": [
    {
     "data": {
      "text/plain": [
       "Suicide       61267\n",
       "Homicide      32445\n",
       "Accidental     1109\n",
       "Name: Intent, dtype: int64"
      ]
     },
     "execution_count": 44,
     "metadata": {},
     "output_type": "execute_result"
    }
   ],
   "source": [
    "# removing last value in list ordered - which is 'Undetermined'\n",
    "list_ordered = list_ordered[:-1]\n",
    "guns.Intent.cat.set_categories(list_ordered, inplace=True)\n",
    "guns.Intent.value_counts()"
   ]
  },
  {
   "cell_type": "markdown",
   "metadata": {},
   "source": [
    "Question: Given a Series which contains strings, how do you find the length of each of the strings?"
   ]
  },
  {
   "cell_type": "code",
   "execution_count": 45,
   "metadata": {},
   "outputs": [
    {
     "data": {
      "text/plain": [
       "array([22,  5, 30,  8,  9])"
      ]
     },
     "execution_count": 45,
     "metadata": {},
     "output_type": "execute_result"
    }
   ],
   "source": [
    "guns.Race.str.len().unique()"
   ]
  },
  {
   "cell_type": "code",
   "execution_count": 46,
   "metadata": {},
   "outputs": [
    {
     "data": {
      "text/plain": [
       "array(['Asian/Pacific Islander', 'White',\n",
       "       'Native American/Native Alaskan', 'Black', 'Hispanic', 'Caucasian'],\n",
       "      dtype=object)"
      ]
     },
     "execution_count": 46,
     "metadata": {},
     "output_type": "execute_result"
    }
   ],
   "source": [
    "guns.Race.unique()"
   ]
  },
  {
   "cell_type": "markdown",
   "metadata": {},
   "source": [
    "Question: For the same series, how do you know if any given entry contains a string segment. E.g: Which entries int the 'intent' column contain the segment 'cide'?"
   ]
  },
  {
   "cell_type": "code",
   "execution_count": 47,
   "metadata": {},
   "outputs": [
    {
     "data": {
      "text/plain": [
       "94821"
      ]
     },
     "execution_count": 47,
     "metadata": {},
     "output_type": "execute_result"
    }
   ],
   "source": [
    "guns.Intent.str.contains('cide').sum()"
   ]
  },
  {
   "cell_type": "markdown",
   "metadata": {},
   "source": [
    "# Visualizing the data"
   ]
  },
  {
   "cell_type": "code",
   "execution_count": 48,
   "metadata": {},
   "outputs": [],
   "source": [
    "import matplotlib.pyplot as plt\n",
    "import seaborn as sns\n",
    "sns.set(style='white', color_codes=True)\n",
    "%matplotlib inline"
   ]
  },
  {
   "cell_type": "markdown",
   "metadata": {},
   "source": [
    "Line Charts / Time analysis\n",
    "Line charts work best when there is a logical connection between adjacent points. When dealing with dates, line charts are an appropriate choise for visualizing because the rows had a natural ordering to it. Each row reflected information about an event that occurred after the previous row (if the df is ordered by date).\n",
    "\n",
    "To emphasize how the visual representation of the line chart helps us observe trends easily, let's look at the same 36 data points from 2012 to the end of 2014 as a line chart.\n",
    "\n",
    "To create a line chart of the unemployment data from 2012, we need:\n",
    "\n",
    "the x-axis to range from 2012-01-01 to 2014-12-01\n",
    "the y-axis to range from 2357 to 3079 (which correspond to the minimum and maximum death incident values) We don't have to specify the values. we pass in the list of x-values as the first parameter and the list of y-values as the second parameter to plot().\n",
    "Let's begin with a yearly plot:"
   ]
  },
  {
   "cell_type": "code",
   "execution_count": 49,
   "metadata": {},
   "outputs": [
    {
     "data": {
      "image/png": "[encoded data removed]",
      "text/plain": [
       "<Figure size 432x288 with 1 Axes>"
      ]
     },
     "metadata": {},
     "output_type": "display_data"
    }
   ],
   "source": [
    "# 2012\n",
    "plt.plot(monthly_rates.index[:12], monthly_rates['Count'][:12], \n",
    "         linestyle='--', linewidth=3., alpha=0.6)\n",
    "plt.xticks(rotation=70)\n",
    "plt.tick_params(axis='both', which='both',length=0)\n",
    "plt.show()"
   ]
  },
  {
   "cell_type": "code",
   "execution_count": 50,
   "metadata": {},
   "outputs": [
    {
     "data": {
      "image/png": "[encoded data removed]",
      "text/plain": [
       "<Figure size 432x288 with 1 Axes>"
      ]
     },
     "metadata": {},
     "output_type": "display_data"
    }
   ],
   "source": [
    "# notice the y column in the previous plot begins at 2200; \n",
    "# Let's look at the real picture from 0 \n",
    "plt.plot(monthly_rates.index[:12], monthly_rates['Count'][:12],\n",
    "        linestyle='--', linewidth=3., alpha=0.6)\n",
    "plt.xticks(rotation=70)\n",
    "plt.ylim(ymin=0, ymax=3500)\n",
    "plt.tick_params(axis='both', which='both',length=0)\n",
    "plt.xlabel('Month', fontsize=14)\n",
    "plt.ylabel('Gun Deaths\\ncount', fontsize=14)\n",
    "plt.title('Monthly Gun Death Count in the US, 2012', fontsize=14, fontweight='bold')\n",
    "sns.despine()\n",
    "plt.show()"
   ]
  },
  {
   "cell_type": "code",
   "execution_count": 51,
   "metadata": {},
   "outputs": [
    {
     "data": {
      "image/png": "[encoded data removed]",
      "text/plain": [
       "<Figure size 432x288 with 1 Axes>"
      ]
     },
     "metadata": {},
     "output_type": "display_data"
    }
   ],
   "source": [
    "# year 2013:\n",
    "plt.plot(monthly_rates.index[12:24], monthly_rates['Count'][12:24],\n",
    "        linestyle='--', linewidth=3., alpha=0.6, color='r')\n",
    "plt.xticks(rotation=70)\n",
    "plt.ylim(ymin=0, ymax=3500)\n",
    "plt.tick_params(axis='both', which='both',length=0)\n",
    "plt.xlabel('Month', fontsize=14)\n",
    "plt.ylabel('Gun Death\\ncount', fontsize=14)\n",
    "plt.title('Monthly Gun Death Count in the US, 2013', fontsize=14, fontweight='bold')\n",
    "sns.despine()\n",
    "plt.show()"
   ]
  },
  {
   "cell_type": "code",
   "execution_count": 52,
   "metadata": {},
   "outputs": [
    {
     "data": {
      "image/png": "[encoded data removed]",
      "text/plain": [
       "<Figure size 432x288 with 1 Axes>"
      ]
     },
     "metadata": {},
     "output_type": "display_data"
    }
   ],
   "source": [
    "# year 2014:\n",
    "plt.plot(monthly_rates.index[24:], monthly_rates['Count'][24:],\n",
    "        linestyle='--', linewidth=3., alpha=0.6, color='g')\n",
    "plt.xticks(rotation=70)\n",
    "plt.ylim(ymin=0, ymax=3500)\n",
    "plt.tick_params(axis='both', which='both',length=0)\n",
    "plt.xlabel('Month', fontsize=14)\n",
    "plt.ylabel('Gun Death\\nCount', fontsize=14)\n",
    "plt.title('Monthly Gun Death Count in the US, 2014', fontsize=14, fontweight='bold')\n",
    "sns.despine()\n",
    "plt.show()"
   ]
  },
  {
   "cell_type": "markdown",
   "metadata": {},
   "source": [
    "Let's print them on the same plot in order to compare:"
   ]
  },
  {
   "cell_type": "code",
   "execution_count": 53,
   "metadata": {},
   "outputs": [
    {
     "data": {
      "image/png": "[encoded data removed]",
      "text/plain": [
       "<Figure size 432x288 with 1 Axes>"
      ]
     },
     "metadata": {},
     "output_type": "display_data"
    }
   ],
   "source": [
    "# years 2012 - 2014\n",
    "# Changing linestyle to a constant line = seeing intersections more clearly\n",
    "fig = plt.figure()\n",
    "plt.plot(monthly_rates.index.month[0:12], monthly_rates['Count'][0:12], label='2012',\n",
    "        linestyle='-', linewidth=2., alpha=0.6)\n",
    "plt.plot(monthly_rates.index.month[12:24], monthly_rates['Count'][12:24], label='2013',\n",
    "        linestyle='-', linewidth=2., alpha=0.6, color='r')\n",
    "plt.plot(monthly_rates.index.month[24:36], monthly_rates['Count'][24:36], label='2014',\n",
    "        linestyle='-', linewidth=2., alpha=0.6, color='g')\n",
    "plt.xlim(xmin=1, xmax=12)\n",
    "plt.ylim(ymax=max(monthly_rates['Count'])+100)\n",
    "plt.tick_params(axis='both', which='both',length=0)\n",
    "plt.xticks(np.arange(1, 13, 1))\n",
    "plt.legend(loc='upper left', frameon=False)\n",
    "plt.xlabel('Month', fontsize=14)\n",
    "plt.ylabel('Gun Death\\nCount', fontsize=14)\n",
    "plt.title('Monthly Gun Death Count in the US: 2012-2014', fontsize=14, fontweight='bold')\n",
    "sns.despine()\n",
    "plt.show()"
   ]
  },
  {
   "cell_type": "markdown",
   "metadata": {},
   "source": [
    "But this is a distorted look on the data. It's important our axis starts from 0. Also, let's not repeat ourselves and enlarge the plot:"
   ]
  },
  {
   "cell_type": "code",
   "execution_count": 54,
   "metadata": {},
   "outputs": [
    {
     "data": {
      "image/png": "[encoded data removed]",
      "text/plain": [
       "<Figure size 720x432 with 1 Axes>"
      ]
     },
     "metadata": {},
     "output_type": "display_data"
    }
   ],
   "source": [
    "fig = plt.figure(figsize=(10,6))\n",
    "\n",
    "colors = ['b', 'r', 'g']\n",
    "labels = ['2012', '2013', '2014']\n",
    "\n",
    "for i in range(len(labels)):\n",
    "    start_index = i*12\n",
    "    end_index = (i+1)*12\n",
    "    subset = monthly_rates[start_index:end_index]\n",
    "    plt.plot(subset.index.month, subset['Count'], color=colors[i], label=labels[i],\n",
    "            linestyle='-', linewidth=2., alpha=0.6)\n",
    "\n",
    "plt.xlim(xmin=1, xmax=12)\n",
    "plt.ylim(ymin=0, ymax=max(monthly_rates['Count'])+100)\n",
    "plt.tick_params(axis='both', which='both',length=0)\n",
    "plt.xticks(np.arange(1, 13, 1))\n",
    "plt.legend(loc='center right', frameon=False)\n",
    "plt.xlabel('Month', fontsize=14)\n",
    "plt.ylabel('Number of Gun Death Count', fontsize=14)\n",
    "plt.title('Monthly Gun Death Count in the US: 2012-2014', fontsize=14, fontweight='bold')\n",
    "sns.despine()\n",
    "plt.show()"
   ]
  },
  {
   "cell_type": "markdown",
   "metadata": {},
   "source": [
    "The trend of deaths does not seem to vary significantly over the years. There is a recurring phenomenon of very low number of incidents during february. July has the highest rate of gun deaths in 2012 and 2013, but it is not the case in 2014.\n",
    "\n",
    "Bar Plots\n",
    "When we need visualization that scales graphical objects to the quantitative values we're interested in comparing - we can use a bar plot.\n",
    "\n",
    "Let's look at the 'intent' division with inner gender ['sex'] division."
   ]
  },
  {
   "cell_type": "code",
   "execution_count": 55,
   "metadata": {},
   "outputs": [
    {
     "data": {
      "image/png": "[encoded data removed]",
      "text/plain": [
       "<Figure size 432x288 with 1 Axes>"
      ]
     },
     "metadata": {},
     "output_type": "display_data"
    }
   ],
   "source": [
    "intent_sex = guns.groupby(['Intent', 'Sex'])['Intent'].count().unstack('Sex')\n",
    "ax = intent_sex.plot(kind='bar', stacked=True, alpha=0.7)\n",
    "ax.set_xlabel('Intent', fontsize=14)\n",
    "ax.set_ylabel('Count', fontsize=14)\n",
    "plt.xticks(rotation=0)\n",
    "plt.tick_params(axis='both', which='both',length=0)\n",
    "ax.legend(labels=['Female', 'Male'], frameon=False, loc=0)\n",
    "plt.title('Gender distribution\\nGun Deaths US: 2012-2014', fontsize=14, fontweight='bold')\n",
    "sns.despine()\n",
    "plt.show()"
   ]
  },
  {
   "cell_type": "markdown",
   "metadata": {},
   "source": [
    "There are far more male incidents than female. From this visual we can infer that it will be hard to learn from 'Accidental' cases since there is so little of them.\n",
    "\n",
    "We can look at a similar split to get a sence of the education of the victims:"
   ]
  },
  {
   "cell_type": "code",
   "execution_count": 56,
   "metadata": {},
   "outputs": [
    {
     "data": {
      "image/png": "[encoded data removed]",
      "text/plain": [
       "<Figure size 432x288 with 1 Axes>"
      ]
     },
     "metadata": {},
     "output_type": "display_data"
    }
   ],
   "source": [
    "intent_edu = guns.groupby(['Intent', 'Education'])['Intent'].count().unstack('Education')\n",
    "# creating a range of 5 colors - from light to dark\n",
    "edu_legend_labels = ['Less than\\nElementry school','Less than \\nHigh School', 'Graduated from\\nHigh School\\nor equivalent', \n",
    "                 'Some College', 'At least\\ngraduated\\nfrom College']\n",
    "colors = plt.cm.GnBu(np.linspace(0, 1, 5))\n",
    "ax = intent_edu.plot(kind='bar', stacked=True, color=colors, width=0.5, alpha=0.6)\n",
    "plt.xticks(rotation=0)\n",
    "ax.set_xlabel('Intent', fontsize=14)\n",
    "ax.set_ylabel('Count', fontsize=14)\n",
    "plt.tick_params(axis='both', which='both',length=0)\n",
    "ax.legend(edu_legend_labels, ncol=1, frameon=False, prop={'size':10}, loc=0)\n",
    "plt.ylim(ymin=0, ymax=90000)\n",
    "plt.title('Education distribution\\n in Gun Deaths US: 2012-2014', fontsize=14, fontweight='bold')\n",
    "sns.despine()\n",
    "plt.show()"
   ]
  },
  {
   "cell_type": "markdown",
   "metadata": {},
   "source": [
    "But this is too crowded, so let's make it horizontal and spread it out a bit:"
   ]
  },
  {
   "cell_type": "code",
   "execution_count": 57,
   "metadata": {},
   "outputs": [
    {
     "data": {
      "image/png": "[encoded data removed]",
      "text/plain": [
       "<Figure size 1080x432 with 1 Axes>"
      ]
     },
     "metadata": {},
     "output_type": "display_data"
    }
   ],
   "source": [
    "intent_edu = guns.groupby(['Intent', 'Education'])['Intent'].count().unstack('Education')\n",
    "ax = intent_edu.plot(kind='barh', figsize=(15,6), stacked=True, color=colors, alpha=0.6)\n",
    "ax.set_xlabel('Count', fontsize=20)\n",
    "ax.set_ylabel('Intent', fontsize=20)\n",
    "ax.legend(edu_legend_labels, loc=0,  prop={'size':12}, frameon=False)\n",
    "plt.xlim(xmin=0, xmax=80000)\n",
    "plt.tick_params(axis='both', which='both',length=0)\n",
    "plt.title('Education distribution\\nin Gun Deaths US: 2012-2014', fontsize=20, fontweight='bold')\n",
    "sns.despine()\n",
    "plt.show()"
   ]
  },
  {
   "cell_type": "code",
   "execution_count": 58,
   "metadata": {},
   "outputs": [
    {
     "data": {
      "image/png": "[encoded data removed]",
      "text/plain": [
       "<Figure size 432x288 with 1 Axes>"
      ]
     },
     "metadata": {},
     "output_type": "display_data"
    }
   ],
   "source": [
    "1# the percentage visual is more informative\n",
    "education = pd.crosstab(guns.Education, guns.Intent)\n",
    "education.div(education.sum(1).astype(float), axis=0).plot(kind='bar', stacked=True, alpha=0.6)\n",
    "plt.title('Intent Percentage by Education')\n",
    "plt.xlabel('Education level')\n",
    "plt.ylabel('Percentage')\n",
    "plt.legend(loc='upper center', bbox_to_anchor=(1.1,0.9))\n",
    "sns.despine()"
   ]
  },
  {
   "cell_type": "markdown",
   "metadata": {},
   "source": [
    "Using this split visualization we can see that there is a larger percentage of people with some college education and higher in the suicide gun deaths than in the Homicide incidents. The dark blues are more than a third of the Suicide cases, but only about a quarter of the Homicide cases. This is indication that 'education' could be a helpful variable for our 'intent' prediction.\n",
    "\n",
    "Again, the Accidental bar does not seem to give us any additional info. It may be useless for our prediction, and we're better off going with binary: 'Suicide' vs. 'Homicide'.\n",
    "\n",
    "Moving on to distribution of location:"
   ]
  },
  {
   "cell_type": "code",
   "execution_count": 59,
   "metadata": {},
   "outputs": [
    {
     "data": {
      "image/png": "[encoded data removed]",
      "text/plain": [
       "<Figure size 432x288 with 1 Axes>"
      ]
     },
     "metadata": {},
     "output_type": "display_data"
    }
   ],
   "source": [
    "intent_place = guns.groupby(['Intent', 'Place'])['Intent'].count().unstack('Place')\n",
    "\n",
    "colors = plt.cm.GnBu(np.linspace(0, 2, 20))\n",
    "ax = intent_place.plot(kind='barh', stacked=True, color=colors, alpha=0.8)\n",
    "ax.set_xlabel('Count', fontsize=14)\n",
    "ax.set_ylabel('Intent', fontsize=14)\n",
    "plt.tick_params(axis='both', which='both', length=0)\n",
    "ax.legend(loc=0, ncol=2, prop={'size':10}, frameon=False)\n",
    "plt.title('Location distribution\\nin Gun Deaths US: 2012-2014', fontsize=14, fontweight='bold')\n",
    "sns.despine()\n",
    "plt.show()"
   ]
  },
  {
   "cell_type": "markdown",
   "metadata": {},
   "source": [
    "We can see that most cases of Suicide happen at home. This means that location could be an important variable when we want to predict intent. The Accidental column, again, seems too dense to give us any valuble info.\n",
    "\n",
    "It's almost impossible to conclude things about this visualization since there are a lot of values (i.e colors), and this distribution isn't that useful for us. Let's make it better by merging some of the values."
   ]
  },
  {
   "cell_type": "code",
   "execution_count": 60,
   "metadata": {},
   "outputs": [
    {
     "data": {
      "text/plain": [
       "Home                       59146\n",
       "Other specified            13472\n",
       "Street                     10989\n",
       "Other unspecified           8625\n",
       "Trade/service area          3374\n",
       "School/instiution            659\n",
       "Farm                         465\n",
       "Industrial/construction      238\n",
       "Residential institution      201\n",
       "Sports                       125\n",
       "Name: Place, dtype: int64"
      ]
     },
     "execution_count": 60,
     "metadata": {},
     "output_type": "execute_result"
    }
   ],
   "source": [
    "guns.Place.value_counts()"
   ]
  },
  {
   "cell_type": "code",
   "execution_count": 61,
   "metadata": {},
   "outputs": [
    {
     "data": {
      "text/plain": [
       "Home      59146\n",
       "Other     23547\n",
       "Street    14601\n",
       "Name: Place, dtype: int64"
      ]
     },
     "execution_count": 61,
     "metadata": {},
     "output_type": "execute_result"
    }
   ],
   "source": [
    "#These are too many categories and it's hard to arrive to conclusions\n",
    "# let's merge 'street' with 'trade/service area' and the rest to 'Other'\n",
    "index_temp = guns[(guns['Place'] == 'Trade/service area') | (guns.Place == 'Industrial/construction')].index\n",
    "guns.loc[index_temp, 'Place'] = 'Street'\n",
    "index_temp = guns[(guns['Place'] != 'Street') & (guns.Place != 'Home')].index\n",
    "guns.loc[index_temp, 'Place'] = 'Other'\n",
    "\n",
    "guns.Place.value_counts()"
   ]
  },
  {
   "cell_type": "code",
   "execution_count": 62,
   "metadata": {},
   "outputs": [
    {
     "data": {
      "image/png": "[encoded data removed]",
      "text/plain": [
       "<Figure size 432x288 with 1 Axes>"
      ]
     },
     "metadata": {},
     "output_type": "display_data"
    }
   ],
   "source": [
    "# Let's take another look:\n",
    "intent_place = guns.groupby(['Intent', 'Place'])['Intent'].count().unstack('Place')\n",
    "colors = plt.cm.GnBu(np.linspace(0,2,6))\n",
    "ax = intent_place.plot(kind='barh', stacked=True, color=colors, alpha=0.6)\n",
    "ax.set_xlabel('Count', fontsize=14)\n",
    "ax.set_ylabel('Intent', fontsize=14)\n",
    "plt.tick_params(axis='both', which='both',length=0)\n",
    "ax.legend(loc='upper right', prop={'size':10}, frameon=False)\n",
    "plt.title('Location distribution\\nin Gun Deaths US: 2012-2014', fontsize=14, fontweight='bold')\n",
    "sns.despine()\n",
    "plt.show()"
   ]
  },
  {
   "cell_type": "code",
   "execution_count": 63,
   "metadata": {},
   "outputs": [
    {
     "data": {
      "image/png": "[encoded data removed]",
      "text/plain": [
       "<Figure size 432x288 with 1 Axes>"
      ]
     },
     "metadata": {},
     "output_type": "display_data"
    }
   ],
   "source": [
    "# the percentage visual is more informative\n",
    "place_died = pd.crosstab(guns.Place, guns.Intent)\n",
    "place_died.div(place_died.sum(1).astype(float), axis=0).plot(kind='bar', stacked=True, alpha=0.6)\n",
    "plt.title('Intent Percentage by Place')\n",
    "plt.xlabel('Place of death')\n",
    "plt.ylabel('Percentage')\n",
    "plt.legend(loc='upper center', bbox_to_anchor=(1.1,0.9))\n",
    "sns.despine()"
   ]
  },
  {
   "cell_type": "code",
   "execution_count": 64,
   "metadata": {},
   "outputs": [
    {
     "data": {
      "image/png": "[encoded data removed]",
      "text/plain": [
       "<Figure size 432x288 with 1 Axes>"
      ]
     },
     "metadata": {},
     "output_type": "display_data"
    }
   ],
   "source": [
    "# barplot of gender grouped by intent \n",
    "pd.crosstab(guns.Sex, guns.Intent).plot(kind='bar', alpha=0.6)\n",
    "plt.title('Gender Distribution by Intent')\n",
    "plt.xlabel('Gender')\n",
    "plt.ylabel('Frequency')\n",
    "plt.legend(loc=0)\n",
    "sns.despine()"
   ]
  },
  {
   "cell_type": "code",
   "execution_count": 65,
   "metadata": {},
   "outputs": [
    {
     "data": {
      "image/png": "[encoded data removed]",
      "text/plain": [
       "<Figure size 432x288 with 1 Axes>"
      ]
     },
     "metadata": {},
     "output_type": "display_data"
    }
   ],
   "source": [
    "# barplot of education grouped by intent \n",
    "pd.crosstab(guns.Education, guns.Intent).plot(kind='bar', alpha=0.6)\n",
    "plt.title('Education Distribution by Intent')\n",
    "plt.xlabel('Education')\n",
    "plt.ylabel('Frequency')\n",
    "sns.despine()"
   ]
  },
  {
   "cell_type": "markdown",
   "metadata": {},
   "source": [
    "### Histograms\n",
    "We use value counts and sort_index() in order to organize the age values according to frequency."
   ]
  },
  {
   "cell_type": "code",
   "execution_count": 66,
   "metadata": {},
   "outputs": [
    {
     "data": {
      "image/png": "[encoded data removed]",
      "text/plain": [
       "<Figure size 432x288 with 1 Axes>"
      ]
     },
     "metadata": {},
     "output_type": "display_data"
    }
   ],
   "source": [
    "age_freq = guns.Age.value_counts()\n",
    "sorted_age_freq = age_freq.sort_index()\n",
    "sorted_age_freq.head()\n",
    "plt.hist(guns['Age'], range=(0,107), alpha=0.4)\n",
    "plt.tick_params(axis='both', which='both',length=0)\n",
    "plt.xlim(xmin=0, xmax=110)\n",
    "plt.xlabel('Age', fontsize=14)\n",
    "plt.ylabel('Count', fontsize=14)\n",
    "plt.title('Age distribution', fontsize=14, fontweight='bold')\n",
    "sns.despine(bottom=True, left=True)\n",
    "plt.show()"
   ]
  },
  {
   "cell_type": "markdown",
   "metadata": {},
   "source": [
    "Let's look at the age histogram for the suicide deaths vs. the homicide deaths, and check if there are any evident differences."
   ]
  },
  {
   "cell_type": "code",
   "execution_count": 67,
   "metadata": {},
   "outputs": [
    {
     "data": {
      "image/png": "[encoded data removed]",
      "text/plain": [
       "<Figure size 864x288 with 2 Axes>"
      ]
     },
     "metadata": {},
     "output_type": "display_data"
    }
   ],
   "source": [
    "fig = plt.figure(figsize=(12,4))\n",
    "ax1 = fig.add_subplot(1,2,1)\n",
    "ax2 = fig.add_subplot(1,2,2)\n",
    "\n",
    "suicide = guns[guns['Intent'] == 'Suicide']\n",
    "homicide = guns[guns['Intent'] == 'Homicide']\n",
    "\n",
    "ax1.hist(suicide.Age, 20, alpha=0.4)\n",
    "ax1.set_title('Suicide gun deaths\\nAge Distribution', fontsize=14, fontweight='bold')\n",
    "ax2.hist(homicide.Age, 20, alpha=0.4)\n",
    "ax2.set_title('Homicide gun deaths\\nAge Distribution', fontsize=14, fontweight='bold')\n",
    "ax1.set_xlabel('Age', fontsize=14)\n",
    "ax2.set_xlabel('Age', fontsize=14)\n",
    "ax1.set_ylabel('Frequency', fontsize=14)\n",
    "ax2.set_ylabel('Frequency', fontsize=14)\n",
    "ax1.tick_params(axis='both', which='both',length=0)\n",
    "ax2.tick_params(axis='both', which='both',length=0)\n",
    "ax1.set_xlim(xmin=0, xmax=110)\n",
    "ax2.set_xlim(xmin=0, xmax=110)\n",
    "sns.despine(bottom=True, left=True)\n",
    "plt.show()"
   ]
  },
  {
   "cell_type": "markdown",
   "metadata": {},
   "source": [
    "By looking at this we can see that most of the Homicide deaths occured around the age of 20-21, while most suicide cases are circled just under the age of 55-58 (there is also a noticable peak around the age of 20). If we wanted more accurate numbers - we could take a look at the mean and median of these variables. Again, since we have so little incidents of accidental gun deaths, it's hard to infer anything from that part of the data [red dots]."
   ]
  },
  {
   "cell_type": "code",
   "execution_count": 68,
   "metadata": {},
   "outputs": [
    {
     "name": "stderr",
     "output_type": "stream",
     "text": [
      "/anaconda3/lib/python3.6/site-packages/matplotlib/axes/_axes.py:6462: UserWarning: The 'normed' kwarg is deprecated, and has been replaced by the 'density' kwarg.\n",
      "  warnings.warn(\"The 'normed' kwarg is deprecated, and has been \"\n"
     ]
    },
    {
     "data": {
      "text/plain": [
       "Text(0.5,0.98,'Homicide ages: Gender comparison')"
      ]
     },
     "execution_count": 68,
     "metadata": {},
     "output_type": "execute_result"
    },
    {
     "data": {
      "image/png": "[encoded data removed]",
      "text/plain": [
       "<Figure size 432x216 with 2 Axes>"
      ]
     },
     "metadata": {},
     "output_type": "display_data"
    },
    {
     "data": {
      "image/png": "[encoded data removed]",
      "text/plain": [
       "<Figure size 432x216 with 2 Axes>"
      ]
     },
     "metadata": {},
     "output_type": "display_data"
    }
   ],
   "source": [
    "g = sns.FacetGrid(suicide, col='Sex')  \n",
    "g.map(sns.distplot, 'Age')\n",
    "plt.subplots_adjust(top=0.8)\n",
    "g.set(xlim=(0, 110), ylim=(0, 0.05))\n",
    "g.fig.suptitle('Suicide ages: Gender comparison', fontsize=14, fontweight='bold')\n",
    "g = sns.FacetGrid(homicide, col='Sex') \n",
    "g.map(sns.distplot, 'Age')\n",
    "plt.subplots_adjust(top=0.8)\n",
    "g.set(xlim=(0, 110), ylim=(0, 0.05), xlabel='Age', ylabel='Percentage', )\n",
    "g.fig.suptitle('Homicide ages: Gender comparison', fontsize=14, fontweight='bold')"
   ]
  },
  {
   "cell_type": "code",
   "execution_count": 69,
   "metadata": {},
   "outputs": [
    {
     "name": "stderr",
     "output_type": "stream",
     "text": [
      "/anaconda3/lib/python3.6/site-packages/matplotlib/axes/_axes.py:6462: UserWarning: The 'normed' kwarg is deprecated, and has been replaced by the 'density' kwarg.\n",
      "  warnings.warn(\"The 'normed' kwarg is deprecated, and has been \"\n"
     ]
    },
    {
     "data": {
      "text/plain": [
       "Text(0.5,0.98,'Homicide ages: Race comparison')"
      ]
     },
     "execution_count": 69,
     "metadata": {},
     "output_type": "execute_result"
    },
    {
     "data": {
      "image/png": "[encoded data removed]",
      "text/plain": [
       "<Figure size 1296x216 with 6 Axes>"
      ]
     },
     "metadata": {},
     "output_type": "display_data"
    },
    {
     "data": {
      "image/png": "[encoded data removed]",
      "text/plain": [
       "<Figure size 1296x216 with 6 Axes>"
      ]
     },
     "metadata": {},
     "output_type": "display_data"
    }
   ],
   "source": [
    "g = sns.FacetGrid(suicide, col='Race')  \n",
    "g.map(sns.distplot, 'Age')\n",
    "g.set(xlim=(0, None))\n",
    "plt.subplots_adjust(top=0.8)\n",
    "g.set(xlim=(0, 110), ylim=(0, 0.06), xlabel='Age')\n",
    "g.fig.suptitle('Suicide ages: Race comparison', fontsize=14, fontweight='bold')\n",
    "g = sns.FacetGrid(homicide, col='Race') \n",
    "g.map(sns.distplot, 'Age')\n",
    "g.set(xlim=(0, None))\n",
    "plt.subplots_adjust(top=0.8)\n",
    "g.set(xlim=(0, 110), ylim=(0, 0.06), xlabel='Age')\n",
    "g.fig.suptitle('Homicide ages: Race comparison', fontsize=14, fontweight='bold')"
   ]
  },
  {
   "cell_type": "code",
   "execution_count": null,
   "metadata": {},
   "outputs": [],
   "source": []
  }
 ],
 "metadata": {
  "kernelspec": {
   "display_name": "Python 3",
   "language": "python",
   "name": "python3"
  },
  "language_info": {
   "codemirror_mode": {
    "name": "ipython",
    "version": 3
   },
   "file_extension": ".py",
   "mimetype": "text/x-python",
   "name": "python",
   "nbconvert_exporter": "python",
   "pygments_lexer": "ipython3",
   "version": "3.6.4"
  }
 },
 "nbformat": 4,
 "nbformat_minor": 2
}
