{
 "cells": [
  {
   "cell_type": "markdown",
   "metadata": {},
   "source": [
    "![world-cup-18](images/fifa-world-cup-2018.jpg)"
   ]
  },
  {
   "cell_type": "code",
   "execution_count": null,
   "metadata": {},
   "outputs": [],
   "source": [
    "# Import libraries\n",
    "import pandas as pd\n",
    "import numpy as np\n",
    "\n",
    "import seaborn as sns\n",
    "import matplotlib.pyplot as plt\n",
    "%matplotlib inline\n",
    "\n",
    "!pip install plotly\n",
    "!pip install geopy\n",
    "from plotly.offline import iplot, init_notebook_mode\n",
    "from geopy.geocoders import Nominatim\n",
    "import plotly.plotly as py"
   ]
  },
  {
   "cell_type": "markdown",
   "metadata": {},
   "source": [
    "## 1 - Data Preparation\n",
    "### 1.1 Load Data"
   ]
  },
  {
   "cell_type": "code",
   "execution_count": null,
   "metadata": {},
   "outputs": [],
   "source": [
    "FIFA18 = pd.read_csv('data/CompleteDataset.csv', low_memory=False)\n",
    "FIFA18.columns"
   ]
  },
  {
   "cell_type": "markdown",
   "metadata": {},
   "source": [
    "Let's select the most interesting columns from loaded dataset:"
   ]
  },
  {
   "cell_type": "code",
   "execution_count": null,
   "metadata": {},
   "outputs": [],
   "source": [
    "interesting_columns = [\n",
    "    'Name', \n",
    "    'Age',  \n",
    "    'Nationality', \n",
    "    'Overall', \n",
    "    'Potential', \n",
    "    'Club', \n",
    "    'Value', \n",
    "    'Wage', \n",
    "    'Preferred Positions'\n",
    "]\n",
    "FIFA18 = pd.DataFrame(FIFA18, columns=interesting_columns)"
   ]
  },
  {
   "cell_type": "markdown",
   "metadata": {},
   "source": [
    "### 1.2 Summarize Data"
   ]
  },
  {
   "cell_type": "code",
   "execution_count": null,
   "metadata": {},
   "outputs": [],
   "source": [
    "FIFA18.head()"
   ]
  },
  {
   "cell_type": "code",
   "execution_count": null,
   "metadata": {},
   "outputs": [],
   "source": [
    "FIFA18.info()"
   ]
  },
  {
   "cell_type": "markdown",
   "metadata": {},
   "source": [
    "### 1.3 Preprocess Data\n",
    "Right away I can see that values in columns: 'Value' and 'Wage' aren't numeric but objects. Thus I'll preprocess the data to make it usable. I will use short supporting function to convert values in those two columns into numbers. I will end up with two new columns 'ValueNum' and 'WageNum' that will contain numeric values."
   ]
  },
  {
   "cell_type": "code",
   "execution_count": null,
   "metadata": {},
   "outputs": [],
   "source": [
    "# Supporting function for converting string values into numbers\n",
    "def str2number(amount):\n",
    "    if amount[-1] == 'M':\n",
    "        return float(amount[1:-1])*1000000\n",
    "    elif amount[-1] == 'K':\n",
    "        return float(amount[1:-1])*1000\n",
    "    else:\n",
    "        return float(amount[1:])\n",
    "    \n",
    "FIFA18['ValueNum'] = FIFA18['Value'].apply(lambda x: str2number(x))\n",
    "FIFA18['WageNum'] = FIFA18['Wage'].apply(lambda x: str2number(x))"
   ]
  },
  {
   "cell_type": "markdown",
   "metadata": {},
   "source": [
    "To make things simpler, I select the first position from list as preferred and save it in 'Position' column."
   ]
  },
  {
   "cell_type": "code",
   "execution_count": null,
   "metadata": {},
   "outputs": [],
   "source": [
    "FIFA18['Position'] = FIFA18['Preferred Positions'].str.split().str[0]"
   ]
  },
  {
   "cell_type": "markdown",
   "metadata": {},
   "source": [
    "## 2 - Data Visualization\n",
    "### 2.1 Age"
   ]
  },
  {
   "cell_type": "code",
   "execution_count": null,
   "metadata": {},
   "outputs": [],
   "source": [
    "plt.figure(figsize=(16,8))\n",
    "sns.set_style(\"whitegrid\")\n",
    "plt.title('Grouping players by Age', fontsize=30, fontweight='bold', y=1.05,)\n",
    "plt.xlabel('Number of players', fontsize=25)\n",
    "plt.ylabel('Players Age', fontsize=25)\n",
    "sns.countplot(x=\"Age\", data=FIFA18, palette=\"hls\");\n",
    "plt.show()"
   ]
  },
  {
   "cell_type": "markdown",
   "metadata": {},
   "source": [
    "### 2.2 Overall"
   ]
  },
  {
   "cell_type": "code",
   "execution_count": null,
   "metadata": {},
   "outputs": [],
   "source": [
    "plt.figure(figsize=(16,8))\n",
    "sns.set_style(\"whitegrid\")\n",
    "plt.title('Grouping players by Overall', fontsize=30, fontweight='bold', y=1.05,)\n",
    "plt.xlabel('Number of players', fontsize=25)\n",
    "plt.ylabel('Players Age', fontsize=25)\n",
    "sns.countplot(x=\"Overall\", data=FIFA18, palette=\"hls\");\n",
    "plt.show()"
   ]
  },
  {
   "cell_type": "markdown",
   "metadata": {},
   "source": [
    "### 2.3 Preferred Position"
   ]
  },
  {
   "cell_type": "code",
   "execution_count": null,
   "metadata": {},
   "outputs": [],
   "source": [
    "plt.figure(figsize=(16,8))\n",
    "sns.set_style(\"whitegrid\")\n",
    "plt.title('Grouping players by Preferred Position', fontsize=30, fontweight='bold', y=1.05,)\n",
    "plt.xlabel('Number of players', fontsize=25)\n",
    "plt.ylabel('Players Age', fontsize=25)\n",
    "sns.countplot(x=\"Position\", data=FIFA18, palette=\"hls\");\n",
    "plt.show()"
   ]
  },
  {
   "cell_type": "markdown",
   "metadata": {},
   "source": [
    "### 2.4 Nationality"
   ]
  },
  {
   "cell_type": "code",
   "execution_count": null,
   "metadata": {},
   "outputs": [],
   "source": [
    "# Grouping the data by countries\n",
    "valcon = FIFA18.groupby(\"Nationality\").size().reset_index(name=\"Count\")\n",
    "\n",
    "# Plotting the choropleth map\n",
    "init_notebook_mode()\n",
    "plotmap = [ dict(\n",
    "        type = 'choropleth',\n",
    "        locations = valcon[\"Nationality\"],\n",
    "        locationmode = 'country names',\n",
    "        z = valcon[\"Count\"],\n",
    "        text = valcon[\"Nationality\"],\n",
    "        autocolorscale = True,\n",
    "        reversescale = False,\n",
    "        marker = dict(\n",
    "            line = dict (\n",
    "                color = 'rgb(180,180,180)',\n",
    "                width = 0.8\n",
    "            ) ),\n",
    "        colorbar = dict(\n",
    "            title = \"Amount of Players\"),\n",
    "      ) ]\n",
    "\n",
    "layout = dict(\n",
    "    title = \"Nationalities of FIFA 18 Players\",\n",
    "    geo = dict(\n",
    "        showframe = False,\n",
    "        showcoastlines = False,\n",
    "        projection = dict(\n",
    "            type = 'mercator'\n",
    "        )\n",
    "    )\n",
    ")\n",
    "\n",
    "fig = dict( data=plotmap, layout=layout )\n",
    "iplot(fig)"
   ]
  },
  {
   "cell_type": "code",
   "execution_count": null,
   "metadata": {},
   "outputs": [],
   "source": [
    "FIFA18[\"Nationality\"].value_counts().head(25)"
   ]
  },
  {
   "cell_type": "markdown",
   "metadata": {},
   "source": [
    "I can see that the players are very centralized in Europe. To be precise, England, Germany, Spain, and France.\n",
    "\n",
    "### 2.5 Value\n",
    "Let's see the 20 players with highest value:"
   ]
  },
  {
   "cell_type": "code",
   "execution_count": null,
   "metadata": {},
   "outputs": [],
   "source": [
    "sorted_players = FIFA18.sort_values([\"ValueNum\"], ascending=False).head(20)\n",
    "players = sorted_players[[\"Name\" ,\"Age\" ,\"Nationality\" ,\"Club\" ,\"Position\" ,\"Value\"]].values"
   ]
  },
  {
   "cell_type": "code",
   "execution_count": null,
   "metadata": {},
   "outputs": [],
   "source": [
    "from IPython.display import HTML, display\n",
    "\n",
    "table_content = ''\n",
    "for row in players:\n",
    "    HTML_row = '<tr>'\n",
    "    HTML_row += '<td>' + str(row[0]) + '</td>'\n",
    "    HTML_row += '<td>' + str(row[1]) + '</td>'\n",
    "    HTML_row += '<td>' + str(row[2]) + '</td>'\n",
    "    HTML_row += '<td>' + str(row[3]) + '</td>'\n",
    "    HTML_row += '<td>' + str(row[4]) + '</td>'\n",
    "    HTML_row += '<td>' + str(row[5]) + '</td>'\n",
    "    \n",
    "    table_content += HTML_row + '</tr>'\n",
    "\n",
    "display(HTML(\n",
    "    '<table><tr><th>Name</th><th>Age</th><th>Nationality</th><th>Club</th><th>Position</th><th>Value</th></tr>{}</table>'.format(table_content))\n",
    ")"
   ]
  },
  {
   "cell_type": "markdown",
   "metadata": {},
   "source": [
    "Let's make a scatter chart of the players' Value with respect to their Age and Overall:"
   ]
  },
  {
   "cell_type": "code",
   "execution_count": null,
   "metadata": {},
   "outputs": [],
   "source": [
    "plt.figure(figsize=(16,8))\n",
    "sns.set_style(\"whitegrid\")\n",
    "plt.title('Players Value according to their Age and Overall', fontsize=30, fontweight='bold', y=1.05,)\n",
    "plt.xlabel('Age', fontsize=25)\n",
    "plt.ylabel('Overall', fontsize=25)\n",
    "\n",
    "age = FIFA18[\"Age\"].values\n",
    "overall = FIFA18[\"Overall\"].values\n",
    "value = FIFA18[\"ValueNum\"].values\n",
    "\n",
    "plt.scatter(age, overall, s = value/100000, edgecolors='black')\n",
    "plt.show()"
   ]
  },
  {
   "cell_type": "markdown",
   "metadata": {},
   "source": [
    "### 2.6 Wage\n",
    "Let's see the 20 players with highest wage:"
   ]
  },
  {
   "cell_type": "code",
   "execution_count": null,
   "metadata": {},
   "outputs": [],
   "source": [
    "sorted_players = FIFA18.sort_values([\"WageNum\"], ascending=False).head(20)\n",
    "players = sorted_players[[\"Name\" ,\"Age\" ,\"Nationality\" ,\"Club\" ,\"Position\" ,\"Wage\"]].values"
   ]
  },
  {
   "cell_type": "code",
   "execution_count": null,
   "metadata": {},
   "outputs": [],
   "source": [
    "from IPython.display import HTML, display\n",
    "\n",
    "table_content = ''\n",
    "for row in players:\n",
    "    HTML_row = '<tr>'\n",
    "    HTML_row += '<td>' + str(row[0]) + '</td>'\n",
    "    HTML_row += '<td>' + str(row[1]) + '</td>'\n",
    "    HTML_row += '<td>' + str(row[2]) + '</td>'\n",
    "    HTML_row += '<td>' + str(row[3]) + '</td>'\n",
    "    HTML_row += '<td>' + str(row[4]) + '</td>'\n",
    "    HTML_row += '<td>' + str(row[5]) + '</td>'\n",
    "    \n",
    "    table_content += HTML_row + '</tr>'\n",
    "\n",
    "display(HTML(\n",
    "    '<table><tr><th>Name</th><th>Age</th><th>Nationality</th><th>Club</th><th>Position</th><th>Wage</th></tr>{}</table>'.format(table_content))\n",
    ")"
   ]
  },
  {
   "cell_type": "markdown",
   "metadata": {},
   "source": [
    "Let's make a scatter chart of the players' Wage with respect to their Age and Overall:"
   ]
  },
  {
   "cell_type": "code",
   "execution_count": null,
   "metadata": {},
   "outputs": [],
   "source": [
    "plt.figure(figsize=(16,8))\n",
    "sns.set_style(\"whitegrid\")\n",
    "plt.title('Players Wage according to their Age and Overall', fontsize=30, fontweight='bold', y=1.05,)\n",
    "plt.xlabel('Age', fontsize=25)\n",
    "plt.ylabel('Overall', fontsize=25)\n",
    "\n",
    "age = FIFA18[\"Age\"].values\n",
    "overall = FIFA18[\"Overall\"].values\n",
    "value = FIFA18[\"WageNum\"].values\n",
    "\n",
    "plt.scatter(age, overall, s = value/500, edgecolors='black', color=\"red\")\n",
    "plt.show()"
   ]
  },
  {
   "cell_type": "markdown",
   "metadata": {},
   "source": [
    "## 3 - Best Squad Analysis\n",
    "For simplicity of this analysis, I only pull in data I am interested in:"
   ]
  },
  {
   "cell_type": "code",
   "execution_count": null,
   "metadata": {},
   "outputs": [],
   "source": [
    "FIFA18 = FIFA18[['Name', 'Age', 'Nationality', 'Overall', 'Potential', 'Club', 'Position', 'Value', 'Wage']]\n",
    "FIFA18.head(10)"
   ]
  },
  {
   "cell_type": "markdown",
   "metadata": {},
   "source": [
    "### 3.1 Squad of Highest Overall Players\n",
    "What's the best squad according to FIFA 18 purely based on overall rating?"
   ]
  },
  {
   "cell_type": "code",
   "execution_count": null,
   "metadata": {},
   "outputs": [],
   "source": [
    "def get_best_squad(formation):\n",
    "    FIFA18_copy = FIFA18.copy()\n",
    "    store = []\n",
    "    \n",
    "    # iterate through all positions in the input formation and get players with highest overall respective to the position\n",
    "    for i in formation:\n",
    "        store.append([\n",
    "            i,\n",
    "            FIFA18_copy.loc[[FIFA18_copy[FIFA18_copy['Position'] == i]['Overall'].idxmax()]]['Name'].to_string(index = False),\n",
    "            FIFA18_copy[FIFA18_copy['Position'] == i]['Overall'].max(),\n",
    "            FIFA18_copy.loc[[FIFA18_copy[FIFA18_copy['Position'] == i]['Overall'].idxmax()]]['Age'].to_string(index = False),\n",
    "            FIFA18_copy.loc[[FIFA18_copy[FIFA18_copy['Position'] == i]['Overall'].idxmax()]]['Club'].to_string(index = False),\n",
    "            FIFA18_copy.loc[[FIFA18_copy[FIFA18_copy['Position'] == i]['Overall'].idxmax()]]['Value'].to_string(index = False),\n",
    "            FIFA18_copy.loc[[FIFA18_copy[FIFA18_copy['Position'] == i]['Overall'].idxmax()]]['Wage'].to_string(index = False)\n",
    "        ])\n",
    "                      \n",
    "        FIFA18_copy.drop(FIFA18_copy[FIFA18_copy['Position'] == i]['Overall'].idxmax(), \n",
    "                         inplace = True)\n",
    "    \n",
    "    # return store with only necessary columns\n",
    "    return pd.DataFrame(np.array(store).reshape(11,7), \n",
    "                        columns = ['Position', 'Player', 'Overall', 'Age', 'Club', 'Value', 'Wage']).to_string(index = False)"
   ]
  },
  {
   "cell_type": "code",
   "execution_count": null,
   "metadata": {},
   "outputs": [],
   "source": [
    "# 4-3-3\n",
    "squad_433 = ['GK', 'RB', 'CB', 'CB', 'LB', 'CDM', 'CM', 'CAM', 'RW', 'ST', 'LW']\n",
    "print ('4-3-3')\n",
    "print (get_best_squad(squad_433))"
   ]
  },
  {
   "cell_type": "code",
   "execution_count": null,
   "metadata": {},
   "outputs": [],
   "source": [
    "# 4-4-2\n",
    "squad_442 = ['GK', 'RB', 'CB', 'CB', 'LB', 'RM', 'CM', 'CM', 'LM', 'ST', 'ST']\n",
    "print ('4-4-2')\n",
    "print (get_best_squad(squad_442))"
   ]
  },
  {
   "cell_type": "code",
   "execution_count": null,
   "metadata": {},
   "outputs": [],
   "source": [
    "# 4-2-3-1\n",
    "squad_4231 = ['GK', 'RB', 'CB', 'CB', 'LB', 'CDM', 'CDM', 'CAM', 'CAM', 'CAM', 'ST']\n",
    "print ('4-2-3-1')\n",
    "print (get_best_squad(squad_4231))"
   ]
  },
  {
   "cell_type": "markdown",
   "metadata": {},
   "source": [
    "Alright, now let's move onto studying different squad's impact on Nationality teams. First let's modifiy above get_summary and get_best_squad functions for Nationality:"
   ]
  },
  {
   "cell_type": "code",
   "execution_count": null,
   "metadata": {},
   "outputs": [],
   "source": [
    "def get_best_squad_n(formation, nationality, measurement = 'Overall'):\n",
    "    FIFA18_copy = FIFA18.copy()\n",
    "    FIFA18_copy = FIFA18_copy[FIFA18_copy['Nationality'] == nationality]\n",
    "    store = []\n",
    "    \n",
    "    for i in formation:\n",
    "        store.append([\n",
    "            FIFA18_copy.loc[[FIFA18_copy[FIFA18_copy['Position'].str.contains(i)][measurement].idxmax()]]['Position'].to_string(index = False),\n",
    "            FIFA18_copy.loc[[FIFA18_copy[FIFA18_copy['Position'].str.contains(i)][measurement].idxmax()]]['Name'].to_string(index = False), \n",
    "            FIFA18_copy[FIFA18_copy['Position'].str.contains(i)][measurement].max(),\n",
    "            FIFA18_copy.loc[[FIFA18_copy[FIFA18_copy['Position'].str.contains(i)][measurement].idxmax()]]['Age'].to_string(index = False),\n",
    "            FIFA18_copy.loc[[FIFA18_copy[FIFA18_copy['Position'].str.contains(i)][measurement].idxmax()]]['Club'].to_string(index = False),\n",
    "            FIFA18_copy.loc[[FIFA18_copy[FIFA18_copy['Position'].str.contains(i)][measurement].idxmax()]]['Value'].to_string(index = False),\n",
    "            FIFA18_copy.loc[[FIFA18_copy[FIFA18_copy['Position'].str.contains(i)][measurement].idxmax()]]['Wage'].to_string(index = False)\n",
    "        ])\n",
    "        \n",
    "        FIFA18_copy.drop(FIFA18_copy[FIFA18_copy['Position'].str.contains(i)][measurement].idxmax(), \n",
    "                         inplace = True)\n",
    "    \n",
    "    return np.mean([x[2] for x in store]).round(2), pd.DataFrame(np.array(store).reshape(11,7), \n",
    "                                                                 columns = ['Position', 'Player', measurement, 'Age', 'Club', 'Value', 'Wage']).to_string(index = False)"
   ]
  },
  {
   "cell_type": "code",
   "execution_count": null,
   "metadata": {},
   "outputs": [],
   "source": [
    "def get_summary_n(squad_list, squad_name, nationality_list):\n",
    "    summary = []\n",
    "\n",
    "    for i in nationality_list:\n",
    "        count = 0\n",
    "        for j in squad_list:\n",
    "            \n",
    "            # for overall rating\n",
    "            O_temp_rating, _  = get_best_squad_n(formation = j, nationality = i, measurement = 'Overall')\n",
    "            \n",
    "            # for potential rating & corresponding value\n",
    "            P_temp_rating, _ = get_best_squad_n(formation = j, nationality = i, measurement = 'Potential')\n",
    "            \n",
    "            summary.append([i, squad_name[count], O_temp_rating.round(2), P_temp_rating.round(2)])    \n",
    "            count += 1\n",
    "    \n",
    "    return summary"
   ]
  },
  {
   "cell_type": "markdown",
   "metadata": {},
   "source": [
    "Also let's make our squad choices more strict:"
   ]
  },
  {
   "cell_type": "code",
   "execution_count": null,
   "metadata": {},
   "outputs": [],
   "source": [
    "squad_343_strict = ['GK', 'CB', 'CB', 'CB', 'RB|RWB', 'CM|CDM', 'CM|CDM', 'LB|LWB', 'RM|RW', 'ST|CF', 'LM|LW']\n",
    "squad_442_strict = ['GK', 'RB|RWB', 'CB', 'CB', 'LB|LWB', 'RM', 'CM|CDM', 'CM|CAM', 'LM', 'ST|CF', 'ST|CF']\n",
    "squad_4312_strict = ['GK', 'RB|RWB', 'CB', 'CB', 'LB|LWB', 'CM|CDM', 'CM|CAM|CDM', 'CM|CAM|CDM', 'CAM|CF', 'ST|CF', 'ST|CF']\n",
    "squad_433_strict = ['GK', 'RB|RWB', 'CB', 'CB', 'LB|LWB', 'CM|CDM', 'CM|CAM|CDM', 'CM|CAM|CDM', 'RM|RW', 'ST|CF', 'LM|LW']\n",
    "squad_4231_strict = ['GK', 'RB|RWB', 'CB', 'CB', 'LB|LWB', 'CM|CDM', 'CM|CDM', 'RM|RW', 'CAM', 'LM|LW', 'ST|CF']"
   ]
  },
  {
   "cell_type": "code",
   "execution_count": null,
   "metadata": {},
   "outputs": [],
   "source": [
    "squad_list = [squad_343_strict, squad_442_strict, squad_4312_strict, squad_433_strict, squad_4231_strict]\n",
    "squad_name = ['3-4-3', '4-4-2', '4-3-1-2', '4-3-3', '4-2-3-1']"
   ]
  },
  {
   "cell_type": "markdown",
   "metadata": {},
   "source": [
    "### 3.2 France\n",
    "Let's explore different squad possibility of France and how it affects the ratings:"
   ]
  },
  {
   "cell_type": "code",
   "execution_count": null,
   "metadata": {},
   "outputs": [],
   "source": [
    "France = pd.DataFrame(np.array(get_summary_n(squad_list, squad_name, ['France'])).reshape(-1,4), columns = ['Nationality', 'Squad', 'Overall', 'Potential'])\n",
    "France.set_index('Nationality', inplace = True)\n",
    "France[['Overall', 'Potential']] = France[['Overall', 'Potential']].astype(float)\n",
    "\n",
    "print (France)"
   ]
  },
  {
   "cell_type": "markdown",
   "metadata": {},
   "source": [
    "So we can say that France has the best squard as 4-3-3 for the current squad; and 4-4-2, 4-3-3, and 4-2-3-1 for the future squad based on team ratings. Let's check out the best 11 squad line-up of France in 4-3-3 for current rating as well as 4-4-2 for potential rating:"
   ]
  },
  {
   "cell_type": "code",
   "execution_count": null,
   "metadata": {},
   "outputs": [],
   "source": [
    "rating_433_FR_Overall, best_list_433_FR_Overall = get_best_squad_n(squad_433_strict, 'France', 'Overall')\n",
    "print('-Overall-')\n",
    "print('Average rating: {:.1f}'.format(rating_433_FR_Overall))\n",
    "print(best_list_433_FR_Overall)"
   ]
  },
  {
   "cell_type": "code",
   "execution_count": null,
   "metadata": {},
   "outputs": [],
   "source": [
    "rating_442_FR_Potential, best_list_442_FR_Potential = get_best_squad_n(squad_442_strict, 'France', 'Potential')\n",
    "print('-Potential-')\n",
    "print('Average rating: {:.1f}'.format(rating_442_FR_Potential))\n",
    "print(best_list_442_FR_Potential)"
   ]
  },
  {
   "cell_type": "markdown",
   "metadata": {
    "collapsed": true
   },
   "source": [
    "![griezmann](images/griezmann.jpeg)\n",
    "\n",
    "### 3.3 Germany\n",
    "The holding champion is certainly a heavy candidate for this year's 1st place:"
   ]
  },
  {
   "cell_type": "code",
   "execution_count": null,
   "metadata": {},
   "outputs": [],
   "source": [
    "Germany = pd.DataFrame(np.array(get_summary_n(squad_list, squad_name, ['Germany'])).reshape(-1,4), columns = ['Nationality', 'Squad', 'Overall', 'Potential'])\n",
    "Germany.set_index('Nationality', inplace = True)\n",
    "Germany[['Overall', 'Potential']] = Germany[['Overall', 'Potential']].astype(float)\n",
    "\n",
    "print (Germany)"
   ]
  },
  {
   "cell_type": "markdown",
   "metadata": {},
   "source": [
    "As you can see, Germany's current ratings peak with either 3-4-3 or 4-3-3 formation; while those 2 plus 4-2-3-1 are their best options for the future. With that, I'll show Germany's best 11 squad with 4-3-3 for current ratings and 4-2-3-1 for potential ratings."
   ]
  },
  {
   "cell_type": "code",
   "execution_count": null,
   "metadata": {},
   "outputs": [],
   "source": [
    "rating_433_GER_Overall, best_list_433_GER_Overall = get_best_squad_n(squad_433_strict, 'Germany', 'Overall')\n",
    "print('-Overall-')\n",
    "print('Average rating: {:.1f}'.format(rating_433_GER_Overall))\n",
    "print(best_list_433_GER_Overall)"
   ]
  },
  {
   "cell_type": "code",
   "execution_count": null,
   "metadata": {},
   "outputs": [],
   "source": [
    "rating_4231_GER_Potential, best_list_4231_GER_Potential = get_best_squad_n(squad_4231_strict, 'Germany', 'Potential')\n",
    "print('-Potential-')\n",
    "print('Average rating: {:.1f}'.format(rating_4231_GER_Potential))\n",
    "print(best_list_4231_GER_Potential)"
   ]
  },
  {
   "cell_type": "markdown",
   "metadata": {},
   "source": [
    "![kroos](images/kroos.jpeg)\n",
    "\n",
    "### 3.4 Spain\n",
    "How about our 2010's winner?"
   ]
  },
  {
   "cell_type": "code",
   "execution_count": null,
   "metadata": {},
   "outputs": [],
   "source": [
    "Spain = pd.DataFrame(np.array(get_summary_n(squad_list, squad_name, ['Spain'])).reshape(-1,4), columns = ['Nationality', 'Squad', 'Overall', 'Potential'])\n",
    "Spain.set_index('Nationality', inplace = True)\n",
    "Spain[['Overall', 'Potential']] = Spain[['Overall', 'Potential']].astype(float)\n",
    "\n",
    "print (Spain)"
   ]
  },
  {
   "cell_type": "markdown",
   "metadata": {},
   "source": [
    "Well, Spain does best with either 4-3-3 or 4-2-3-1 for both current and potential rating. I'll choose 4-2-3-1 for the current squad and 4-3-3 for the potential squad."
   ]
  },
  {
   "cell_type": "code",
   "execution_count": null,
   "metadata": {},
   "outputs": [],
   "source": [
    "rating_4231_ESP_Overall, best_list_4231_ESP_Overall = get_best_squad_n(squad_4231_strict, 'Spain', 'Overall')\n",
    "print('-Overall-')\n",
    "print('Average rating: {:.1f}'.format(rating_4231_ESP_Overall))\n",
    "print(best_list_4231_ESP_Overall)"
   ]
  },
  {
   "cell_type": "code",
   "execution_count": null,
   "metadata": {},
   "outputs": [],
   "source": [
    "rating_433_ESP_Potential, best_list_433_ESP_Potential = get_best_squad_n(squad_433_strict, 'Spain', 'Potential')\n",
    "print('-Potential-')\n",
    "print('Average rating: {:.1f}'.format(rating_433_ESP_Potential))\n",
    "print(best_list_433_ESP_Potential)"
   ]
  },
  {
   "cell_type": "markdown",
   "metadata": {},
   "source": [
    "![ramos](images/ramos.jpg)\n",
    "\n",
    "### 3.5 England\n",
    "Although having the best soccer league in Europe, England did not seem to do that well at the national level. Let's figure out their options for the upcoming World Cup:"
   ]
  },
  {
   "cell_type": "code",
   "execution_count": null,
   "metadata": {},
   "outputs": [],
   "source": [
    "England = pd.DataFrame(np.array(get_summary_n(squad_list, squad_name, ['England'])).reshape(-1,4), columns = ['Nationality', 'Squad', 'Overall', 'Potential'])\n",
    "England.set_index('Nationality', inplace = True)\n",
    "England[['Overall', 'Potential']] = England[['Overall', 'Potential']].astype(float)\n",
    "\n",
    "print (England)"
   ]
  },
  {
   "cell_type": "markdown",
   "metadata": {},
   "source": [
    "England should stick to 4-3-3 with their current squad and either 4-3-3 or 4-2-3-1 with their potential squad. Thus, I'll choose 4-3-3 and 4-2-3-1 respectively."
   ]
  },
  {
   "cell_type": "code",
   "execution_count": null,
   "metadata": {},
   "outputs": [],
   "source": [
    "rating_433_ENG_Overall, best_list_433_ENG_Overall = get_best_squad_n(squad_433_strict, 'England', 'Overall')\n",
    "print('-Overall-')\n",
    "print('Average rating: {:.1f}'.format(rating_433_ENG_Overall))\n",
    "print(best_list_433_ENG_Overall)"
   ]
  },
  {
   "cell_type": "code",
   "execution_count": null,
   "metadata": {},
   "outputs": [],
   "source": [
    "rating_4231_ENG_Potential, best_list_4231_ENG_Potential = get_best_squad_n(squad_4231_strict, 'England', 'Potential')\n",
    "print('-Potential-')\n",
    "print('Average rating: {:.1f}'.format(rating_4231_ENG_Potential))\n",
    "print(best_list_4231_ENG_Potential)"
   ]
  },
  {
   "cell_type": "markdown",
   "metadata": {},
   "source": [
    "![kane](images/kane.jpg)\n",
    "\n",
    "### 3.6 Brazil\n",
    "Having won the World Cup the most times in history, the Samba team will no doubt be one of the top candidates for this summer in Russia."
   ]
  },
  {
   "cell_type": "code",
   "execution_count": null,
   "metadata": {},
   "outputs": [],
   "source": [
    "Brazil = pd.DataFrame(np.array(get_summary_n(squad_list, squad_name, ['Brazil'])).reshape(-1,4), columns = ['Nationality', 'Squad', 'Overall', 'Potential'])\n",
    "Brazil.set_index('Nationality', inplace = True)\n",
    "Brazil[['Overall', 'Potential']] = Brazil[['Overall', 'Potential']].astype(float)\n",
    "\n",
    "print (Brazil)"
   ]
  },
  {
   "cell_type": "markdown",
   "metadata": {},
   "source": [
    "As you can see, Brazil has similar options like England. I'll go with 4-3-3 for the current rating and 4-2-3-1 for the potential rating."
   ]
  },
  {
   "cell_type": "code",
   "execution_count": null,
   "metadata": {},
   "outputs": [],
   "source": [
    "rating_433_BRA_Overall, best_list_433_BRA_Overall = get_best_squad_n(squad_433_strict, 'Brazil', 'Overall')\n",
    "print('-Overall-')\n",
    "print('Average rating: {:.1f}'.format(rating_433_BRA_Overall))\n",
    "print(best_list_433_BRA_Overall)"
   ]
  },
  {
   "cell_type": "code",
   "execution_count": null,
   "metadata": {},
   "outputs": [],
   "source": [
    "rating_4231_BRA_Potential, best_list_4231_BRA_Potential = get_best_squad_n(squad_4231_strict, 'Brazil', 'Potential')\n",
    "print('-Potential-')\n",
    "print('Average rating: {:.1f}'.format(rating_4231_BRA_Potential))\n",
    "print(best_list_4231_BRA_Potential)"
   ]
  },
  {
   "cell_type": "markdown",
   "metadata": {},
   "source": [
    "![neymar](images/neymar.jpg)\n",
    "\n",
    "### 3.7 Argentina\n",
    "Lionel Messi is still waiting for the only trophy he hasn't gotten yet in his career. Can he carry Argentina to the top after going short in the final 4 years ago?"
   ]
  },
  {
   "cell_type": "code",
   "execution_count": null,
   "metadata": {},
   "outputs": [],
   "source": [
    "Argentina = pd.DataFrame(np.array(get_summary_n(squad_list, squad_name, ['Argentina'])).reshape(-1,4), columns = ['Nationality', 'Squad', 'Overall', 'Potential'])\n",
    "Argentina.set_index('Nationality', inplace = True)\n",
    "Argentina[['Overall', 'Potential']] = Argentina[['Overall', 'Potential']].astype(float)\n",
    "\n",
    "print (Argentina)"
   ]
  },
  {
   "cell_type": "markdown",
   "metadata": {},
   "source": [
    "Both 3-4-3 and 4-3-3 fare very well for the current and potential ratings of Argentine players. For the sake of diversity, I'll choose 3-4-3 for their current squad and 4-3-3 for their future squad."
   ]
  },
  {
   "cell_type": "code",
   "execution_count": null,
   "metadata": {},
   "outputs": [],
   "source": [
    "rating_343_ARG_Overall, best_list_343_ARG_Overall = get_best_squad_n(squad_343_strict, 'Argentina', 'Overall')\n",
    "print('-Overall-')\n",
    "print('Average rating: {:.1f}'.format(rating_343_ARG_Overall))\n",
    "print(best_list_343_ARG_Overall)"
   ]
  },
  {
   "cell_type": "code",
   "execution_count": null,
   "metadata": {},
   "outputs": [],
   "source": [
    "rating_433_ARG_Potential, best_list_433_ARG_Potential = get_best_squad_n(squad_433_strict, 'Argentina', 'Potential')\n",
    "print('-Potential-')\n",
    "print('Average rating: {:.1f}'.format(rating_433_ARG_Potential))\n",
    "print(best_list_433_ARG_Potential)"
   ]
  },
  {
   "cell_type": "markdown",
   "metadata": {},
   "source": [
    "![messi](images/messi.jpg)\n",
    "\n",
    "### 3.8 Belgium\n",
    "The Red Devils has some of the best players in English Premier League, but can't never seem to make it far in the national level. Can Hazard and De Bruyne drive them far this time?"
   ]
  },
  {
   "cell_type": "code",
   "execution_count": null,
   "metadata": {},
   "outputs": [],
   "source": [
    "Belgium = pd.DataFrame(np.array(get_summary_n(squad_list, squad_name, ['Belgium'])).reshape(-1,4), columns = ['Nationality', 'Squad', 'Overall', 'Potential'])\n",
    "Belgium.set_index('Nationality', inplace = True)\n",
    "Belgium[['Overall', 'Potential']] = Belgium[['Overall', 'Potential']].astype(float)\n",
    "\n",
    "print (Belgium)"
   ]
  },
  {
   "cell_type": "markdown",
   "metadata": {},
   "source": [
    "Again, 4-3-3 is the best formation for Belgium's both current and future squad."
   ]
  },
  {
   "cell_type": "code",
   "execution_count": null,
   "metadata": {},
   "outputs": [],
   "source": [
    "rating_433_BEL_Overall, best_list_433_BEL_Overall = get_best_squad_n(squad_433_strict, 'Belgium', 'Overall')\n",
    "print('-Overall-')\n",
    "print('Average rating: {:.1f}'.format(rating_433_BEL_Overall))\n",
    "print(best_list_433_BEL_Overall)"
   ]
  },
  {
   "cell_type": "code",
   "execution_count": null,
   "metadata": {},
   "outputs": [],
   "source": [
    "rating_433_BEL_Potential, best_list_433_BEL_Potential = get_best_squad_n(squad_433_strict, 'Belgium', 'Potential')\n",
    "print('-Potential-')\n",
    "print('Average rating: {:.1f}'.format(rating_433_BEL_Potential))\n",
    "print(best_list_433_BEL_Potential)"
   ]
  },
  {
   "cell_type": "markdown",
   "metadata": {},
   "source": [
    "![de-bruyne](images/de-bruyne.jpg)\n",
    "\n",
    "### 3.9 - Portugal\n",
    "The winner of Euro 2016 and the best player in the world 3 times in a row, Cristiano Ronaldo, has a real chance in this tournament as well."
   ]
  },
  {
   "cell_type": "code",
   "execution_count": null,
   "metadata": {},
   "outputs": [],
   "source": [
    "Portugal = pd.DataFrame(np.array(get_summary_n(squad_list, squad_name, ['Portugal'])).reshape(-1,4), columns = ['Nationality', 'Squad', 'Overall', 'Potential'])\n",
    "Portugal.set_index('Nationality', inplace = True)\n",
    "Portugal[['Overall', 'Potential']] = Portugal[['Overall', 'Potential']].astype(float)\n",
    "\n",
    "print (Portugal)"
   ]
  },
  {
   "cell_type": "markdown",
   "metadata": {},
   "source": [
    "OK, I'll go with 4-2-3-1 for current rating and 4-3-3 for potential rating of Portugal."
   ]
  },
  {
   "cell_type": "code",
   "execution_count": null,
   "metadata": {},
   "outputs": [],
   "source": [
    "rating_4231_POR_Overall, best_list_4231_POR_Overall = get_best_squad_n(squad_4231_strict, 'Portugal', 'Overall')\n",
    "print('-Overall-')\n",
    "print('Average rating: {:.1f}'.format(rating_4231_POR_Overall))\n",
    "print(best_list_4231_POR_Overall)"
   ]
  },
  {
   "cell_type": "code",
   "execution_count": null,
   "metadata": {},
   "outputs": [],
   "source": [
    "rating_433_POR_Potential, best_list_433_POR_Potential = get_best_squad_n(squad_433_strict, 'Portugal', 'Potential')\n",
    "print('-Potential-')\n",
    "print('Average rating: {:.1f}'.format(rating_433_POR_Potential))\n",
    "print(best_list_433_POR_Potential)"
   ]
  },
  {
   "cell_type": "markdown",
   "metadata": {},
   "source": [
    "![ronaldo](images/ronaldo.jpg)\n",
    "\n",
    "### 3.10 - Uruguay\n",
    "Uruguay has the 2 best strikers in Europe: Suarez & Cavani. Can they perform this time?"
   ]
  },
  {
   "cell_type": "code",
   "execution_count": null,
   "metadata": {},
   "outputs": [],
   "source": [
    "Uruguay = pd.DataFrame(np.array(get_summary_n(squad_list, squad_name, ['Uruguay'])).reshape(-1,4), columns = ['Nationality', 'Squad', 'Overall', 'Potential'])\n",
    "Uruguay.set_index('Nationality', inplace = True)\n",
    "Uruguay[['Overall', 'Potential']] = Uruguay[['Overall', 'Potential']].astype(float)\n",
    "\n",
    "print (Uruguay)"
   ]
  },
  {
   "cell_type": "markdown",
   "metadata": {},
   "source": [
    "Fantastic, Uruguay does best with a 4-3-1-2 for current rating and 4-4-2 for future rating."
   ]
  },
  {
   "cell_type": "code",
   "execution_count": null,
   "metadata": {},
   "outputs": [],
   "source": [
    "rating_4312_URG_Overall, best_list_4312_URG_Overall = get_best_squad_n(squad_4312_strict, 'Uruguay', 'Overall')\n",
    "print('-Overall-')\n",
    "print('Average rating: {:.1f}'.format(rating_4312_URG_Overall))\n",
    "print(best_list_4312_URG_Overall)"
   ]
  },
  {
   "cell_type": "code",
   "execution_count": null,
   "metadata": {},
   "outputs": [],
   "source": [
    "rating_442_URG_Potential, best_list_442_URG_Potential = get_best_squad_n(squad_442_strict, 'Uruguay', 'Potential')\n",
    "print('-Potential-')\n",
    "print('Average rating: {:.1f}'.format(rating_442_URG_Potential))\n",
    "print(best_list_442_URG_Potential)"
   ]
  },
  {
   "cell_type": "markdown",
   "metadata": {},
   "source": [
    "![](images/cavani.jpg)\n",
    "\n",
    "### 3.11 - Croatia\n",
    "Well, I'm a big fan of Modric and Rakitic. Needless to say about their winning habits?"
   ]
  },
  {
   "cell_type": "code",
   "execution_count": null,
   "metadata": {},
   "outputs": [],
   "source": [
    "Croatia = pd.DataFrame(np.array(get_summary_n(squad_list, squad_name, ['Croatia'])).reshape(-1,4), columns = ['Nationality', 'Squad', 'Overall', 'Potential'])\n",
    "Croatia.set_index('Nationality', inplace = True)\n",
    "Croatia[['Overall', 'Potential']] = Croatia[['Overall', 'Potential']].astype(float)\n",
    "\n",
    "print (Croatia)"
   ]
  },
  {
   "cell_type": "markdown",
   "metadata": {},
   "source": [
    "Dope, Croatia is superior with a 4-2-3-1 using current form and 4-3-3 using potential form."
   ]
  },
  {
   "cell_type": "code",
   "execution_count": null,
   "metadata": {},
   "outputs": [],
   "source": [
    "rating_4231_CRO_Overall, best_list_4231_CRO_Overall = get_best_squad_n(squad_4231_strict, 'Croatia', 'Overall')\n",
    "print('-Overall-')\n",
    "print('Average rating: {:.1f}'.format(rating_4231_CRO_Overall))\n",
    "print(best_list_4231_CRO_Overall)"
   ]
  },
  {
   "cell_type": "code",
   "execution_count": null,
   "metadata": {},
   "outputs": [],
   "source": [
    "rating_433_CRO_Potential, best_list_433_CRO_Potential = get_best_squad_n(squad_433_strict, 'Croatia', 'Potential')\n",
    "print('-Potential-')\n",
    "print('Average rating: {:.1f}'.format(rating_433_CRO_Potential))\n",
    "print(best_list_433_CRO_Potential)"
   ]
  },
  {
   "cell_type": "markdown",
   "metadata": {},
   "source": [
    "![](images/modric.jpg)\n",
    "\n",
    "## 4 - Final Comparison\n",
    "Ok, let's make some comparison between these 10 line-ups with the current rating of players for these strongest contenders for World Cup 2018."
   ]
  },
  {
   "cell_type": "code",
   "execution_count": null,
   "metadata": {},
   "outputs": [],
   "source": [
    "teams = ('France', 'Germany', 'Spain', 'England', 'Brazil', 'Argentina', 'Belgium', 'Portugal', 'Uruguay', 'Croatia')\n",
    "index = np.arange(len(teams))\n",
    "average_overall = [84.6, 86.3, 86.6, 82.7, 85.5, 84.3, 84.3, 83.5, 81.1, 81.6]\n",
    "\n",
    "plt.figure(figsize=(16,8))\n",
    "plt.barh(index, average_overall, align='center', alpha=0.5)\n",
    "plt.yticks(index, teams, fontsize=20)\n",
    "plt.ylabel('National Teams', fontsize=25)\n",
    "plt.xlabel('Average Overall', fontsize=25)\n",
    "plt.title('Average Overall Rating of Players', fontsize=30, fontweight='bold', y=1.05,)\n",
    " \n",
    "plt.show()"
   ]
  },
  {
   "cell_type": "code",
   "execution_count": null,
   "metadata": {},
   "outputs": [],
   "source": [
    "total_value = [446.5, 502, 484.5, 298.5, 433, 382, 440.5, 323, 283.5, 244.9]\n",
    "\n",
    "plt.figure(figsize=(16,8))\n",
    "plt.barh(index, total_value, align='center', alpha=0.5, color='red')\n",
    "plt.yticks(index, teams, fontsize=20)\n",
    "plt.ylabel('National Teams', fontsize=25)\n",
    "plt.xlabel('Total Value in Million Euros', fontsize=25)\n",
    "plt.title('Total Value of Players', fontsize=30, fontweight='bold', y=1.05,)\n",
    " \n",
    "plt.show()"
   ]
  },
  {
   "cell_type": "code",
   "execution_count": null,
   "metadata": {},
   "outputs": [],
   "source": [
    "average_wage = [141, 188, 228, 119, 167, 151, 166, 118, 99, 110]\n",
    "\n",
    "plt.figure(figsize=(16,8))\n",
    "plt.barh(index, average_wage, align='center', alpha=0.5, color='green')\n",
    "plt.yticks(index, teams, fontsize=20)\n",
    "plt.ylabel('National Teams', fontsize=25)\n",
    "plt.xlabel('Average Wages in Thousand Euros', fontsize=25)\n",
    "plt.title('Average Wages of Players', fontsize=30, fontweight='bold', y=1.05,)\n",
    " \n",
    "plt.show()"
   ]
  },
  {
   "cell_type": "markdown",
   "metadata": {},
   "source": [
    "## Conclusion\n",
    "So based purely on the FIFA 18 Data:\n",
    "* Spain has the highest average overall rating, followed by Germany and Brazil. \n",
    "* Germany has the highest total value, followed by Spain and France. \n",
    "* Spain has the highest average wage, followed by Germany and Brazil.\n",
    "\n",
    "My bet is for a **Spain vs Germany** in the final, and **Brazil vs France** for the 3rd place. Your turn?"
   ]
  }
 ],
 "metadata": {
  "kernelspec": {
   "display_name": "Python 3",
   "language": "python",
   "name": "python3"
  },
  "language_info": {
   "codemirror_mode": {
    "name": "ipython",
    "version": 3
   },
   "file_extension": ".py",
   "mimetype": "text/x-python",
   "name": "python",
   "nbconvert_exporter": "python",
   "pygments_lexer": "ipython3",
   "version": "3.6.5"
  }
 },
 "nbformat": 4,
 "nbformat_minor": 2
}
