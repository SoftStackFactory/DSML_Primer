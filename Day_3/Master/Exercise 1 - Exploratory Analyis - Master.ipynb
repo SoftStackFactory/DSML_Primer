{
 "cells": [
  {
   "cell_type": "markdown",
   "metadata": {},
   "source": [
    "<br><hr id=\"toc\">\n",
    "\n",
    "### In this module...\n",
    "\n",
    "In this module, we'll go through the essential exploratory analysis steps:\n",
    "1. [Basic information](#basic)\n",
    "2. [Distributions of numeric features](#numeric)\n",
    "3. [Distributions of categorical features](#categorical)\n",
    "4. [Segmentations](#segmentations)\n",
    "5. [Advanced segmentations](#advanced-segmentations) \n",
    "\n",
    "\n",
    "This time, however, you'll be in the driver's seat.\n",
    "<br><hr>"
   ]
  },
  {
   "cell_type": "markdown",
   "metadata": {},
   "source": [
    "### First, let's import libraries and load the dataset.\n",
    "\n",
    "In general, it's good practice to keep all of your library imports at the top of your notebook or program.\n",
    "\n",
    "<br>\n",
    "**Starting from this project, we'll have you identify which libraries to import.**\n",
    "* Up to now, we've taken care of this for you so you could focus on the content.\n",
    "* However, getting familiar with importing libraries is actually pretty important.\n",
    "* **Tip:** If you forget one, you can always add it here later and re-run this code block.\n",
    "\n",
    "We've provided comments for guidance."
   ]
  },
  {
   "cell_type": "code",
   "execution_count": null,
   "metadata": {},
   "outputs": [],
   "source": [
    "# NumPy for numerical computing\n",
    "import numpy as np\n",
    "\n",
    "# Pandas for DataFrames\n",
    "import pandas as pd \n",
    "pd.set_option('display.max_columns', 100)\n",
    "\n",
    "# Matplotlib for visualization\n",
    "from matplotlib import pyplot as plt\n",
    "\n",
    "# display plots in the notebook\n",
    "%matplotlib inline\n",
    "\n",
    "# Seaborn for easier visualization\n",
    "import seaborn as sns"
   ]
  },
  {
   "cell_type": "markdown",
   "metadata": {},
   "source": [
    "Next, let's import the dataset.\n",
    "* The file path is <code style=\"color:crimson\">'project_files/employee_data.csv'</code>"
   ]
  },
  {
   "cell_type": "code",
   "execution_count": null,
   "metadata": {},
   "outputs": [],
   "source": [
    "# Load employee data from CSV\n",
    "df = pd.read_csv('project_files/employee_data.csv')"
   ]
  },
  {
   "cell_type": "markdown",
   "metadata": {},
   "source": [
    "Now we're ready to jump into exploring the data!"
   ]
  },
  {
   "cell_type": "markdown",
   "metadata": {},
   "source": [
    "<span id=\"basic\"></span>\n",
    "# 1. Basic information\n",
    "\n",
    "Let's begin by displaying the dataset's basic information.\n",
    "\n",
    "<br>\n",
    "**First, display the <span style=\"color:royalblue\">dimensions</span> (a.k.a. shape) of the dataset.**"
   ]
  },
  {
   "cell_type": "code",
   "execution_count": null,
   "metadata": {},
   "outputs": [],
   "source": [
    "# Dataframe dimensions\n",
    "df.shape"
   ]
  },
  {
   "cell_type": "markdown",
   "metadata": {},
   "source": [
    "**Next, display the <span style=\"color:royalblue\">datatypes</span> of the features.**\n",
    "* Which are the **numeric** features?\n",
    "* Which are the **categorical** features?"
   ]
  },
  {
   "cell_type": "code",
   "execution_count": null,
   "metadata": {},
   "outputs": [],
   "source": [
    "# Column datatypes\n",
    "df.dtypes"
   ]
  },
  {
   "cell_type": "markdown",
   "metadata": {},
   "source": [
    "**Next, display the first 10 <span style=\"color:royalblue\">example observations</span> from the dataset.**\n",
    "* Remember, the purpose is not to perform rigorous analysis. \n",
    "* Instead, it's to get a **qualitative \"feel\"** for the dataset."
   ]
  },
  {
   "cell_type": "code",
   "execution_count": null,
   "metadata": {},
   "outputs": [],
   "source": [
    "# First 10 rows of data\n",
    "df.head(10)"
   ]
  },
  {
   "cell_type": "markdown",
   "metadata": {},
   "source": [
    "**Finally, display the last 10 rows of data to check for any signs of <span style=\"color:royalblue\">corrupted data</span>.**\n",
    "* Corrupted data will usually appear as a bunch of gibberish. It will be obvious.\n",
    "* Most of the time, you won't have corrupted data... but this is still a quick and easy check."
   ]
  },
  {
   "cell_type": "code",
   "execution_count": null,
   "metadata": {},
   "outputs": [],
   "source": [
    "# Last 10 rows of data\n",
    "df.tail(10)"
   ]
  },
  {
   "cell_type": "markdown",
   "metadata": {},
   "source": [
    "<div style=\"text-align:center; margin: 40px 0 40px 0; font-weight:bold\">\n",
    "[Back to Contents](#toc)\n",
    "</div>"
   ]
  },
  {
   "cell_type": "markdown",
   "metadata": {},
   "source": [
    "<span id=\"numeric\"></span>\n",
    "# 2. Distributions of numeric features\n",
    "\n",
    "One of the most enlightening data exploration tasks is plotting the distributions of your features.\n",
    "\n",
    "<br>\n",
    "**First, plot the Pandas <span style=\"color:royalblue\">histogram grid</span> for all the numeric features.** \n",
    "\n",
    "Feel free to mess around with the settings and formatting, but here are the settings we used for reference:\n",
    "* We made the figure size 10x10\n",
    "* We also rotated x-labels by -45 degrees"
   ]
  },
  {
   "cell_type": "code",
   "execution_count": null,
   "metadata": {},
   "outputs": [],
   "source": [
    "# Plot histogram grid\n",
    "df.hist(xrot=-45, figsize=(10, 10))\n",
    "plt.show()"
   ]
  },
  {
   "cell_type": "markdown",
   "metadata": {},
   "source": [
    "**Next, display formal <span style=\"color:royalblue\">summary statistics</span> for the numeric features.**"
   ]
  },
  {
   "cell_type": "code",
   "execution_count": null,
   "metadata": {
    "scrolled": true
   },
   "outputs": [],
   "source": [
    "# Summarize numerical features\n",
    "df.describe()"
   ]
  },
  {
   "cell_type": "markdown",
   "metadata": {},
   "source": [
    "<div style=\"text-align:center; margin: 40px 0 40px 0; font-weight:bold\">\n",
    "[Back to Contents](#toc)\n",
    "</div>"
   ]
  },
  {
   "cell_type": "markdown",
   "metadata": {},
   "source": [
    "<span id=\"categorical\"></span>\n",
    "# 3. Distributions of categorical features\n",
    "\n",
    "Next, let's take a look at the distributions of our categorical features.\n",
    "\n",
    "<br>\n",
    "**First, display the <span style=\"color:royalblue\">summary statistics</span> for categorical features in the dataset.**"
   ]
  },
  {
   "cell_type": "code",
   "execution_count": null,
   "metadata": {},
   "outputs": [],
   "source": [
    "# Summarize categorical features\n",
    "df.describe(include=[\"object\"])"
   ]
  },
  {
   "cell_type": "markdown",
   "metadata": {},
   "source": [
    "**Using a loop, display <span style=\"color:royalblue\">bar plots</span> for each of the categorical features.**"
   ]
  },
  {
   "cell_type": "code",
   "execution_count": null,
   "metadata": {},
   "outputs": [],
   "source": [
    "# Plot bar plot for each categorical feature\n",
    "for features in df.dtypes[df.dtypes == 'object'].index: \n",
    "    sns.countplot(y=features, data=df)\n",
    "    plt.show()"
   ]
  },
  {
   "cell_type": "markdown",
   "metadata": {},
   "source": [
    "<div style=\"text-align:center; margin: 40px 0 40px 0; font-weight:bold\">\n",
    "[Back to Contents](#toc)\n",
    "</div>"
   ]
  },
  {
   "cell_type": "markdown",
   "metadata": {},
   "source": [
    "<span id=\"segmentations\"></span>\n",
    "# 4. Segmentations\n",
    "\n",
    "Next, let's create some segmentations. Segmentations are powerful ways to cut the data to observe the relationship between categorical features and numeric features.\n",
    "\n",
    "**First, display a <span style=\"color:royalblue\">violin plot</span> with <code style=\"color:steelblue\">'status'</code> on the y-axis and <code style=\"color:steelblue\">'satisfaction'</code> on the x-axis.**"
   ]
  },
  {
   "cell_type": "code",
   "execution_count": null,
   "metadata": {},
   "outputs": [],
   "source": [
    "# Segment satisfaction by status and plot distributions\n",
    "sns.violinplot(y=\"status\", x=\"satisfaction\", data=df)"
   ]
  },
  {
   "cell_type": "markdown",
   "metadata": {},
   "source": [
    "**Next, display a violin plot that segments <code style=\"color:steelblue\">'last_evaluation'</code> by <code style=\"color:steelblue\">'status'</code>.**"
   ]
  },
  {
   "cell_type": "code",
   "execution_count": null,
   "metadata": {},
   "outputs": [],
   "source": [
    "# Segment last_evaluation by status and plot distributions\n",
    "sns.violinplot(y=\"status\", x=\"last_evaluation\", data=df)"
   ]
  },
  {
   "cell_type": "markdown",
   "metadata": {},
   "source": [
    "**<span style=\"color:royalblue\">Group by</span> <code style=\"color:steelblue\">'status'</code> and calculate the average value of each feature within each class.**"
   ]
  },
  {
   "cell_type": "code",
   "execution_count": null,
   "metadata": {},
   "outputs": [],
   "source": [
    "# Segment by status and display the means within each class\n",
    "df.groupby('status').mean()"
   ]
  },
  {
   "cell_type": "markdown",
   "metadata": {},
   "source": [
    "<div style=\"text-align:center; margin: 40px 0 40px 0; font-weight:bold\">\n",
    "[Back to Contents](#toc)\n",
    "</div>"
   ]
  },
  {
   "cell_type": "markdown",
   "metadata": {},
   "source": [
    "<span id=\"advanced-segmentations\"></span>\n",
    "# 5. Advanced segmentations\n",
    "\n",
    "Because the target variable is categorical, it can often be helpful to expand your segmentation analysis. \n",
    "\n",
    "<br>\n",
    "**Now, we'll see how to do bivariate segmentations, which can be produced with the <code style=\"color:steelblue\">sns.lmplot()</code> function from the Seaborn library.**\n",
    "* <code style=\"color:steelblue\">sns.lmplot()</code> is essentially a regular **scatterplot** with additional options.\n",
    "* For example, we can color each point based on its <code style=\"color:steelblue\">'status'</code>.\n",
    "* To do so, we'll use the <code style=\"color:steelblue\">hue=</code> argument."
   ]
  },
  {
   "cell_type": "code",
   "execution_count": null,
   "metadata": {},
   "outputs": [],
   "source": [
    "# Scatterplot of satisfaction vs. last_evaluation\n",
    "sns.lmplot(y=\"satisfaction\", x=\"last_evaluation\", data=df, hue='status', fit_reg=None)"
   ]
  },
  {
   "cell_type": "markdown",
   "metadata": {},
   "source": [
    "**Plot another scatterplot of <code style=\"color:steelblue\">'satisfaction'</code> and <code style=\"color:steelblue\">'last_evaluation'</code>, but only for employees who have <code style=\"color:crimson\">'Left'</code>.**\n",
    "* **Hint:** Do you still need the <code style=\"color:steelblue\">hue=</code> argument?\n",
    "* **Hint:** How might you change the <code style=\"color:steelblue\">data=df</code> argument?"
   ]
  },
  {
   "cell_type": "code",
   "execution_count": null,
   "metadata": {},
   "outputs": [],
   "source": [
    "# Scatterplot of satisfaction vs. last_evaluation, only those who have left\n",
    "sns.lmplot(y=\"satisfaction\", x=\"last_evaluation\", data=df[df.status == 'Left'], hue='status', fit_reg=None)"
   ]
  },
  {
   "cell_type": "markdown",
   "metadata": {},
   "source": [
    "<div style=\"text-align:center; margin: 40px 0 40px 0; font-weight:bold\">\n",
    "[Back to Contents](#toc)\n",
    "</div>"
   ]
  },
  {
   "cell_type": "markdown",
   "metadata": {},
   "source": [
    "<br>\n",
    "\n",
    "Congratulations for making through Exploratory Analysis!\n",
    "\n",
    "Before powering on, we recommend going back and reviewing the charts you made. This time, since you've already created them, you can move through more quickly and really start to understand the **story** behind the data.\n",
    "\n",
    "As a reminder, here are a few things you did in this module:\n",
    "* You explored basic information about your dataset.\n",
    "* You plotted distributions of numeric and categorical features.\n",
    "* You segmented your dataset by <code style=\"color:steelblue\">'status'</code>.\n",
    "* And you dove into some advanced, bivariate segmentations.\n",
    "\n",
    "<div style=\"text-align:center; margin: 40px 0 40px 0; font-weight:bold\">\n",
    "[Back to Contents](#toc)\n",
    "</div>"
   ]
  },
  {
   "cell_type": "code",
   "execution_count": null,
   "metadata": {},
   "outputs": [],
   "source": []
  }
 ],
 "metadata": {
  "anaconda-cloud": {},
  "kernelspec": {
   "display_name": "Python 3",
   "language": "python",
   "name": "python3"
  },
  "language_info": {
   "codemirror_mode": {
    "name": "ipython",
    "version": 3
   },
   "file_extension": ".py",
   "mimetype": "text/x-python",
   "name": "python",
   "nbconvert_exporter": "python",
   "pygments_lexer": "ipython3",
   "version": "3.6.5"
  }
 },
 "nbformat": 4,
 "nbformat_minor": 1
}
