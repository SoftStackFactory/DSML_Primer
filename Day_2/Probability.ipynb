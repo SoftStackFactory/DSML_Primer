{
 "cells": [
  {
   "cell_type": "markdown",
   "metadata": {},
   "source": [
    "# Probabilities\n",
    "> The most routine task of statistics is to find the probability that an event, or a series of events, will occur.\n",
    "\n",
    "## Events vs Sample Space\n",
    "### A Sample Space could be though of as a list of all possible outcomes that an event could take.\n",
    "> EX: Sample space for Six-Sided die - Sample Space = {1,2,3,4,5,6}\n",
    "\n",
    "### An Event could be thought of as the probability of a subset of the event space.\n",
    "> Ex: Probability that dice roll results in a 3 - P(x = 3) = 1/6\n",
    "\n",
    "### In the dice example, events of interest might include\n",
    "> a) The outcome is an even number.\n",
    "\n",
    "> b) The outcome is less than three.\n",
    "\n",
    "> ... etc\n",
    "\n",
    "<br>\n",
    "<br>\n",
    "\n",
    "## Types of events\n",
    "\n",
    "### Simple Events \n",
    "#### Events that should only have one representative in sample space.\n",
    "> Ex: Rolling a 3: There is only 1 event where a dice roll can result in a 3. P(x = 3)\n",
    "\n",
    "### Compound Events \n",
    "#### Events where there are multiple representatives in sample space.\n",
    "> Ex: Rolling an Even: There is more than 1 event where a dice roll can result in an even number. p(x = 2, x = 4, or x = 6)\n",
    "\n",
    "### Certain Events\n",
    "#### Events that have a certainty of occuring.\n",
    "> Ex: Rolling a number between 1-6: This may seem trivial but the distinction is important.\n",
    "\n",
    "### Impossible Events\n",
    "#### Events that have a certainty of NOT occuring.\n",
    "> Ex: Rolling a 7: This may also seem trivial but the distinction is equally as important.\n",
    "\n",
    "### Equally Likely Events\n",
    "#### Events that are equally likely to occur.\n",
    "> Ex: Rolling an Even || Rolling an Odd: A fair die has equal amount of Evens as Odds, the probabilities are equally likely.\n",
    "\n",
    "### Complementary Events\n",
    "#### Events that are complements to eachother. Cannot occur at the same time.\n",
    "> Ex: Rolling an Even || Rolling an Odd: When you roll an Even, the probability of rolling an odd is complementary.\n",
    "\n",
    "> Ex: p(x = even) = p1  || p(x = odd) = [1 - p1]\n",
    "\n",
    "### Mutually Exclusive Events \n",
    "#### Similar to complementary events except not necessarily binary.\n",
    "> Ex: Two simple events are ALWAYS mutually exclusive. you CANNOT roll a 1 AND 3\n",
    "\n",
    "> Ex: Two compound events may or may not be. you CAN roll a 2 AND an Even"
   ]
  },
  {
   "cell_type": "markdown",
   "metadata": {},
   "source": [
    "# Actual Programming ;)"
   ]
  },
  {
   "cell_type": "markdown",
   "metadata": {},
   "source": [
    "## Coin Toss\n",
    "\n",
    "You toss a coin 30 times and see head 24 times. Is it a fair coin?\n",
    "\n",
    "**Hypothesis 1**: Tossing a fair coin will get you 15 heads in 30 tosses. This coin is biased\n",
    "\n",
    "**Hypothesis 2**: Come on, even a fair coin could show 24 heads in 30 tosses. This is just by chance\n",
    "\n",
    "#### Statistical Method\n",
    "\n",
    "P(H) = ? \n",
    "\n",
    "P(HH) = ?\n",
    "\n",
    "P(THH) = ?\n",
    "\n",
    "Now, slightly tougher : P(2H, 1T) = ?\n",
    "\n",
    "Generalizing, \n",
    "\n",
    "<img style=\"float: left;\" src=\"img/binomial.gif\">\n",
    "\n",
    "<br>\n",
    "<br>\n",
    "<br>\n",
    "<br>\n",
    "\n",
    "\n",
    "**What is the probability of getting 24 heads in 30 tosses ?**\n",
    "\n",
    "It is the probability of getting heads 24 times or more. \n",
    "\n",
    "#### Hacker's Approach\n",
    "\n",
    "Simulation. Run the experiment 100,000 times. Find the percentage of times the experiment returned 24 or more heads. If it is more than 5%, we conclude that the coin is biased. "
   ]
  },
  {
   "cell_type": "code",
   "execution_count": 2,
   "metadata": {},
   "outputs": [
    {
     "name": "stdout",
     "output_type": "stream",
     "text": [
      "Data of the Experiment: [1 0 0 0 1 0 0 1 1 1 1 0 0 1 1 1 0 0 1 1 0 0 0 0 1 1 1 1 0 0]\n",
      "Heads in the Experiment: [1 1 1 1 1 1 1 1 1 1 1 1 1 1 1]\n",
      "Number of heads in the experiment: 15\n"
     ]
    }
   ],
   "source": [
    "import numpy as np  \n",
    "\n",
    "total_tosses = 30\n",
    "num_heads = 24\n",
    "prob_head = 0.5\n",
    "\n",
    "#0 is tail. 1 is heads. Generate one experiment\n",
    "experiment = np.random.randint(0,2,total_tosses)\n",
    "print(\"Data of the Experiment:\", experiment)\n",
    "\n",
    "#Find the number of heads\n",
    "print(\"Heads in the Experiment:\", experiment[experiment==1])  #This will give all the heads in the array\n",
    "\n",
    "head_count = experiment[experiment==1].shape[0] #This will get the count of heads in the array\n",
    "print(\"Number of heads in the experiment:\", head_count)"
   ]
  },
  {
   "cell_type": "code",
   "execution_count": 16,
   "metadata": {},
   "outputs": [],
   "source": [
    "#Now, the above experiment needs to be repeated 100 times. Let's write a function and put the above code in a loop\n",
    "\n",
    "def coin_toss_experiment(times_to_repeat):\n",
    "\n",
    "    # Creates an \"empty\" 2-dimensional head_count array with 100 \"arrays\" inside. \n",
    "    # We will populate each array with each iteration of the loop\n",
    "    # In other words: head_count is a container that we will later fill with several experimental head_count arrays.\n",
    "    # As such: \n",
    "    '''\n",
    "    head_count = [ [heads_in_trial_1], \n",
    "                   [heads_in_trial_2]], \n",
    "                                  ... , \n",
    "                   [heads_in_trial_n]]\n",
    "            where 'n' is our 'times_to_repeat' parameter\n",
    "    '''\n",
    "    \n",
    "    head_count = np.empty([times_to_repeat,1], dtype=int)\n",
    "    \n",
    "    for trial in np.arange(times_to_repeat):\n",
    "        \n",
    "        # Experiment will be 1 for heads or 0 for tails.\n",
    "        experiment = np.random.randint(0,2,total_tosses)\n",
    "        \n",
    "        # Attaches the amount of heads per trial to matching array in head_array.\n",
    "        head_count[trial] = experiment[experiment==1].shape[0]\n",
    "        \n",
    "        # Verify for yourself:\n",
    "        # print(\"Trial:\", trial, \"head_count:\", head_count[trial])\n",
    "    \n",
    "    return head_count"
   ]
  },
  {
   "cell_type": "code",
   "execution_count": 17,
   "metadata": {},
   "outputs": [],
   "source": [
    "head_count = coin_toss_experiment(100)"
   ]
  },
  {
   "cell_type": "code",
   "execution_count": 4,
   "metadata": {},
   "outputs": [
    {
     "data": {
      "text/plain": [
       "array([[15],\n",
       "       [13],\n",
       "       [15],\n",
       "       [16],\n",
       "       [11],\n",
       "       [16],\n",
       "       [14],\n",
       "       [16],\n",
       "       [13],\n",
       "       [17]])"
      ]
     },
     "execution_count": 4,
     "metadata": {},
     "output_type": "execute_result"
    }
   ],
   "source": [
    "head_count[:10] "
   ]
  },
  {
   "cell_type": "code",
   "execution_count": 19,
   "metadata": {},
   "outputs": [
    {
     "name": "stdout",
     "output_type": "stream",
     "text": [
      "Dimensions: (100, 1) \n",
      " Type of object: <class 'numpy.ndarray'>\n"
     ]
    }
   ],
   "source": [
    "print(\"Dimensions:\", head_count.shape, \"\\n\",\"Type of object:\", type(head_count))"
   ]
  },
  {
   "cell_type": "code",
   "execution_count": 20,
   "metadata": {
    "collapsed": true
   },
   "outputs": [],
   "source": [
    "#Let's plot the above distribution\n",
    "import matplotlib.pyplot as plt\n",
    "%matplotlib inline\n",
    "import seaborn as sns\n",
    "sns.set(color_codes = True)"
   ]
  },
  {
   "cell_type": "code",
   "execution_count": 23,
   "metadata": {},
   "outputs": [
    {
     "data": {
      "text/plain": [
       "<matplotlib.axes._subplots.AxesSubplot at 0x1bc3dd672b0>"
      ]
     },
     "execution_count": 23,
     "metadata": {},
     "output_type": "execute_result"
    },
    {
     "data": {
      "image/png": "[encoded data removed]",
      "text/plain": [
       "<matplotlib.figure.Figure at 0x1bc3e0b5c18>"
      ]
     },
     "metadata": {},
     "output_type": "display_data"
    }
   ],
   "source": [
    "sns.distplot(head_count, kde=False)"
   ]
  },
  {
   "cell_type": "markdown",
   "metadata": {},
   "source": [
    "**Exercise**: Try setting `kde=True` in the above cell and observe what happens"
   ]
  },
  {
   "cell_type": "code",
   "execution_count": null,
   "metadata": {
    "collapsed": true
   },
   "outputs": [],
   "source": [
    "# Do that here..."
   ]
  },
  {
   "cell_type": "code",
   "execution_count": 24,
   "metadata": {},
   "outputs": [
    {
     "data": {
      "text/plain": [
       "array([], dtype=int32)"
      ]
     },
     "execution_count": 24,
     "metadata": {},
     "output_type": "execute_result"
    }
   ],
   "source": [
    "#Number of times the experiment returned 24 heads.\n",
    "head_count[head_count>=24]"
   ]
  },
  {
   "cell_type": "code",
   "execution_count": 9,
   "metadata": {},
   "outputs": [
    {
     "name": "stdout",
     "output_type": "stream",
     "text": [
      "No of times experiment returned 24 heads or more: 0\n",
      "% of times with 24 or more heads:  0.0\n"
     ]
    }
   ],
   "source": [
    "print(\"No of times experiment returned 24 heads or more:\", head_count[head_count>=24].shape[0])\n",
    "print(\"% of times with 24 or more heads: \", head_count[head_count>=24].shape[0]/float(head_count.shape[0])*100"
   ]
  },
  {
   "cell_type": "code",
   "execution_count": null,
   "metadata": {
    "collapsed": true
   },
   "outputs": [],
   "source": []
  },
  {
   "cell_type": "markdown",
   "metadata": {},
   "source": [
    "####  Exercise: Repeat the experiment 100,000 times. "
   ]
  },
  {
   "cell_type": "code",
   "execution_count": null,
   "metadata": {
    "collapsed": true
   },
   "outputs": [],
   "source": []
  },
  {
   "cell_type": "markdown",
   "metadata": {},
   "source": [
    "# Is the coin fair?"
   ]
  },
  {
   "cell_type": "code",
   "execution_count": null,
   "metadata": {
    "collapsed": true
   },
   "outputs": [],
   "source": []
  },
  {
   "cell_type": "markdown",
   "metadata": {},
   "source": [
    "### Extra pointers on numpy"
   ]
  },
  {
   "cell_type": "markdown",
   "metadata": {},
   "source": [
    "**** Removing `for` loop in the funciton ****"
   ]
  },
  {
   "cell_type": "code",
   "execution_count": 10,
   "metadata": {
    "collapsed": true
   },
   "outputs": [],
   "source": [
    "def coin_toss_experiment_2(times_to_repeat):\n",
    "\n",
    "    head_count = np.empty([times_to_repeat,1], dtype=int)\n",
    "    experiment = np.random.randint(0,2,[times_to_repeat,total_tosses])\n",
    "    return experiment.sum(axis=1)"
   ]
  },
  {
   "cell_type": "markdown",
   "metadata": {},
   "source": [
    "#### Exercise: Benchmark `coin_toss_experiment` and `coin_toss_experiment_2` for 100 and 100,000 runs and report improvements, if any"
   ]
  },
  {
   "cell_type": "code",
   "execution_count": null,
   "metadata": {
    "collapsed": true
   },
   "outputs": [],
   "source": []
  }
 ],
 "metadata": {
  "kernelspec": {
   "display_name": "Python 3",
   "language": "python",
   "name": "python3"
  },
  "language_info": {
   "codemirror_mode": {
    "name": "ipython",
    "version": 3
   },
   "file_extension": ".py",
   "mimetype": "text/x-python",
   "name": "python",
   "nbconvert_exporter": "python",
   "pygments_lexer": "ipython3",
   "version": "3.6.5"
  }
 },
 "nbformat": 4,
 "nbformat_minor": 1
}
